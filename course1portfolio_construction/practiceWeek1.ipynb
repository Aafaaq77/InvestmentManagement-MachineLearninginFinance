{
 "cells": [
  {
   "cell_type": "code",
   "execution_count": 1,
   "id": "monetary-snowboard",
   "metadata": {},
   "outputs": [],
   "source": [
    "import numpy as np\n",
    "import pandas as pd\n",
    "import edhec_risk_kit as erk"
   ]
  },
  {
   "cell_type": "code",
   "execution_count": 2,
   "id": "aware-monroe",
   "metadata": {},
   "outputs": [
    {
     "data": {
      "text/html": [
       "<div>\n",
       "<style scoped>\n",
       "    .dataframe tbody tr th:only-of-type {\n",
       "        vertical-align: middle;\n",
       "    }\n",
       "\n",
       "    .dataframe tbody tr th {\n",
       "        vertical-align: top;\n",
       "    }\n",
       "\n",
       "    .dataframe thead th {\n",
       "        text-align: right;\n",
       "    }\n",
       "</style>\n",
       "<table border=\"1\" class=\"dataframe\">\n",
       "  <thead>\n",
       "    <tr style=\"text-align: right;\">\n",
       "      <th></th>\n",
       "      <th>Small20%</th>\n",
       "      <th>Large20%</th>\n",
       "    </tr>\n",
       "  </thead>\n",
       "  <tbody>\n",
       "    <tr>\n",
       "      <th>1926-07</th>\n",
       "      <td>-0.0057</td>\n",
       "      <td>0.0333</td>\n",
       "    </tr>\n",
       "    <tr>\n",
       "      <th>1926-08</th>\n",
       "      <td>0.0384</td>\n",
       "      <td>0.0233</td>\n",
       "    </tr>\n",
       "    <tr>\n",
       "      <th>1926-09</th>\n",
       "      <td>-0.0048</td>\n",
       "      <td>-0.0009</td>\n",
       "    </tr>\n",
       "    <tr>\n",
       "      <th>1926-10</th>\n",
       "      <td>-0.0329</td>\n",
       "      <td>-0.0295</td>\n",
       "    </tr>\n",
       "    <tr>\n",
       "      <th>1926-11</th>\n",
       "      <td>-0.0055</td>\n",
       "      <td>0.0316</td>\n",
       "    </tr>\n",
       "  </tbody>\n",
       "</table>\n",
       "</div>"
      ],
      "text/plain": [
       "         Small20%  Large20%\n",
       "1926-07   -0.0057    0.0333\n",
       "1926-08    0.0384    0.0233\n",
       "1926-09   -0.0048   -0.0009\n",
       "1926-10   -0.0329   -0.0295\n",
       "1926-11   -0.0055    0.0316"
      ]
     },
     "execution_count": 2,
     "metadata": {},
     "output_type": "execute_result"
    }
   ],
   "source": [
    "returns = erk.get_ffme_returns(cap_a='Lo 20', cap_b='Hi 20', label_b='Large20%', label_a='Small20%')\n",
    "returns.head()"
   ]
  },
  {
   "cell_type": "code",
   "execution_count": 3,
   "id": "registered-vermont",
   "metadata": {},
   "outputs": [
    {
     "data": {
      "text/plain": [
       "<AxesSubplot:>"
      ]
     },
     "execution_count": 3,
     "metadata": {},
     "output_type": "execute_result"
    },
    {
     "data": {
      "image/png": "[encoded data removed]",
      "text/plain": [
       "<Figure size 432x288 with 1 Axes>"
      ]
     },
     "metadata": {
      "needs_background": "light"
     },
     "output_type": "display_data"
    }
   ],
   "source": [
    "returns.plot()"
   ]
  },
  {
   "cell_type": "code",
   "execution_count": 4,
   "id": "blank-toner",
   "metadata": {},
   "outputs": [
    {
     "data": {
      "text/plain": [
       "Small20%    0.097197\n",
       "Large20%    0.056325\n",
       "dtype: float64"
      ]
     },
     "execution_count": 4,
     "metadata": {},
     "output_type": "execute_result"
    }
   ],
   "source": [
    "returns.std()"
   ]
  },
  {
   "cell_type": "code",
   "execution_count": 5,
   "id": "prompt-whale",
   "metadata": {},
   "outputs": [
    {
     "data": {
      "text/plain": [
       "Small20%    0.336701\n",
       "Large20%    0.195116\n",
       "dtype: float64"
      ]
     },
     "execution_count": 5,
     "metadata": {},
     "output_type": "execute_result"
    }
   ],
   "source": [
    "annualized_vol = returns.std()*np.sqrt(12)\n",
    "annualized_vol"
   ]
  },
  {
   "cell_type": "code",
   "execution_count": 7,
   "id": "yellow-turtle",
   "metadata": {},
   "outputs": [
    {
     "data": {
      "text/plain": [
       "Small20%    0.011860\n",
       "Large20%    0.007859\n",
       "dtype: float64"
      ]
     },
     "execution_count": 7,
     "metadata": {},
     "output_type": "execute_result"
    }
   ],
   "source": [
    "returns_per_month = (returns+1).prod()**(1/returns.shape[0]) - 1\n",
    "returns_per_month"
   ]
  },
  {
   "cell_type": "code",
   "execution_count": 8,
   "id": "empirical-indian",
   "metadata": {},
   "outputs": [
    {
     "data": {
      "text/plain": [
       "Small20%    0.151977\n",
       "Large20%    0.098490\n",
       "dtype: float64"
      ]
     },
     "execution_count": 8,
     "metadata": {},
     "output_type": "execute_result"
    }
   ],
   "source": [
    "annualized_returns = (returns_per_month+1) ** 12 - 1\n",
    "annualized_returns"
   ]
  },
  {
   "cell_type": "code",
   "execution_count": 9,
   "id": "established-musician",
   "metadata": {},
   "outputs": [
    {
     "data": {
      "text/plain": [
       "Small20%    0.451370\n",
       "Large20%    0.504778\n",
       "dtype: float64"
      ]
     },
     "execution_count": 9,
     "metadata": {},
     "output_type": "execute_result"
    }
   ],
   "source": [
    "annualized_returns/annualized_vol"
   ]
  },
  {
   "cell_type": "code",
   "execution_count": 10,
   "id": "communist-boston",
   "metadata": {},
   "outputs": [],
   "source": [
    "risk_free_rate = 0.03 # example rate\n",
    "sharpe_ratio = (annualized_returns - risk_free_rate)/annualized_vol"
   ]
  },
  {
   "cell_type": "code",
   "execution_count": 11,
   "id": "embedded-numbers",
   "metadata": {},
   "outputs": [
    {
     "data": {
      "text/plain": [
       "Small20%    0.362271\n",
       "Large20%    0.351023\n",
       "dtype: float64"
      ]
     },
     "execution_count": 11,
     "metadata": {},
     "output_type": "execute_result"
    }
   ],
   "source": [
    "sharpe_ratio"
   ]
  },
  {
   "cell_type": "code",
   "execution_count": 12,
   "id": "statewide-equity",
   "metadata": {},
   "outputs": [
    {
     "data": {
      "text/html": [
       "<div>\n",
       "<style scoped>\n",
       "    .dataframe tbody tr th:only-of-type {\n",
       "        vertical-align: middle;\n",
       "    }\n",
       "\n",
       "    .dataframe tbody tr th {\n",
       "        vertical-align: top;\n",
       "    }\n",
       "\n",
       "    .dataframe thead th {\n",
       "        text-align: right;\n",
       "    }\n",
       "</style>\n",
       "<table border=\"1\" class=\"dataframe\">\n",
       "  <thead>\n",
       "    <tr style=\"text-align: right;\">\n",
       "      <th></th>\n",
       "      <th>Decile 3</th>\n",
       "      <th>Decile 4</th>\n",
       "    </tr>\n",
       "  </thead>\n",
       "  <tbody>\n",
       "    <tr>\n",
       "      <th>1926-07</th>\n",
       "      <td>-0.0015</td>\n",
       "      <td>0.0133</td>\n",
       "    </tr>\n",
       "    <tr>\n",
       "      <th>1926-08</th>\n",
       "      <td>0.0403</td>\n",
       "      <td>0.0315</td>\n",
       "    </tr>\n",
       "    <tr>\n",
       "      <th>1926-09</th>\n",
       "      <td>-0.0227</td>\n",
       "      <td>-0.0053</td>\n",
       "    </tr>\n",
       "    <tr>\n",
       "      <th>1926-10</th>\n",
       "      <td>-0.0336</td>\n",
       "      <td>-0.0483</td>\n",
       "    </tr>\n",
       "    <tr>\n",
       "      <th>1926-11</th>\n",
       "      <td>-0.0029</td>\n",
       "      <td>0.0465</td>\n",
       "    </tr>\n",
       "  </tbody>\n",
       "</table>\n",
       "</div>"
      ],
      "text/plain": [
       "         Decile 3  Decile 4\n",
       "1926-07   -0.0015    0.0133\n",
       "1926-08    0.0403    0.0315\n",
       "1926-09   -0.0227   -0.0053\n",
       "1926-10   -0.0336   -0.0483\n",
       "1926-11   -0.0029    0.0465"
      ]
     },
     "execution_count": 12,
     "metadata": {},
     "output_type": "execute_result"
    }
   ],
   "source": [
    "returns = erk.get_ffme_returns(cap_a='Dec 3', cap_b='Dec 4', label_a='Decile 3', label_b='Decile 4')\n",
    "returns.head()"
   ]
  },
  {
   "cell_type": "code",
   "execution_count": 13,
   "id": "adequate-segment",
   "metadata": {},
   "outputs": [
    {
     "data": {
      "text/plain": [
       "Decile 3    0.081928\n",
       "Decile 4    0.077232\n",
       "dtype: float64"
      ]
     },
     "execution_count": 13,
     "metadata": {},
     "output_type": "execute_result"
    }
   ],
   "source": [
    "returns.std()"
   ]
  },
  {
   "cell_type": "code",
   "execution_count": 14,
   "id": "copyrighted-valuable",
   "metadata": {},
   "outputs": [
    {
     "data": {
      "text/plain": [
       "Decile 3    0.283806\n",
       "Decile 4    0.267540\n",
       "dtype: float64"
      ]
     },
     "execution_count": 14,
     "metadata": {},
     "output_type": "execute_result"
    }
   ],
   "source": [
    "annualized_vol = returns.std()*np.sqrt(12)\n",
    "annualized_vol"
   ]
  },
  {
   "cell_type": "code",
   "execution_count": 15,
   "id": "preceding-learning",
   "metadata": {},
   "outputs": [
    {
     "data": {
      "text/plain": [
       "Decile 3    0.009565\n",
       "Decile 4    0.009312\n",
       "dtype: float64"
      ]
     },
     "execution_count": 15,
     "metadata": {},
     "output_type": "execute_result"
    }
   ],
   "source": [
    "returns_per_month = (returns+1).prod()**(1/returns.shape[0]) - 1\n",
    "returns_per_month"
   ]
  },
  {
   "cell_type": "code",
   "execution_count": 16,
   "id": "directed-living",
   "metadata": {},
   "outputs": [
    {
     "data": {
      "text/plain": [
       "Decile 3    0.121011\n",
       "Decile 4    0.117643\n",
       "dtype: float64"
      ]
     },
     "execution_count": 16,
     "metadata": {},
     "output_type": "execute_result"
    }
   ],
   "source": [
    "annualized_returns = (returns_per_month + 1)**12 -1\n",
    "annualized_returns"
   ]
  },
  {
   "cell_type": "code",
   "execution_count": 17,
   "id": "suited-palmer",
   "metadata": {},
   "outputs": [
    {
     "data": {
      "text/plain": [
       "<AxesSubplot:>"
      ]
     },
     "execution_count": 17,
     "metadata": {},
     "output_type": "execute_result"
    },
    {
     "data": {
      "image/png": "[encoded data removed]",
      "text/plain": [
       "<Figure size 432x288 with 1 Axes>"
      ]
     },
     "metadata": {
      "needs_background": "light"
     },
     "output_type": "display_data"
    }
   ],
   "source": [
    "returns.plot()"
   ]
  },
  {
   "cell_type": "code",
   "execution_count": 18,
   "id": "bacterial-dairy",
   "metadata": {},
   "outputs": [
    {
     "data": {
      "text/plain": [
       "Decile 3    0.426386\n",
       "Decile 4    0.439720\n",
       "dtype: float64"
      ]
     },
     "execution_count": 18,
     "metadata": {},
     "output_type": "execute_result"
    }
   ],
   "source": [
    "annualized_returns/annualized_vol"
   ]
  },
  {
   "cell_type": "code",
   "execution_count": 19,
   "id": "coral-treasury",
   "metadata": {},
   "outputs": [
    {
     "data": {
      "text/plain": [
       "Decile 3    0.320680\n",
       "Decile 4    0.327587\n",
       "dtype: float64"
      ]
     },
     "execution_count": 19,
     "metadata": {},
     "output_type": "execute_result"
    }
   ],
   "source": [
    "sharpe_ratio = (annualized_returns - risk_free_rate)/annualized_vol\n",
    "sharpe_ratio"
   ]
  },
  {
   "cell_type": "code",
   "execution_count": null,
   "id": "behind-container",
   "metadata": {},
   "outputs": [],
   "source": []
  }
 ],
 "metadata": {
  "kernelspec": {
   "display_name": "Python 3",
   "language": "python",
   "name": "python3"
  },
  "language_info": {
   "codemirror_mode": {
    "name": "ipython",
    "version": 3
   },
   "file_extension": ".py",
   "mimetype": "text/x-python",
   "name": "python",
   "nbconvert_exporter": "python",
   "pygments_lexer": "ipython3",
   "version": "3.7.9"
  }
 },
 "nbformat": 4,
 "nbformat_minor": 5
}
