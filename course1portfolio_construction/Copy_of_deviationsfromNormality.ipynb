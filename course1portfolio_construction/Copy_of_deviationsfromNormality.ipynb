{
  "nbformat": 4,
  "nbformat_minor": 5,
  "metadata": {
    "kernelspec": {
      "display_name": "Python 3",
      "language": "python",
      "name": "python3"
    },
    "language_info": {
      "codemirror_mode": {
        "name": "ipython",
        "version": 3
      },
      "file_extension": ".py",
      "mimetype": "text/x-python",
      "name": "python",
      "nbconvert_exporter": "python",
      "pygments_lexer": "ipython3",
      "version": "3.7.9"
    },
    "colab": {
      "name": "Copy of deviationsfromNormality.ipynb",
      "provenance": [],
      "collapsed_sections": []
    }
  },
  "cells": [
    {
      "cell_type": "markdown",
      "metadata": {
        "id": "exterior-meaning"
      },
      "source": [
        "# Deviations from Normality"
      ],
      "id": "exterior-meaning"
    },
    {
      "cell_type": "code",
      "metadata": {
        "id": "sized-joseph",
        "outputId": "e87bce30-c739-4c43-e334-64e40e44cb7d"
      },
      "source": [
        "%load_ext autoreload\n",
        "%autoreload 2\n",
        "\n",
        "import pandas as pd\n",
        "import edhec_risk_kit as erk"
      ],
      "id": "sized-joseph",
      "execution_count": null,
      "outputs": [
        {
          "output_type": "stream",
          "text": [
            "The autoreload extension is already loaded. To reload it, use:\n",
            "  %reload_ext autoreload\n"
          ],
          "name": "stdout"
        }
      ]
    },
    {
      "cell_type": "code",
      "metadata": {
        "id": "valid-sequence",
        "outputId": "29855759-e76a-4647-fc32-27053518e02d"
      },
      "source": [
        "hfi = erk.get_hfi_returns()\n",
        "hfi.head(4)"
      ],
      "id": "valid-sequence",
      "execution_count": null,
      "outputs": [
        {
          "output_type": "execute_result",
          "data": {
            "text/html": [
              "<div>\n",
              "<style scoped>\n",
              "    .dataframe tbody tr th:only-of-type {\n",
              "        vertical-align: middle;\n",
              "    }\n",
              "\n",
              "    .dataframe tbody tr th {\n",
              "        vertical-align: top;\n",
              "    }\n",
              "\n",
              "    .dataframe thead th {\n",
              "        text-align: right;\n",
              "    }\n",
              "</style>\n",
              "<table border=\"1\" class=\"dataframe\">\n",
              "  <thead>\n",
              "    <tr style=\"text-align: right;\">\n",
              "      <th></th>\n",
              "      <th>Convertible Arbitrage</th>\n",
              "      <th>CTA Global</th>\n",
              "      <th>Distressed Securities</th>\n",
              "      <th>Emerging Markets</th>\n",
              "      <th>Equity Market Neutral</th>\n",
              "      <th>Event Driven</th>\n",
              "      <th>Fixed Income Arbitrage</th>\n",
              "      <th>Global Macro</th>\n",
              "      <th>Long/Short Equity</th>\n",
              "      <th>Merger Arbitrage</th>\n",
              "      <th>Relative Value</th>\n",
              "      <th>Short Selling</th>\n",
              "      <th>Funds Of Funds</th>\n",
              "    </tr>\n",
              "    <tr>\n",
              "      <th>date</th>\n",
              "      <th></th>\n",
              "      <th></th>\n",
              "      <th></th>\n",
              "      <th></th>\n",
              "      <th></th>\n",
              "      <th></th>\n",
              "      <th></th>\n",
              "      <th></th>\n",
              "      <th></th>\n",
              "      <th></th>\n",
              "      <th></th>\n",
              "      <th></th>\n",
              "      <th></th>\n",
              "    </tr>\n",
              "  </thead>\n",
              "  <tbody>\n",
              "    <tr>\n",
              "      <th>1997-01</th>\n",
              "      <td>0.0119</td>\n",
              "      <td>0.0393</td>\n",
              "      <td>0.0178</td>\n",
              "      <td>0.0791</td>\n",
              "      <td>0.0189</td>\n",
              "      <td>0.0213</td>\n",
              "      <td>0.0191</td>\n",
              "      <td>0.0573</td>\n",
              "      <td>0.0281</td>\n",
              "      <td>0.0150</td>\n",
              "      <td>0.0180</td>\n",
              "      <td>-0.0166</td>\n",
              "      <td>0.0317</td>\n",
              "    </tr>\n",
              "    <tr>\n",
              "      <th>1997-02</th>\n",
              "      <td>0.0123</td>\n",
              "      <td>0.0298</td>\n",
              "      <td>0.0122</td>\n",
              "      <td>0.0525</td>\n",
              "      <td>0.0101</td>\n",
              "      <td>0.0084</td>\n",
              "      <td>0.0122</td>\n",
              "      <td>0.0175</td>\n",
              "      <td>-0.0006</td>\n",
              "      <td>0.0034</td>\n",
              "      <td>0.0118</td>\n",
              "      <td>0.0426</td>\n",
              "      <td>0.0106</td>\n",
              "    </tr>\n",
              "    <tr>\n",
              "      <th>1997-03</th>\n",
              "      <td>0.0078</td>\n",
              "      <td>-0.0021</td>\n",
              "      <td>-0.0012</td>\n",
              "      <td>-0.0120</td>\n",
              "      <td>0.0016</td>\n",
              "      <td>-0.0023</td>\n",
              "      <td>0.0109</td>\n",
              "      <td>-0.0119</td>\n",
              "      <td>-0.0084</td>\n",
              "      <td>0.0060</td>\n",
              "      <td>0.0010</td>\n",
              "      <td>0.0778</td>\n",
              "      <td>-0.0077</td>\n",
              "    </tr>\n",
              "    <tr>\n",
              "      <th>1997-04</th>\n",
              "      <td>0.0086</td>\n",
              "      <td>-0.0170</td>\n",
              "      <td>0.0030</td>\n",
              "      <td>0.0119</td>\n",
              "      <td>0.0119</td>\n",
              "      <td>-0.0005</td>\n",
              "      <td>0.0130</td>\n",
              "      <td>0.0172</td>\n",
              "      <td>0.0084</td>\n",
              "      <td>-0.0001</td>\n",
              "      <td>0.0122</td>\n",
              "      <td>-0.0129</td>\n",
              "      <td>0.0009</td>\n",
              "    </tr>\n",
              "  </tbody>\n",
              "</table>\n",
              "</div>"
            ],
            "text/plain": [
              "         Convertible Arbitrage  CTA Global  Distressed Securities  \\\n",
              "date                                                                \n",
              "1997-01                 0.0119      0.0393                 0.0178   \n",
              "1997-02                 0.0123      0.0298                 0.0122   \n",
              "1997-03                 0.0078     -0.0021                -0.0012   \n",
              "1997-04                 0.0086     -0.0170                 0.0030   \n",
              "\n",
              "         Emerging Markets  Equity Market Neutral  Event Driven  \\\n",
              "date                                                             \n",
              "1997-01            0.0791                 0.0189        0.0213   \n",
              "1997-02            0.0525                 0.0101        0.0084   \n",
              "1997-03           -0.0120                 0.0016       -0.0023   \n",
              "1997-04            0.0119                 0.0119       -0.0005   \n",
              "\n",
              "         Fixed Income Arbitrage  Global Macro  Long/Short Equity  \\\n",
              "date                                                               \n",
              "1997-01                  0.0191        0.0573             0.0281   \n",
              "1997-02                  0.0122        0.0175            -0.0006   \n",
              "1997-03                  0.0109       -0.0119            -0.0084   \n",
              "1997-04                  0.0130        0.0172             0.0084   \n",
              "\n",
              "         Merger Arbitrage  Relative Value  Short Selling  Funds Of Funds  \n",
              "date                                                                      \n",
              "1997-01            0.0150          0.0180        -0.0166          0.0317  \n",
              "1997-02            0.0034          0.0118         0.0426          0.0106  \n",
              "1997-03            0.0060          0.0010         0.0778         -0.0077  \n",
              "1997-04           -0.0001          0.0122        -0.0129          0.0009  "
            ]
          },
          "metadata": {
            "tags": []
          },
          "execution_count": 3
        }
      ]
    },
    {
      "cell_type": "code",
      "metadata": {
        "id": "radio-actress",
        "outputId": "4cd0d3a2-fc84-4e2b-c560-2d8990cc9e53"
      },
      "source": [
        "pd.concat([hfi.mean(), hfi.median(), hfi.mean() > hfi.median()], axis='columns')"
      ],
      "id": "radio-actress",
      "execution_count": null,
      "outputs": [
        {
          "output_type": "execute_result",
          "data": {
            "text/html": [
              "<div>\n",
              "<style scoped>\n",
              "    .dataframe tbody tr th:only-of-type {\n",
              "        vertical-align: middle;\n",
              "    }\n",
              "\n",
              "    .dataframe tbody tr th {\n",
              "        vertical-align: top;\n",
              "    }\n",
              "\n",
              "    .dataframe thead th {\n",
              "        text-align: right;\n",
              "    }\n",
              "</style>\n",
              "<table border=\"1\" class=\"dataframe\">\n",
              "  <thead>\n",
              "    <tr style=\"text-align: right;\">\n",
              "      <th></th>\n",
              "      <th>0</th>\n",
              "      <th>1</th>\n",
              "      <th>2</th>\n",
              "    </tr>\n",
              "  </thead>\n",
              "  <tbody>\n",
              "    <tr>\n",
              "      <th>Convertible Arbitrage</th>\n",
              "      <td>0.005508</td>\n",
              "      <td>0.0065</td>\n",
              "      <td>False</td>\n",
              "    </tr>\n",
              "    <tr>\n",
              "      <th>CTA Global</th>\n",
              "      <td>0.004074</td>\n",
              "      <td>0.0014</td>\n",
              "      <td>True</td>\n",
              "    </tr>\n",
              "    <tr>\n",
              "      <th>Distressed Securities</th>\n",
              "      <td>0.006946</td>\n",
              "      <td>0.0089</td>\n",
              "      <td>False</td>\n",
              "    </tr>\n",
              "    <tr>\n",
              "      <th>Emerging Markets</th>\n",
              "      <td>0.006253</td>\n",
              "      <td>0.0096</td>\n",
              "      <td>False</td>\n",
              "    </tr>\n",
              "    <tr>\n",
              "      <th>Equity Market Neutral</th>\n",
              "      <td>0.004498</td>\n",
              "      <td>0.0051</td>\n",
              "      <td>False</td>\n",
              "    </tr>\n",
              "    <tr>\n",
              "      <th>Event Driven</th>\n",
              "      <td>0.006344</td>\n",
              "      <td>0.0084</td>\n",
              "      <td>False</td>\n",
              "    </tr>\n",
              "    <tr>\n",
              "      <th>Fixed Income Arbitrage</th>\n",
              "      <td>0.004365</td>\n",
              "      <td>0.0055</td>\n",
              "      <td>False</td>\n",
              "    </tr>\n",
              "    <tr>\n",
              "      <th>Global Macro</th>\n",
              "      <td>0.005403</td>\n",
              "      <td>0.0038</td>\n",
              "      <td>True</td>\n",
              "    </tr>\n",
              "    <tr>\n",
              "      <th>Long/Short Equity</th>\n",
              "      <td>0.006331</td>\n",
              "      <td>0.0079</td>\n",
              "      <td>False</td>\n",
              "    </tr>\n",
              "    <tr>\n",
              "      <th>Merger Arbitrage</th>\n",
              "      <td>0.005356</td>\n",
              "      <td>0.0060</td>\n",
              "      <td>False</td>\n",
              "    </tr>\n",
              "    <tr>\n",
              "      <th>Relative Value</th>\n",
              "      <td>0.005792</td>\n",
              "      <td>0.0067</td>\n",
              "      <td>False</td>\n",
              "    </tr>\n",
              "    <tr>\n",
              "      <th>Short Selling</th>\n",
              "      <td>-0.001701</td>\n",
              "      <td>-0.0053</td>\n",
              "      <td>True</td>\n",
              "    </tr>\n",
              "    <tr>\n",
              "      <th>Funds Of Funds</th>\n",
              "      <td>0.004262</td>\n",
              "      <td>0.0052</td>\n",
              "      <td>False</td>\n",
              "    </tr>\n",
              "  </tbody>\n",
              "</table>\n",
              "</div>"
            ],
            "text/plain": [
              "                               0       1      2\n",
              "Convertible Arbitrage   0.005508  0.0065  False\n",
              "CTA Global              0.004074  0.0014   True\n",
              "Distressed Securities   0.006946  0.0089  False\n",
              "Emerging Markets        0.006253  0.0096  False\n",
              "Equity Market Neutral   0.004498  0.0051  False\n",
              "Event Driven            0.006344  0.0084  False\n",
              "Fixed Income Arbitrage  0.004365  0.0055  False\n",
              "Global Macro            0.005403  0.0038   True\n",
              "Long/Short Equity       0.006331  0.0079  False\n",
              "Merger Arbitrage        0.005356  0.0060  False\n",
              "Relative Value          0.005792  0.0067  False\n",
              "Short Selling          -0.001701 -0.0053   True\n",
              "Funds Of Funds          0.004262  0.0052  False"
            ]
          },
          "metadata": {
            "tags": []
          },
          "execution_count": 4
        }
      ]
    },
    {
      "cell_type": "markdown",
      "metadata": {
        "id": "fourth-departure"
      },
      "source": [
        "## measuring skewness"
      ],
      "id": "fourth-departure"
    },
    {
      "cell_type": "code",
      "metadata": {
        "id": "indian-regulation",
        "outputId": "28d2d157-5f78-4655-d265-d4ff56e411e8"
      },
      "source": [
        "erk.skewness(hfi).sort_values()"
      ],
      "id": "indian-regulation",
      "execution_count": null,
      "outputs": [
        {
          "output_type": "execute_result",
          "data": {
            "text/plain": [
              "Fixed Income Arbitrage   -3.940320\n",
              "Convertible Arbitrage    -2.639592\n",
              "Equity Market Neutral    -2.124435\n",
              "Relative Value           -1.815470\n",
              "Event Driven             -1.409154\n",
              "Merger Arbitrage         -1.320083\n",
              "Distressed Securities    -1.300842\n",
              "Emerging Markets         -1.167067\n",
              "Long/Short Equity        -0.390227\n",
              "Funds Of Funds           -0.361783\n",
              "CTA Global                0.173699\n",
              "Short Selling             0.767975\n",
              "Global Macro              0.982922\n",
              "dtype: float64"
            ]
          },
          "metadata": {
            "tags": []
          },
          "execution_count": 6
        }
      ]
    },
    {
      "cell_type": "code",
      "metadata": {
        "id": "effective-shield"
      },
      "source": [
        "import scipy.stats"
      ],
      "id": "effective-shield",
      "execution_count": null,
      "outputs": []
    },
    {
      "cell_type": "code",
      "metadata": {
        "id": "armed-distributor",
        "outputId": "b4b6f7d1-c23a-4820-bede-884dd7a9753c"
      },
      "source": [
        "scipy.stats.skew(hfi)"
      ],
      "id": "armed-distributor",
      "execution_count": null,
      "outputs": [
        {
          "output_type": "execute_result",
          "data": {
            "text/plain": [
              "array([-2.63959223,  0.17369864, -1.30084204, -1.16706749, -2.12443538,\n",
              "       -1.40915356, -3.94032029,  0.98292188, -0.39022677, -1.32008333,\n",
              "       -1.81546975,  0.76797484, -0.36178308])"
            ]
          },
          "metadata": {
            "tags": []
          },
          "execution_count": 9
        }
      ]
    },
    {
      "cell_type": "code",
      "metadata": {
        "id": "female-coordinator"
      },
      "source": [
        "import numpy as np"
      ],
      "id": "female-coordinator",
      "execution_count": null,
      "outputs": []
    },
    {
      "cell_type": "code",
      "metadata": {
        "id": "reduced-resort",
        "outputId": "085cb34e-78dc-40f1-8a23-daf32530b6d9"
      },
      "source": [
        "hfi.shape"
      ],
      "id": "reduced-resort",
      "execution_count": null,
      "outputs": [
        {
          "output_type": "execute_result",
          "data": {
            "text/plain": [
              "(263, 13)"
            ]
          },
          "metadata": {
            "tags": []
          },
          "execution_count": 11
        }
      ]
    },
    {
      "cell_type": "code",
      "metadata": {
        "id": "competent-identity"
      },
      "source": [
        "normal_rets = np.random.normal(0, .15, (263, 1))"
      ],
      "id": "competent-identity",
      "execution_count": null,
      "outputs": []
    },
    {
      "cell_type": "code",
      "metadata": {
        "id": "covered-guide",
        "outputId": "59600474-040f-457f-b49f-b6881371f145"
      },
      "source": [
        "erk.skewness(normal_rets)"
      ],
      "id": "covered-guide",
      "execution_count": null,
      "outputs": [
        {
          "output_type": "execute_result",
          "data": {
            "text/plain": [
              "0.14727883762382085"
            ]
          },
          "metadata": {
            "tags": []
          },
          "execution_count": 13
        }
      ]
    },
    {
      "cell_type": "markdown",
      "metadata": {
        "id": "thorough-examination"
      },
      "source": [
        "## Kurtosis"
      ],
      "id": "thorough-examination"
    },
    {
      "cell_type": "code",
      "metadata": {
        "id": "alone-france",
        "outputId": "91a83eeb-72bc-469b-be44-391df1f22397"
      },
      "source": [
        "erk.kurtosis(normal_rets)"
      ],
      "id": "alone-france",
      "execution_count": null,
      "outputs": [
        {
          "output_type": "execute_result",
          "data": {
            "text/plain": [
              "2.662376872933461"
            ]
          },
          "metadata": {
            "tags": []
          },
          "execution_count": 14
        }
      ]
    },
    {
      "cell_type": "code",
      "metadata": {
        "id": "institutional-doctrine",
        "outputId": "41009bea-1e1b-49a0-ebcf-be000a3e7a70"
      },
      "source": [
        "erk.kurtosis(hfi)"
      ],
      "id": "institutional-doctrine",
      "execution_count": null,
      "outputs": [
        {
          "output_type": "execute_result",
          "data": {
            "text/plain": [
              "Convertible Arbitrage     23.280834\n",
              "CTA Global                 2.952960\n",
              "Distressed Securities      7.889983\n",
              "Emerging Markets           9.250788\n",
              "Equity Market Neutral     17.218555\n",
              "Event Driven               8.035828\n",
              "Fixed Income Arbitrage    29.842199\n",
              "Global Macro               5.741679\n",
              "Long/Short Equity          4.523893\n",
              "Merger Arbitrage           8.738950\n",
              "Relative Value            12.121208\n",
              "Short Selling              6.117772\n",
              "Funds Of Funds             7.070153\n",
              "dtype: float64"
            ]
          },
          "metadata": {
            "tags": []
          },
          "execution_count": 15
        }
      ]
    },
    {
      "cell_type": "code",
      "metadata": {
        "id": "modern-terrace",
        "outputId": "1601a0b1-be4c-4e5f-a72a-d4de95603273"
      },
      "source": [
        "scipy.stats.kurtosis(normal_rets)"
      ],
      "id": "modern-terrace",
      "execution_count": null,
      "outputs": [
        {
          "output_type": "execute_result",
          "data": {
            "text/plain": [
              "array([-0.33762313])"
            ]
          },
          "metadata": {
            "tags": []
          },
          "execution_count": 16
        }
      ]
    },
    {
      "cell_type": "code",
      "metadata": {
        "id": "greater-variance",
        "outputId": "e35567ea-a3d7-479c-d594-110ec7648869"
      },
      "source": [
        "scipy.stats.kurtosis(hfi)"
      ],
      "id": "greater-variance",
      "execution_count": null,
      "outputs": [
        {
          "output_type": "execute_result",
          "data": {
            "text/plain": [
              "array([20.28083446, -0.04703963,  4.88998336,  6.25078841, 14.21855526,\n",
              "        5.03582817, 26.84219928,  2.74167945,  1.52389258,  5.73894979,\n",
              "        9.12120787,  3.11777175,  4.07015278])"
            ]
          },
          "metadata": {
            "tags": []
          },
          "execution_count": 17
        }
      ]
    },
    {
      "cell_type": "code",
      "metadata": {
        "id": "generic-addition",
        "outputId": "d3a00e4c-ed2b-45c1-e169-6969a3843566"
      },
      "source": [
        "scipy.stats.jarque_bera(normal_rets)"
      ],
      "id": "generic-addition",
      "execution_count": null,
      "outputs": [
        {
          "output_type": "execute_result",
          "data": {
            "text/plain": [
              "Jarque_beraResult(statistic=2.1999248664199254, pvalue=0.3328835888310777)"
            ]
          },
          "metadata": {
            "tags": []
          },
          "execution_count": 18
        }
      ]
    },
    {
      "cell_type": "code",
      "metadata": {
        "id": "weekly-hungarian",
        "outputId": "33a5832d-3e78-47c9-8d62-3ff79f4a4626"
      },
      "source": [
        "scipy.stats.jarque_bera()"
      ],
      "id": "weekly-hungarian",
      "execution_count": null,
      "outputs": [
        {
          "output_type": "execute_result",
          "data": {
            "text/plain": [
              "Jarque_beraResult(statistic=25656.585999171326, pvalue=0.0)"
            ]
          },
          "metadata": {
            "tags": []
          },
          "execution_count": 19
        }
      ]
    },
    {
      "cell_type": "code",
      "metadata": {
        "id": "embedded-signal",
        "outputId": "4544d077-34e9-4e06-b612-d4322c303138"
      },
      "source": [
        "erk.is_normal(normal_rets)"
      ],
      "id": "embedded-signal",
      "execution_count": null,
      "outputs": [
        {
          "output_type": "execute_result",
          "data": {
            "text/plain": [
              "True"
            ]
          },
          "metadata": {
            "tags": []
          },
          "execution_count": 20
        }
      ]
    },
    {
      "cell_type": "code",
      "metadata": {
        "id": "lonely-belarus",
        "outputId": "a5862440-ba04-4462-9fe3-ec5af030177e"
      },
      "source": [
        "hfi.apply(erk.is_normal, axis=0)"
      ],
      "id": "lonely-belarus",
      "execution_count": null,
      "outputs": [
        {
          "output_type": "execute_result",
          "data": {
            "text/plain": [
              "Convertible Arbitrage     False\n",
              "CTA Global                 True\n",
              "Distressed Securities     False\n",
              "Emerging Markets          False\n",
              "Equity Market Neutral     False\n",
              "Event Driven              False\n",
              "Fixed Income Arbitrage    False\n",
              "Global Macro              False\n",
              "Long/Short Equity         False\n",
              "Merger Arbitrage          False\n",
              "Relative Value            False\n",
              "Short Selling             False\n",
              "Funds Of Funds            False\n",
              "dtype: bool"
            ]
          },
          "metadata": {
            "tags": []
          },
          "execution_count": 24
        }
      ]
    },
    {
      "cell_type": "code",
      "metadata": {
        "id": "polish-invalid",
        "outputId": "e6fe7fa2-59aa-4ea7-c12c-cf3218a333f9"
      },
      "source": [
        "hfi.aggregate(erk.is_normal)"
      ],
      "id": "polish-invalid",
      "execution_count": null,
      "outputs": [
        {
          "output_type": "execute_result",
          "data": {
            "text/plain": [
              "Convertible Arbitrage     False\n",
              "CTA Global                 True\n",
              "Distressed Securities     False\n",
              "Emerging Markets          False\n",
              "Equity Market Neutral     False\n",
              "Event Driven              False\n",
              "Fixed Income Arbitrage    False\n",
              "Global Macro              False\n",
              "Long/Short Equity         False\n",
              "Merger Arbitrage          False\n",
              "Relative Value            False\n",
              "Short Selling             False\n",
              "Funds Of Funds            False\n",
              "dtype: bool"
            ]
          },
          "metadata": {
            "tags": []
          },
          "execution_count": 25
        }
      ]
    },
    {
      "cell_type": "code",
      "metadata": {
        "id": "religious-vatican",
        "outputId": "c8383e42-aa06-4143-8aa8-5700b8750aea"
      },
      "source": [
        "ffme = erk.get_ffme_returns()\n",
        "erk.skewness(ffme)"
      ],
      "id": "religious-vatican",
      "execution_count": null,
      "outputs": [
        {
          "output_type": "execute_result",
          "data": {
            "text/plain": [
              "SmallCap    4.410739\n",
              "LargeCap    0.233445\n",
              "dtype: float64"
            ]
          },
          "metadata": {
            "tags": []
          },
          "execution_count": 26
        }
      ]
    },
    {
      "cell_type": "code",
      "metadata": {
        "id": "moving-ethics",
        "outputId": "e49fb9b3-b07d-4c65-c90d-9de03032da4f"
      },
      "source": [
        "erk.kurtosis(ffme)"
      ],
      "id": "moving-ethics",
      "execution_count": null,
      "outputs": [
        {
          "output_type": "execute_result",
          "data": {
            "text/plain": [
              "SmallCap    46.845008\n",
              "LargeCap    10.694654\n",
              "dtype: float64"
            ]
          },
          "metadata": {
            "tags": []
          },
          "execution_count": 27
        }
      ]
    },
    {
      "cell_type": "code",
      "metadata": {
        "id": "cathedral-charity",
        "outputId": "5f5702cd-094a-4e21-9d99-1fee6271911d"
      },
      "source": [
        "ffme.aggregate(erk.is_normal)"
      ],
      "id": "cathedral-charity",
      "execution_count": null,
      "outputs": [
        {
          "output_type": "execute_result",
          "data": {
            "text/plain": [
              "SmallCap    False\n",
              "LargeCap    False\n",
              "dtype: bool"
            ]
          },
          "metadata": {
            "tags": []
          },
          "execution_count": 28
        }
      ]
    },
    {
      "cell_type": "code",
      "metadata": {
        "id": "internal-atlanta"
      },
      "source": [
        ""
      ],
      "id": "internal-atlanta",
      "execution_count": null,
      "outputs": []
    }
  ]
}