{
  "nbformat": 4,
  "nbformat_minor": 5,
  "metadata": {
    "kernelspec": {
      "display_name": "Python 3",
      "language": "python",
      "name": "python3"
    },
    "language_info": {
      "codemirror_mode": {
        "name": "ipython",
        "version": 3
      },
      "file_extension": ".py",
      "mimetype": "text/x-python",
      "name": "python",
      "nbconvert_exporter": "python",
      "pygments_lexer": "ipython3",
      "version": "3.7.9"
    },
    "colab": {
      "name": "Copy of drawdownNbitcoinTable.ipynb",
      "provenance": []
    }
  },
  "cells": [
    {
      "cell_type": "code",
      "metadata": {
        "id": "entertaining-calibration"
      },
      "source": [
        "import numpy as np\n",
        "import pandas as pd"
      ],
      "id": "entertaining-calibration",
      "execution_count": null,
      "outputs": []
    },
    {
      "cell_type": "code",
      "metadata": {
        "id": "bright-siemens",
        "outputId": "627730bb-a1b3-4904-fa65-1b5b4678d5da"
      },
      "source": [
        "prices_a = np.array([8.70, 8.91, 8.71])\n",
        "prices_a"
      ],
      "id": "bright-siemens",
      "execution_count": null,
      "outputs": [
        {
          "output_type": "execute_result",
          "data": {
            "text/plain": [
              "array([8.7 , 8.91, 8.71])"
            ]
          },
          "metadata": {
            "tags": []
          },
          "execution_count": 2
        }
      ]
    },
    {
      "cell_type": "code",
      "metadata": {
        "id": "increasing-comment",
        "outputId": "e88adfd3-aee8-4df7-b721-b0a026c9d8a5"
      },
      "source": [
        "prices_a[:-1]"
      ],
      "id": "increasing-comment",
      "execution_count": null,
      "outputs": [
        {
          "output_type": "execute_result",
          "data": {
            "text/plain": [
              "array([8.7 , 8.91])"
            ]
          },
          "metadata": {
            "tags": []
          },
          "execution_count": 3
        }
      ]
    },
    {
      "cell_type": "code",
      "metadata": {
        "id": "warming-lawrence",
        "outputId": "606362a1-14b2-4e2a-89d4-b9090d56bcef"
      },
      "source": [
        "prices_a[1:]/prices_a[:-1] -1"
      ],
      "id": "warming-lawrence",
      "execution_count": null,
      "outputs": [
        {
          "output_type": "execute_result",
          "data": {
            "text/plain": [
              "array([ 0.02413793, -0.02244669])"
            ]
          },
          "metadata": {
            "tags": []
          },
          "execution_count": 5
        }
      ]
    },
    {
      "cell_type": "code",
      "metadata": {
        "id": "loaded-specific",
        "outputId": "d2bac5a7-96be-40d2-c6b3-da6dadb7f951"
      },
      "source": [
        "prices = pd.DataFrame({'Blue':[8.70, 8.91, 8.71, 8.43, 8.73],\n",
        "                      'Orange': [10.66, 11.08, 10.71,11.59, 12.11]})\n",
        "prices"
      ],
      "id": "loaded-specific",
      "execution_count": null,
      "outputs": [
        {
          "output_type": "execute_result",
          "data": {
            "text/html": [
              "<div>\n",
              "<style scoped>\n",
              "    .dataframe tbody tr th:only-of-type {\n",
              "        vertical-align: middle;\n",
              "    }\n",
              "\n",
              "    .dataframe tbody tr th {\n",
              "        vertical-align: top;\n",
              "    }\n",
              "\n",
              "    .dataframe thead th {\n",
              "        text-align: right;\n",
              "    }\n",
              "</style>\n",
              "<table border=\"1\" class=\"dataframe\">\n",
              "  <thead>\n",
              "    <tr style=\"text-align: right;\">\n",
              "      <th></th>\n",
              "      <th>Blue</th>\n",
              "      <th>Orange</th>\n",
              "    </tr>\n",
              "  </thead>\n",
              "  <tbody>\n",
              "    <tr>\n",
              "      <th>0</th>\n",
              "      <td>8.70</td>\n",
              "      <td>10.66</td>\n",
              "    </tr>\n",
              "    <tr>\n",
              "      <th>1</th>\n",
              "      <td>8.91</td>\n",
              "      <td>11.08</td>\n",
              "    </tr>\n",
              "    <tr>\n",
              "      <th>2</th>\n",
              "      <td>8.71</td>\n",
              "      <td>10.71</td>\n",
              "    </tr>\n",
              "    <tr>\n",
              "      <th>3</th>\n",
              "      <td>8.43</td>\n",
              "      <td>11.59</td>\n",
              "    </tr>\n",
              "    <tr>\n",
              "      <th>4</th>\n",
              "      <td>8.73</td>\n",
              "      <td>12.11</td>\n",
              "    </tr>\n",
              "  </tbody>\n",
              "</table>\n",
              "</div>"
            ],
            "text/plain": [
              "   Blue  Orange\n",
              "0  8.70   10.66\n",
              "1  8.91   11.08\n",
              "2  8.71   10.71\n",
              "3  8.43   11.59\n",
              "4  8.73   12.11"
            ]
          },
          "metadata": {
            "tags": []
          },
          "execution_count": 7
        }
      ]
    },
    {
      "cell_type": "code",
      "metadata": {
        "id": "irish-bachelor",
        "outputId": "c494b2f5-88b5-432a-e628-476fff671643"
      },
      "source": [
        "prices.iloc[1:]"
      ],
      "id": "irish-bachelor",
      "execution_count": null,
      "outputs": [
        {
          "output_type": "execute_result",
          "data": {
            "text/html": [
              "<div>\n",
              "<style scoped>\n",
              "    .dataframe tbody tr th:only-of-type {\n",
              "        vertical-align: middle;\n",
              "    }\n",
              "\n",
              "    .dataframe tbody tr th {\n",
              "        vertical-align: top;\n",
              "    }\n",
              "\n",
              "    .dataframe thead th {\n",
              "        text-align: right;\n",
              "    }\n",
              "</style>\n",
              "<table border=\"1\" class=\"dataframe\">\n",
              "  <thead>\n",
              "    <tr style=\"text-align: right;\">\n",
              "      <th></th>\n",
              "      <th>Blue</th>\n",
              "      <th>Orange</th>\n",
              "    </tr>\n",
              "  </thead>\n",
              "  <tbody>\n",
              "    <tr>\n",
              "      <th>1</th>\n",
              "      <td>8.91</td>\n",
              "      <td>11.08</td>\n",
              "    </tr>\n",
              "    <tr>\n",
              "      <th>2</th>\n",
              "      <td>8.71</td>\n",
              "      <td>10.71</td>\n",
              "    </tr>\n",
              "    <tr>\n",
              "      <th>3</th>\n",
              "      <td>8.43</td>\n",
              "      <td>11.59</td>\n",
              "    </tr>\n",
              "    <tr>\n",
              "      <th>4</th>\n",
              "      <td>8.73</td>\n",
              "      <td>12.11</td>\n",
              "    </tr>\n",
              "  </tbody>\n",
              "</table>\n",
              "</div>"
            ],
            "text/plain": [
              "   Blue  Orange\n",
              "1  8.91   11.08\n",
              "2  8.71   10.71\n",
              "3  8.43   11.59\n",
              "4  8.73   12.11"
            ]
          },
          "metadata": {
            "tags": []
          },
          "execution_count": 8
        }
      ]
    },
    {
      "cell_type": "code",
      "metadata": {
        "id": "fleet-price",
        "outputId": "a48fa17f-bde8-42ff-d7d7-ce523fb6568f"
      },
      "source": [
        "prices.iloc[:-1]"
      ],
      "id": "fleet-price",
      "execution_count": null,
      "outputs": [
        {
          "output_type": "execute_result",
          "data": {
            "text/html": [
              "<div>\n",
              "<style scoped>\n",
              "    .dataframe tbody tr th:only-of-type {\n",
              "        vertical-align: middle;\n",
              "    }\n",
              "\n",
              "    .dataframe tbody tr th {\n",
              "        vertical-align: top;\n",
              "    }\n",
              "\n",
              "    .dataframe thead th {\n",
              "        text-align: right;\n",
              "    }\n",
              "</style>\n",
              "<table border=\"1\" class=\"dataframe\">\n",
              "  <thead>\n",
              "    <tr style=\"text-align: right;\">\n",
              "      <th></th>\n",
              "      <th>Blue</th>\n",
              "      <th>Orange</th>\n",
              "    </tr>\n",
              "  </thead>\n",
              "  <tbody>\n",
              "    <tr>\n",
              "      <th>0</th>\n",
              "      <td>8.70</td>\n",
              "      <td>10.66</td>\n",
              "    </tr>\n",
              "    <tr>\n",
              "      <th>1</th>\n",
              "      <td>8.91</td>\n",
              "      <td>11.08</td>\n",
              "    </tr>\n",
              "    <tr>\n",
              "      <th>2</th>\n",
              "      <td>8.71</td>\n",
              "      <td>10.71</td>\n",
              "    </tr>\n",
              "    <tr>\n",
              "      <th>3</th>\n",
              "      <td>8.43</td>\n",
              "      <td>11.59</td>\n",
              "    </tr>\n",
              "  </tbody>\n",
              "</table>\n",
              "</div>"
            ],
            "text/plain": [
              "   Blue  Orange\n",
              "0  8.70   10.66\n",
              "1  8.91   11.08\n",
              "2  8.71   10.71\n",
              "3  8.43   11.59"
            ]
          },
          "metadata": {
            "tags": []
          },
          "execution_count": 9
        }
      ]
    },
    {
      "cell_type": "code",
      "metadata": {
        "id": "defined-procurement",
        "outputId": "5ebc262f-618a-4ec4-ff0b-6229ea970c2e"
      },
      "source": [
        "prices.iloc[1:].values/prices.iloc[:-1] - 1"
      ],
      "id": "defined-procurement",
      "execution_count": null,
      "outputs": [
        {
          "output_type": "execute_result",
          "data": {
            "text/html": [
              "<div>\n",
              "<style scoped>\n",
              "    .dataframe tbody tr th:only-of-type {\n",
              "        vertical-align: middle;\n",
              "    }\n",
              "\n",
              "    .dataframe tbody tr th {\n",
              "        vertical-align: top;\n",
              "    }\n",
              "\n",
              "    .dataframe thead th {\n",
              "        text-align: right;\n",
              "    }\n",
              "</style>\n",
              "<table border=\"1\" class=\"dataframe\">\n",
              "  <thead>\n",
              "    <tr style=\"text-align: right;\">\n",
              "      <th></th>\n",
              "      <th>Blue</th>\n",
              "      <th>Orange</th>\n",
              "    </tr>\n",
              "  </thead>\n",
              "  <tbody>\n",
              "    <tr>\n",
              "      <th>0</th>\n",
              "      <td>0.024138</td>\n",
              "      <td>0.039400</td>\n",
              "    </tr>\n",
              "    <tr>\n",
              "      <th>1</th>\n",
              "      <td>-0.022447</td>\n",
              "      <td>-0.033394</td>\n",
              "    </tr>\n",
              "    <tr>\n",
              "      <th>2</th>\n",
              "      <td>-0.032147</td>\n",
              "      <td>0.082166</td>\n",
              "    </tr>\n",
              "    <tr>\n",
              "      <th>3</th>\n",
              "      <td>0.035587</td>\n",
              "      <td>0.044866</td>\n",
              "    </tr>\n",
              "  </tbody>\n",
              "</table>\n",
              "</div>"
            ],
            "text/plain": [
              "       Blue    Orange\n",
              "0  0.024138  0.039400\n",
              "1 -0.022447 -0.033394\n",
              "2 -0.032147  0.082166\n",
              "3  0.035587  0.044866"
            ]
          },
          "metadata": {
            "tags": []
          },
          "execution_count": 10
        }
      ]
    },
    {
      "cell_type": "code",
      "metadata": {
        "id": "antique-sigma",
        "outputId": "53c1b4cf-bb63-4acc-bee2-5b1ca728fccb"
      },
      "source": [
        "prices/prices.shift(1) - 1"
      ],
      "id": "antique-sigma",
      "execution_count": null,
      "outputs": [
        {
          "output_type": "execute_result",
          "data": {
            "text/html": [
              "<div>\n",
              "<style scoped>\n",
              "    .dataframe tbody tr th:only-of-type {\n",
              "        vertical-align: middle;\n",
              "    }\n",
              "\n",
              "    .dataframe tbody tr th {\n",
              "        vertical-align: top;\n",
              "    }\n",
              "\n",
              "    .dataframe thead th {\n",
              "        text-align: right;\n",
              "    }\n",
              "</style>\n",
              "<table border=\"1\" class=\"dataframe\">\n",
              "  <thead>\n",
              "    <tr style=\"text-align: right;\">\n",
              "      <th></th>\n",
              "      <th>Blue</th>\n",
              "      <th>Orange</th>\n",
              "    </tr>\n",
              "  </thead>\n",
              "  <tbody>\n",
              "    <tr>\n",
              "      <th>0</th>\n",
              "      <td>NaN</td>\n",
              "      <td>NaN</td>\n",
              "    </tr>\n",
              "    <tr>\n",
              "      <th>1</th>\n",
              "      <td>0.024138</td>\n",
              "      <td>0.039400</td>\n",
              "    </tr>\n",
              "    <tr>\n",
              "      <th>2</th>\n",
              "      <td>-0.022447</td>\n",
              "      <td>-0.033394</td>\n",
              "    </tr>\n",
              "    <tr>\n",
              "      <th>3</th>\n",
              "      <td>-0.032147</td>\n",
              "      <td>0.082166</td>\n",
              "    </tr>\n",
              "    <tr>\n",
              "      <th>4</th>\n",
              "      <td>0.035587</td>\n",
              "      <td>0.044866</td>\n",
              "    </tr>\n",
              "  </tbody>\n",
              "</table>\n",
              "</div>"
            ],
            "text/plain": [
              "       Blue    Orange\n",
              "0       NaN       NaN\n",
              "1  0.024138  0.039400\n",
              "2 -0.022447 -0.033394\n",
              "3 -0.032147  0.082166\n",
              "4  0.035587  0.044866"
            ]
          },
          "metadata": {
            "tags": []
          },
          "execution_count": 11
        }
      ]
    },
    {
      "cell_type": "code",
      "metadata": {
        "id": "technological-prairie",
        "outputId": "4a91961d-7bf5-4773-ee77-cb6799c57259"
      },
      "source": [
        "prices.pct_change()"
      ],
      "id": "technological-prairie",
      "execution_count": null,
      "outputs": [
        {
          "output_type": "execute_result",
          "data": {
            "text/html": [
              "<div>\n",
              "<style scoped>\n",
              "    .dataframe tbody tr th:only-of-type {\n",
              "        vertical-align: middle;\n",
              "    }\n",
              "\n",
              "    .dataframe tbody tr th {\n",
              "        vertical-align: top;\n",
              "    }\n",
              "\n",
              "    .dataframe thead th {\n",
              "        text-align: right;\n",
              "    }\n",
              "</style>\n",
              "<table border=\"1\" class=\"dataframe\">\n",
              "  <thead>\n",
              "    <tr style=\"text-align: right;\">\n",
              "      <th></th>\n",
              "      <th>Blue</th>\n",
              "      <th>Orange</th>\n",
              "    </tr>\n",
              "  </thead>\n",
              "  <tbody>\n",
              "    <tr>\n",
              "      <th>0</th>\n",
              "      <td>NaN</td>\n",
              "      <td>NaN</td>\n",
              "    </tr>\n",
              "    <tr>\n",
              "      <th>1</th>\n",
              "      <td>0.024138</td>\n",
              "      <td>0.039400</td>\n",
              "    </tr>\n",
              "    <tr>\n",
              "      <th>2</th>\n",
              "      <td>-0.022447</td>\n",
              "      <td>-0.033394</td>\n",
              "    </tr>\n",
              "    <tr>\n",
              "      <th>3</th>\n",
              "      <td>-0.032147</td>\n",
              "      <td>0.082166</td>\n",
              "    </tr>\n",
              "    <tr>\n",
              "      <th>4</th>\n",
              "      <td>0.035587</td>\n",
              "      <td>0.044866</td>\n",
              "    </tr>\n",
              "  </tbody>\n",
              "</table>\n",
              "</div>"
            ],
            "text/plain": [
              "       Blue    Orange\n",
              "0       NaN       NaN\n",
              "1  0.024138  0.039400\n",
              "2 -0.022447 -0.033394\n",
              "3 -0.032147  0.082166\n",
              "4  0.035587  0.044866"
            ]
          },
          "metadata": {
            "tags": []
          },
          "execution_count": 12
        }
      ]
    },
    {
      "cell_type": "code",
      "metadata": {
        "id": "processed-estate",
        "outputId": "a0b1ed61-ff70-4de4-d4a5-f7a392835966"
      },
      "source": [
        "prices.plot()"
      ],
      "id": "processed-estate",
      "execution_count": null,
      "outputs": [
        {
          "output_type": "execute_result",
          "data": {
            "text/plain": [
              "<AxesSubplot:>"
            ]
          },
          "metadata": {
            "tags": []
          },
          "execution_count": 13
        }
      ]
    },
    {
      "cell_type": "code",
      "metadata": {
        "id": "latter-cathedral"
      },
      "source": [
        "%matplotlib inline"
      ],
      "id": "latter-cathedral",
      "execution_count": null,
      "outputs": []
    },
    {
      "cell_type": "code",
      "metadata": {
        "id": "furnished-lease",
        "outputId": "d378e849-b7dd-40be-fde5-92e080c96ee1"
      },
      "source": [
        "prices.plot()"
      ],
      "id": "furnished-lease",
      "execution_count": null,
      "outputs": [
        {
          "output_type": "execute_result",
          "data": {
            "text/plain": [
              "<AxesSubplot:>"
            ]
          },
          "metadata": {
            "tags": []
          },
          "execution_count": 15
        },
        {
          "output_type": "display_data",
          "data": {
            "image/png": "[encoded data removed]",
            "text/plain": [
              "<Figure size 432x288 with 1 Axes>"
            ]
          },
          "metadata": {
            "tags": [],
            "needs_background": "light"
          }
        }
      ]
    },
    {
      "cell_type": "code",
      "metadata": {
        "id": "whole-command",
        "outputId": "54d70fdb-8313-4f2e-b834-7a234e290398"
      },
      "source": [
        "prices_a = np.random.rand(15)\n",
        "prices_a = prices_a * 1.2 + 11\n",
        "prices_b = np.random.rand(15) * 1.4 + 13\n",
        "prices_c = np.random.normal(2, 2, 15)\n",
        "prices_c += 10\n",
        "prices_d = np.random.normal(1, 1, 15)\n",
        "prices_d += 10\n",
        "prices = pd.DataFrame({'blue': prices_a, 'orange': prices_b, 'green': prices_c, 'red': prices_d})\n",
        "prices"
      ],
      "id": "whole-command",
      "execution_count": null,
      "outputs": [
        {
          "output_type": "execute_result",
          "data": {
            "text/html": [
              "<div>\n",
              "<style scoped>\n",
              "    .dataframe tbody tr th:only-of-type {\n",
              "        vertical-align: middle;\n",
              "    }\n",
              "\n",
              "    .dataframe tbody tr th {\n",
              "        vertical-align: top;\n",
              "    }\n",
              "\n",
              "    .dataframe thead th {\n",
              "        text-align: right;\n",
              "    }\n",
              "</style>\n",
              "<table border=\"1\" class=\"dataframe\">\n",
              "  <thead>\n",
              "    <tr style=\"text-align: right;\">\n",
              "      <th></th>\n",
              "      <th>blue</th>\n",
              "      <th>orange</th>\n",
              "      <th>green</th>\n",
              "      <th>red</th>\n",
              "    </tr>\n",
              "  </thead>\n",
              "  <tbody>\n",
              "    <tr>\n",
              "      <th>0</th>\n",
              "      <td>12.029455</td>\n",
              "      <td>14.212009</td>\n",
              "      <td>12.038096</td>\n",
              "      <td>10.870139</td>\n",
              "    </tr>\n",
              "    <tr>\n",
              "      <th>1</th>\n",
              "      <td>11.346540</td>\n",
              "      <td>14.241675</td>\n",
              "      <td>11.042552</td>\n",
              "      <td>10.286888</td>\n",
              "    </tr>\n",
              "    <tr>\n",
              "      <th>2</th>\n",
              "      <td>11.241133</td>\n",
              "      <td>13.623945</td>\n",
              "      <td>10.964778</td>\n",
              "      <td>10.783999</td>\n",
              "    </tr>\n",
              "    <tr>\n",
              "      <th>3</th>\n",
              "      <td>11.019686</td>\n",
              "      <td>14.242210</td>\n",
              "      <td>11.273804</td>\n",
              "      <td>12.133285</td>\n",
              "    </tr>\n",
              "    <tr>\n",
              "      <th>4</th>\n",
              "      <td>11.245682</td>\n",
              "      <td>14.259974</td>\n",
              "      <td>14.313228</td>\n",
              "      <td>12.622802</td>\n",
              "    </tr>\n",
              "    <tr>\n",
              "      <th>5</th>\n",
              "      <td>11.563937</td>\n",
              "      <td>14.036682</td>\n",
              "      <td>9.304147</td>\n",
              "      <td>11.238700</td>\n",
              "    </tr>\n",
              "    <tr>\n",
              "      <th>6</th>\n",
              "      <td>11.625888</td>\n",
              "      <td>14.399820</td>\n",
              "      <td>12.277219</td>\n",
              "      <td>13.137305</td>\n",
              "    </tr>\n",
              "    <tr>\n",
              "      <th>7</th>\n",
              "      <td>11.581508</td>\n",
              "      <td>13.224219</td>\n",
              "      <td>16.238542</td>\n",
              "      <td>10.764119</td>\n",
              "    </tr>\n",
              "    <tr>\n",
              "      <th>8</th>\n",
              "      <td>12.013089</td>\n",
              "      <td>14.031733</td>\n",
              "      <td>12.705181</td>\n",
              "      <td>12.229864</td>\n",
              "    </tr>\n",
              "    <tr>\n",
              "      <th>9</th>\n",
              "      <td>11.562514</td>\n",
              "      <td>13.145868</td>\n",
              "      <td>8.650756</td>\n",
              "      <td>11.994768</td>\n",
              "    </tr>\n",
              "    <tr>\n",
              "      <th>10</th>\n",
              "      <td>11.915343</td>\n",
              "      <td>13.111169</td>\n",
              "      <td>11.809643</td>\n",
              "      <td>10.331269</td>\n",
              "    </tr>\n",
              "    <tr>\n",
              "      <th>11</th>\n",
              "      <td>11.269498</td>\n",
              "      <td>13.125258</td>\n",
              "      <td>12.696582</td>\n",
              "      <td>11.935912</td>\n",
              "    </tr>\n",
              "    <tr>\n",
              "      <th>12</th>\n",
              "      <td>11.057107</td>\n",
              "      <td>13.418239</td>\n",
              "      <td>7.927203</td>\n",
              "      <td>11.628972</td>\n",
              "    </tr>\n",
              "    <tr>\n",
              "      <th>13</th>\n",
              "      <td>11.469047</td>\n",
              "      <td>13.300597</td>\n",
              "      <td>11.398182</td>\n",
              "      <td>12.156182</td>\n",
              "    </tr>\n",
              "    <tr>\n",
              "      <th>14</th>\n",
              "      <td>11.302077</td>\n",
              "      <td>13.734180</td>\n",
              "      <td>13.846877</td>\n",
              "      <td>11.301861</td>\n",
              "    </tr>\n",
              "  </tbody>\n",
              "</table>\n",
              "</div>"
            ],
            "text/plain": [
              "         blue     orange      green        red\n",
              "0   12.029455  14.212009  12.038096  10.870139\n",
              "1   11.346540  14.241675  11.042552  10.286888\n",
              "2   11.241133  13.623945  10.964778  10.783999\n",
              "3   11.019686  14.242210  11.273804  12.133285\n",
              "4   11.245682  14.259974  14.313228  12.622802\n",
              "5   11.563937  14.036682   9.304147  11.238700\n",
              "6   11.625888  14.399820  12.277219  13.137305\n",
              "7   11.581508  13.224219  16.238542  10.764119\n",
              "8   12.013089  14.031733  12.705181  12.229864\n",
              "9   11.562514  13.145868   8.650756  11.994768\n",
              "10  11.915343  13.111169  11.809643  10.331269\n",
              "11  11.269498  13.125258  12.696582  11.935912\n",
              "12  11.057107  13.418239   7.927203  11.628972\n",
              "13  11.469047  13.300597  11.398182  12.156182\n",
              "14  11.302077  13.734180  13.846877  11.301861"
            ]
          },
          "metadata": {
            "tags": []
          },
          "execution_count": 2
        }
      ]
    },
    {
      "cell_type": "code",
      "metadata": {
        "id": "taken-gnome",
        "outputId": "b7de4188-435d-46c0-8cf3-458f11e10e0f"
      },
      "source": [
        "prices.plot()"
      ],
      "id": "taken-gnome",
      "execution_count": null,
      "outputs": [
        {
          "output_type": "execute_result",
          "data": {
            "text/plain": [
              "<AxesSubplot:>"
            ]
          },
          "metadata": {
            "tags": []
          },
          "execution_count": 5
        },
        {
          "output_type": "display_data",
          "data": {
            "image/png": "[encoded data removed]",
            "text/plain": [
              "<Figure size 432x288 with 1 Axes>"
            ]
          },
          "metadata": {
            "tags": [],
            "needs_background": "light"
          }
        }
      ]
    },
    {
      "cell_type": "code",
      "metadata": {
        "id": "experienced-potter",
        "outputId": "868a8385-e5d4-4b1f-e763-e3ea57487679"
      },
      "source": [
        "returns = prices.pct_change()\n",
        "returns.head()"
      ],
      "id": "experienced-potter",
      "execution_count": null,
      "outputs": [
        {
          "output_type": "execute_result",
          "data": {
            "text/html": [
              "<div>\n",
              "<style scoped>\n",
              "    .dataframe tbody tr th:only-of-type {\n",
              "        vertical-align: middle;\n",
              "    }\n",
              "\n",
              "    .dataframe tbody tr th {\n",
              "        vertical-align: top;\n",
              "    }\n",
              "\n",
              "    .dataframe thead th {\n",
              "        text-align: right;\n",
              "    }\n",
              "</style>\n",
              "<table border=\"1\" class=\"dataframe\">\n",
              "  <thead>\n",
              "    <tr style=\"text-align: right;\">\n",
              "      <th></th>\n",
              "      <th>blue</th>\n",
              "      <th>orange</th>\n",
              "      <th>green</th>\n",
              "      <th>red</th>\n",
              "    </tr>\n",
              "  </thead>\n",
              "  <tbody>\n",
              "    <tr>\n",
              "      <th>0</th>\n",
              "      <td>NaN</td>\n",
              "      <td>NaN</td>\n",
              "      <td>NaN</td>\n",
              "      <td>NaN</td>\n",
              "    </tr>\n",
              "    <tr>\n",
              "      <th>1</th>\n",
              "      <td>-0.056770</td>\n",
              "      <td>0.002087</td>\n",
              "      <td>-0.082699</td>\n",
              "      <td>-0.053656</td>\n",
              "    </tr>\n",
              "    <tr>\n",
              "      <th>2</th>\n",
              "      <td>-0.009290</td>\n",
              "      <td>-0.043375</td>\n",
              "      <td>-0.007043</td>\n",
              "      <td>0.048325</td>\n",
              "    </tr>\n",
              "    <tr>\n",
              "      <th>3</th>\n",
              "      <td>-0.019700</td>\n",
              "      <td>0.045381</td>\n",
              "      <td>0.028183</td>\n",
              "      <td>0.125119</td>\n",
              "    </tr>\n",
              "    <tr>\n",
              "      <th>4</th>\n",
              "      <td>0.020508</td>\n",
              "      <td>0.001247</td>\n",
              "      <td>0.269601</td>\n",
              "      <td>0.040345</td>\n",
              "    </tr>\n",
              "  </tbody>\n",
              "</table>\n",
              "</div>"
            ],
            "text/plain": [
              "       blue    orange     green       red\n",
              "0       NaN       NaN       NaN       NaN\n",
              "1 -0.056770  0.002087 -0.082699 -0.053656\n",
              "2 -0.009290 -0.043375 -0.007043  0.048325\n",
              "3 -0.019700  0.045381  0.028183  0.125119\n",
              "4  0.020508  0.001247  0.269601  0.040345"
            ]
          },
          "metadata": {
            "tags": []
          },
          "execution_count": 6
        }
      ]
    },
    {
      "cell_type": "code",
      "metadata": {
        "id": "industrial-period",
        "outputId": "b107fa11-545e-4d9b-c4ca-0d53d6d470f0"
      },
      "source": [
        "returns.plot.bar()"
      ],
      "id": "industrial-period",
      "execution_count": null,
      "outputs": [
        {
          "output_type": "execute_result",
          "data": {
            "text/plain": [
              "<AxesSubplot:>"
            ]
          },
          "metadata": {
            "tags": []
          },
          "execution_count": 7
        },
        {
          "output_type": "display_data",
          "data": {
            "image/png": "[encoded data removed]",
            "text/plain": [
              "<Figure size 432x288 with 1 Axes>"
            ]
          },
          "metadata": {
            "tags": [],
            "needs_background": "light"
          }
        }
      ]
    },
    {
      "cell_type": "code",
      "metadata": {
        "id": "informational-malpractice",
        "outputId": "e83d8317-1ea1-4553-abf5-eff097ace5cf"
      },
      "source": [
        "returns.std()"
      ],
      "id": "informational-malpractice",
      "execution_count": null,
      "outputs": [
        {
          "output_type": "execute_result",
          "data": {
            "text/plain": [
              "blue      0.032060\n",
              "orange    0.040045\n",
              "green     0.283261\n",
              "red       0.112509\n",
              "dtype: float64"
            ]
          },
          "metadata": {
            "tags": []
          },
          "execution_count": 8
        }
      ]
    },
    {
      "cell_type": "code",
      "metadata": {
        "id": "adverse-inventory",
        "outputId": "8d7f1ecb-9c56-49b1-a13b-1804d59ac3d4"
      },
      "source": [
        "returns.mean()"
      ],
      "id": "adverse-inventory",
      "execution_count": null,
      "outputs": [
        {
          "output_type": "execute_result",
          "data": {
            "text/plain": [
              "blue     -0.003964\n",
              "orange   -0.001683\n",
              "green     0.048634\n",
              "red       0.008692\n",
              "dtype: float64"
            ]
          },
          "metadata": {
            "tags": []
          },
          "execution_count": 9
        }
      ]
    },
    {
      "cell_type": "code",
      "metadata": {
        "id": "coastal-singles",
        "outputId": "f1603a1a-b5d7-40ec-9be3-7add647c7403"
      },
      "source": [
        "((np.prod(returns + 1) - 1) * 100).round(2)"
      ],
      "id": "coastal-singles",
      "execution_count": null,
      "outputs": [
        {
          "output_type": "execute_result",
          "data": {
            "text/plain": [
              "blue       8.52\n",
              "orange     7.22\n",
              "green     -0.13\n",
              "red       14.15\n",
              "dtype: float64"
            ]
          },
          "metadata": {
            "tags": []
          },
          "execution_count": 20
        }
      ]
    },
    {
      "cell_type": "markdown",
      "metadata": {
        "id": "authorized-moses"
      },
      "source": [
        "## Annualization"
      ],
      "id": "authorized-moses"
    },
    {
      "cell_type": "code",
      "metadata": {
        "id": "international-slave",
        "outputId": "3ce32668-f71b-4c83-ddc7-89112543a3ab"
      },
      "source": [
        "monthly_return = 0.01\n",
        "year_return = ((1 + monthly_return) ** 12) - 1\n",
        "year_return"
      ],
      "id": "international-slave",
      "execution_count": null,
      "outputs": [
        {
          "output_type": "execute_result",
          "data": {
            "text/plain": [
              "0.12682503013196977"
            ]
          },
          "metadata": {
            "tags": []
          },
          "execution_count": 21
        }
      ]
    },
    {
      "cell_type": "code",
      "metadata": {
        "id": "surprising-dinner",
        "outputId": "bb7ccea7-1cf6-4612-8674-e4f5b4caa23b"
      },
      "source": [
        "return_quarter = 0.04\n",
        "return_year = ((1 + return_quarter) ** 4) - 1\n",
        "return_year"
      ],
      "id": "surprising-dinner",
      "execution_count": null,
      "outputs": [
        {
          "output_type": "execute_result",
          "data": {
            "text/plain": [
              "0.1698585600000002"
            ]
          },
          "metadata": {
            "tags": []
          },
          "execution_count": 23
        }
      ]
    },
    {
      "cell_type": "code",
      "metadata": {
        "id": "julian-blues",
        "outputId": "8d67c93a-1d49-4426-f9ad-0f8cc834bf91"
      },
      "source": [
        "daily_return = 0.0001\n",
        "return_year1 = ((1 + daily_return) ** 252) - 1\n",
        "return_year1"
      ],
      "id": "julian-blues",
      "execution_count": null,
      "outputs": [
        {
          "output_type": "execute_result",
          "data": {
            "text/plain": [
              "0.025518911987694626"
            ]
          },
          "metadata": {
            "tags": []
          },
          "execution_count": 24
        }
      ]
    },
    {
      "cell_type": "markdown",
      "metadata": {
        "id": "assured-daily"
      },
      "source": [
        "## Risk\n",
        "#### Adjusted Returns"
      ],
      "id": "assured-daily"
    },
    {
      "cell_type": "code",
      "metadata": {
        "id": "fleet-guyana",
        "outputId": "9cb56cb9-f0f4-4358-bf10-fd86c4190002"
      },
      "source": [
        "sample_prices = pd.read_csv(r'data/sample_prices.csv')\n",
        "sample_prices.head()"
      ],
      "id": "fleet-guyana",
      "execution_count": null,
      "outputs": [
        {
          "output_type": "execute_result",
          "data": {
            "text/html": [
              "<div>\n",
              "<style scoped>\n",
              "    .dataframe tbody tr th:only-of-type {\n",
              "        vertical-align: middle;\n",
              "    }\n",
              "\n",
              "    .dataframe tbody tr th {\n",
              "        vertical-align: top;\n",
              "    }\n",
              "\n",
              "    .dataframe thead th {\n",
              "        text-align: right;\n",
              "    }\n",
              "</style>\n",
              "<table border=\"1\" class=\"dataframe\">\n",
              "  <thead>\n",
              "    <tr style=\"text-align: right;\">\n",
              "      <th></th>\n",
              "      <th>BLUE</th>\n",
              "      <th>ORANGE</th>\n",
              "    </tr>\n",
              "  </thead>\n",
              "  <tbody>\n",
              "    <tr>\n",
              "      <th>0</th>\n",
              "      <td>8.7000</td>\n",
              "      <td>10.6600</td>\n",
              "    </tr>\n",
              "    <tr>\n",
              "      <th>1</th>\n",
              "      <td>8.9055</td>\n",
              "      <td>11.0828</td>\n",
              "    </tr>\n",
              "    <tr>\n",
              "      <th>2</th>\n",
              "      <td>8.7113</td>\n",
              "      <td>10.7100</td>\n",
              "    </tr>\n",
              "    <tr>\n",
              "      <th>3</th>\n",
              "      <td>8.4346</td>\n",
              "      <td>11.5907</td>\n",
              "    </tr>\n",
              "    <tr>\n",
              "      <th>4</th>\n",
              "      <td>8.7254</td>\n",
              "      <td>12.1070</td>\n",
              "    </tr>\n",
              "  </tbody>\n",
              "</table>\n",
              "</div>"
            ],
            "text/plain": [
              "     BLUE   ORANGE\n",
              "0  8.7000  10.6600\n",
              "1  8.9055  11.0828\n",
              "2  8.7113  10.7100\n",
              "3  8.4346  11.5907\n",
              "4  8.7254  12.1070"
            ]
          },
          "metadata": {
            "tags": []
          },
          "execution_count": 11
        }
      ]
    },
    {
      "cell_type": "code",
      "metadata": {
        "id": "multiple-sunset",
        "outputId": "c2fd2523-63ba-4f24-ec5a-e2c3e3febca7"
      },
      "source": [
        "returns = sample_prices.pct_change()\n",
        "returns = returns.dropna()\n",
        "returns.head(4)"
      ],
      "id": "multiple-sunset",
      "execution_count": null,
      "outputs": [
        {
          "output_type": "execute_result",
          "data": {
            "text/html": [
              "<div>\n",
              "<style scoped>\n",
              "    .dataframe tbody tr th:only-of-type {\n",
              "        vertical-align: middle;\n",
              "    }\n",
              "\n",
              "    .dataframe tbody tr th {\n",
              "        vertical-align: top;\n",
              "    }\n",
              "\n",
              "    .dataframe thead th {\n",
              "        text-align: right;\n",
              "    }\n",
              "</style>\n",
              "<table border=\"1\" class=\"dataframe\">\n",
              "  <thead>\n",
              "    <tr style=\"text-align: right;\">\n",
              "      <th></th>\n",
              "      <th>BLUE</th>\n",
              "      <th>ORANGE</th>\n",
              "    </tr>\n",
              "  </thead>\n",
              "  <tbody>\n",
              "    <tr>\n",
              "      <th>1</th>\n",
              "      <td>0.023621</td>\n",
              "      <td>0.039662</td>\n",
              "    </tr>\n",
              "    <tr>\n",
              "      <th>2</th>\n",
              "      <td>-0.021807</td>\n",
              "      <td>-0.033638</td>\n",
              "    </tr>\n",
              "    <tr>\n",
              "      <th>3</th>\n",
              "      <td>-0.031763</td>\n",
              "      <td>0.082232</td>\n",
              "    </tr>\n",
              "    <tr>\n",
              "      <th>4</th>\n",
              "      <td>0.034477</td>\n",
              "      <td>0.044544</td>\n",
              "    </tr>\n",
              "  </tbody>\n",
              "</table>\n",
              "</div>"
            ],
            "text/plain": [
              "       BLUE    ORANGE\n",
              "1  0.023621  0.039662\n",
              "2 -0.021807 -0.033638\n",
              "3 -0.031763  0.082232\n",
              "4  0.034477  0.044544"
            ]
          },
          "metadata": {
            "tags": []
          },
          "execution_count": 13
        }
      ]
    },
    {
      "cell_type": "code",
      "metadata": {
        "id": "white-edinburgh",
        "outputId": "f3287501-a74e-49db-d686-14311bd746da"
      },
      "source": [
        "returns.std()"
      ],
      "id": "white-edinburgh",
      "execution_count": null,
      "outputs": [
        {
          "output_type": "execute_result",
          "data": {
            "text/plain": [
              "BLUE      0.023977\n",
              "ORANGE    0.079601\n",
              "dtype: float64"
            ]
          },
          "metadata": {
            "tags": []
          },
          "execution_count": 14
        }
      ]
    },
    {
      "cell_type": "code",
      "metadata": {
        "id": "accomplished-canyon",
        "outputId": "7089626a-e2a4-437f-84e4-5c915a37ab54"
      },
      "source": [
        "deviations = returns - returns.mean()\n",
        "squared_deviations = deviations ** 2\n",
        "variance = squared_deviations.mean()\n",
        "volatility = np.sqrt(variance)\n",
        "volatility"
      ],
      "id": "accomplished-canyon",
      "execution_count": null,
      "outputs": [
        {
          "output_type": "execute_result",
          "data": {
            "text/plain": [
              "BLUE      0.022957\n",
              "ORANGE    0.076212\n",
              "dtype: float64"
            ]
          },
          "metadata": {
            "tags": []
          },
          "execution_count": 16
        }
      ]
    },
    {
      "cell_type": "code",
      "metadata": {
        "id": "increased-cylinder",
        "outputId": "b140caab-c20b-4273-daeb-22abc53e8f76"
      },
      "source": [
        "number_of_obs = returns.shape[0]\n",
        "variance = squared_deviations.sum() / (number_of_obs - 1)\n",
        "volatility = variance ** 0.5\n",
        "volatility"
      ],
      "id": "increased-cylinder",
      "execution_count": null,
      "outputs": [
        {
          "output_type": "execute_result",
          "data": {
            "text/plain": [
              "BLUE      0.023977\n",
              "ORANGE    0.079601\n",
              "dtype: float64"
            ]
          },
          "metadata": {
            "tags": []
          },
          "execution_count": 18
        }
      ]
    },
    {
      "cell_type": "code",
      "metadata": {
        "id": "surprising-working",
        "outputId": "53b5169d-7962-4aea-de81-884a876a5c64"
      },
      "source": [
        "volatility*np.sqrt(12)"
      ],
      "id": "surprising-working",
      "execution_count": null,
      "outputs": [
        {
          "output_type": "execute_result",
          "data": {
            "text/plain": [
              "BLUE      0.083060\n",
              "ORANGE    0.275747\n",
              "dtype: float64"
            ]
          },
          "metadata": {
            "tags": []
          },
          "execution_count": 19
        }
      ]
    },
    {
      "cell_type": "code",
      "metadata": {
        "id": "numerous-subsection"
      },
      "source": [
        "returns = pd.read_csv('data/Portfolios_Formed_on_ME_monthly_EW.csv', \n",
        "                      header=0, index_col=0, parse_dates=True, na_values=-99.99)"
      ],
      "id": "numerous-subsection",
      "execution_count": null,
      "outputs": []
    },
    {
      "cell_type": "code",
      "metadata": {
        "id": "figured-racing",
        "outputId": "8f10a662-a181-40e3-8086-fb98d53b9150"
      },
      "source": [
        "returns.head(5)"
      ],
      "id": "figured-racing",
      "execution_count": null,
      "outputs": [
        {
          "output_type": "execute_result",
          "data": {
            "text/html": [
              "<div>\n",
              "<style scoped>\n",
              "    .dataframe tbody tr th:only-of-type {\n",
              "        vertical-align: middle;\n",
              "    }\n",
              "\n",
              "    .dataframe tbody tr th {\n",
              "        vertical-align: top;\n",
              "    }\n",
              "\n",
              "    .dataframe thead th {\n",
              "        text-align: right;\n",
              "    }\n",
              "</style>\n",
              "<table border=\"1\" class=\"dataframe\">\n",
              "  <thead>\n",
              "    <tr style=\"text-align: right;\">\n",
              "      <th></th>\n",
              "      <th>&lt;= 0</th>\n",
              "      <th>Lo 30</th>\n",
              "      <th>Med 40</th>\n",
              "      <th>Hi 30</th>\n",
              "      <th>Lo 20</th>\n",
              "      <th>Qnt 2</th>\n",
              "      <th>Qnt 3</th>\n",
              "      <th>Qnt 4</th>\n",
              "      <th>Hi 20</th>\n",
              "      <th>Lo 10</th>\n",
              "      <th>Dec 2</th>\n",
              "      <th>Dec 3</th>\n",
              "      <th>Dec 4</th>\n",
              "      <th>Dec 5</th>\n",
              "      <th>Dec 6</th>\n",
              "      <th>Dec 7</th>\n",
              "      <th>Dec 8</th>\n",
              "      <th>Dec 9</th>\n",
              "      <th>Hi 10</th>\n",
              "    </tr>\n",
              "  </thead>\n",
              "  <tbody>\n",
              "    <tr>\n",
              "      <th>192607</th>\n",
              "      <td>NaN</td>\n",
              "      <td>-0.43</td>\n",
              "      <td>1.52</td>\n",
              "      <td>2.68</td>\n",
              "      <td>-0.57</td>\n",
              "      <td>0.59</td>\n",
              "      <td>1.60</td>\n",
              "      <td>1.47</td>\n",
              "      <td>3.33</td>\n",
              "      <td>-1.45</td>\n",
              "      <td>0.29</td>\n",
              "      <td>-0.15</td>\n",
              "      <td>1.33</td>\n",
              "      <td>1.24</td>\n",
              "      <td>1.98</td>\n",
              "      <td>1.55</td>\n",
              "      <td>1.38</td>\n",
              "      <td>3.38</td>\n",
              "      <td>3.29</td>\n",
              "    </tr>\n",
              "    <tr>\n",
              "      <th>192608</th>\n",
              "      <td>NaN</td>\n",
              "      <td>3.90</td>\n",
              "      <td>3.04</td>\n",
              "      <td>2.09</td>\n",
              "      <td>3.84</td>\n",
              "      <td>3.59</td>\n",
              "      <td>3.71</td>\n",
              "      <td>1.61</td>\n",
              "      <td>2.33</td>\n",
              "      <td>5.12</td>\n",
              "      <td>2.59</td>\n",
              "      <td>4.03</td>\n",
              "      <td>3.15</td>\n",
              "      <td>2.72</td>\n",
              "      <td>4.72</td>\n",
              "      <td>1.60</td>\n",
              "      <td>1.63</td>\n",
              "      <td>0.98</td>\n",
              "      <td>3.70</td>\n",
              "    </tr>\n",
              "    <tr>\n",
              "      <th>192609</th>\n",
              "      <td>NaN</td>\n",
              "      <td>-1.08</td>\n",
              "      <td>-0.54</td>\n",
              "      <td>0.16</td>\n",
              "      <td>-0.48</td>\n",
              "      <td>-1.40</td>\n",
              "      <td>0.00</td>\n",
              "      <td>-0.50</td>\n",
              "      <td>-0.09</td>\n",
              "      <td>0.93</td>\n",
              "      <td>-1.87</td>\n",
              "      <td>-2.27</td>\n",
              "      <td>-0.53</td>\n",
              "      <td>0.07</td>\n",
              "      <td>-0.07</td>\n",
              "      <td>-1.64</td>\n",
              "      <td>0.64</td>\n",
              "      <td>-0.86</td>\n",
              "      <td>0.67</td>\n",
              "    </tr>\n",
              "    <tr>\n",
              "      <th>192610</th>\n",
              "      <td>NaN</td>\n",
              "      <td>-3.32</td>\n",
              "      <td>-3.52</td>\n",
              "      <td>-3.06</td>\n",
              "      <td>-3.29</td>\n",
              "      <td>-4.10</td>\n",
              "      <td>-2.89</td>\n",
              "      <td>-3.36</td>\n",
              "      <td>-2.95</td>\n",
              "      <td>-4.84</td>\n",
              "      <td>-1.77</td>\n",
              "      <td>-3.36</td>\n",
              "      <td>-4.83</td>\n",
              "      <td>-2.98</td>\n",
              "      <td>-2.80</td>\n",
              "      <td>-3.45</td>\n",
              "      <td>-3.27</td>\n",
              "      <td>-3.47</td>\n",
              "      <td>-2.43</td>\n",
              "    </tr>\n",
              "    <tr>\n",
              "      <th>192611</th>\n",
              "      <td>NaN</td>\n",
              "      <td>-0.46</td>\n",
              "      <td>3.82</td>\n",
              "      <td>3.09</td>\n",
              "      <td>-0.55</td>\n",
              "      <td>2.18</td>\n",
              "      <td>3.41</td>\n",
              "      <td>3.39</td>\n",
              "      <td>3.16</td>\n",
              "      <td>-0.78</td>\n",
              "      <td>-0.32</td>\n",
              "      <td>-0.29</td>\n",
              "      <td>4.65</td>\n",
              "      <td>3.24</td>\n",
              "      <td>3.57</td>\n",
              "      <td>3.82</td>\n",
              "      <td>2.95</td>\n",
              "      <td>3.61</td>\n",
              "      <td>2.70</td>\n",
              "    </tr>\n",
              "  </tbody>\n",
              "</table>\n",
              "</div>"
            ],
            "text/plain": [
              "        <= 0  Lo 30  Med 40  Hi 30  Lo 20  Qnt 2  Qnt 3  Qnt 4  Hi 20  Lo 10  \\\n",
              "192607   NaN  -0.43    1.52   2.68  -0.57   0.59   1.60   1.47   3.33  -1.45   \n",
              "192608   NaN   3.90    3.04   2.09   3.84   3.59   3.71   1.61   2.33   5.12   \n",
              "192609   NaN  -1.08   -0.54   0.16  -0.48  -1.40   0.00  -0.50  -0.09   0.93   \n",
              "192610   NaN  -3.32   -3.52  -3.06  -3.29  -4.10  -2.89  -3.36  -2.95  -4.84   \n",
              "192611   NaN  -0.46    3.82   3.09  -0.55   2.18   3.41   3.39   3.16  -0.78   \n",
              "\n",
              "        Dec 2  Dec 3  Dec 4  Dec 5  Dec 6  Dec 7  Dec 8  Dec 9  Hi 10  \n",
              "192607   0.29  -0.15   1.33   1.24   1.98   1.55   1.38   3.38   3.29  \n",
              "192608   2.59   4.03   3.15   2.72   4.72   1.60   1.63   0.98   3.70  \n",
              "192609  -1.87  -2.27  -0.53   0.07  -0.07  -1.64   0.64  -0.86   0.67  \n",
              "192610  -1.77  -3.36  -4.83  -2.98  -2.80  -3.45  -3.27  -3.47  -2.43  \n",
              "192611  -0.32  -0.29   4.65   3.24   3.57   3.82   2.95   3.61   2.70  "
            ]
          },
          "metadata": {
            "tags": []
          },
          "execution_count": 21
        }
      ]
    },
    {
      "cell_type": "code",
      "metadata": {
        "id": "involved-compromise",
        "outputId": "67cfafe3-b312-4364-e4f1-93835c90a460"
      },
      "source": [
        "cols = ['Lo 10', 'Hi 10']\n",
        "returns = returns[cols]\n",
        "returns.head()"
      ],
      "id": "involved-compromise",
      "execution_count": null,
      "outputs": [
        {
          "output_type": "execute_result",
          "data": {
            "text/html": [
              "<div>\n",
              "<style scoped>\n",
              "    .dataframe tbody tr th:only-of-type {\n",
              "        vertical-align: middle;\n",
              "    }\n",
              "\n",
              "    .dataframe tbody tr th {\n",
              "        vertical-align: top;\n",
              "    }\n",
              "\n",
              "    .dataframe thead th {\n",
              "        text-align: right;\n",
              "    }\n",
              "</style>\n",
              "<table border=\"1\" class=\"dataframe\">\n",
              "  <thead>\n",
              "    <tr style=\"text-align: right;\">\n",
              "      <th></th>\n",
              "      <th>Lo 10</th>\n",
              "      <th>Hi 10</th>\n",
              "    </tr>\n",
              "  </thead>\n",
              "  <tbody>\n",
              "    <tr>\n",
              "      <th>192607</th>\n",
              "      <td>-1.45</td>\n",
              "      <td>3.29</td>\n",
              "    </tr>\n",
              "    <tr>\n",
              "      <th>192608</th>\n",
              "      <td>5.12</td>\n",
              "      <td>3.70</td>\n",
              "    </tr>\n",
              "    <tr>\n",
              "      <th>192609</th>\n",
              "      <td>0.93</td>\n",
              "      <td>0.67</td>\n",
              "    </tr>\n",
              "    <tr>\n",
              "      <th>192610</th>\n",
              "      <td>-4.84</td>\n",
              "      <td>-2.43</td>\n",
              "    </tr>\n",
              "    <tr>\n",
              "      <th>192611</th>\n",
              "      <td>-0.78</td>\n",
              "      <td>2.70</td>\n",
              "    </tr>\n",
              "  </tbody>\n",
              "</table>\n",
              "</div>"
            ],
            "text/plain": [
              "        Lo 10  Hi 10\n",
              "192607  -1.45   3.29\n",
              "192608   5.12   3.70\n",
              "192609   0.93   0.67\n",
              "192610  -4.84  -2.43\n",
              "192611  -0.78   2.70"
            ]
          },
          "metadata": {
            "tags": []
          },
          "execution_count": 22
        }
      ]
    },
    {
      "cell_type": "code",
      "metadata": {
        "id": "interstate-digest"
      },
      "source": [
        "returns = returns / 100"
      ],
      "id": "interstate-digest",
      "execution_count": null,
      "outputs": []
    },
    {
      "cell_type": "code",
      "metadata": {
        "id": "reported-proxy",
        "outputId": "70db1176-7876-4f24-8186-ce8596c11491"
      },
      "source": [
        "returns.head(3)"
      ],
      "id": "reported-proxy",
      "execution_count": null,
      "outputs": [
        {
          "output_type": "execute_result",
          "data": {
            "text/html": [
              "<div>\n",
              "<style scoped>\n",
              "    .dataframe tbody tr th:only-of-type {\n",
              "        vertical-align: middle;\n",
              "    }\n",
              "\n",
              "    .dataframe tbody tr th {\n",
              "        vertical-align: top;\n",
              "    }\n",
              "\n",
              "    .dataframe thead th {\n",
              "        text-align: right;\n",
              "    }\n",
              "</style>\n",
              "<table border=\"1\" class=\"dataframe\">\n",
              "  <thead>\n",
              "    <tr style=\"text-align: right;\">\n",
              "      <th></th>\n",
              "      <th>Lo 10</th>\n",
              "      <th>Hi 10</th>\n",
              "    </tr>\n",
              "  </thead>\n",
              "  <tbody>\n",
              "    <tr>\n",
              "      <th>192607</th>\n",
              "      <td>-0.0145</td>\n",
              "      <td>0.0329</td>\n",
              "    </tr>\n",
              "    <tr>\n",
              "      <th>192608</th>\n",
              "      <td>0.0512</td>\n",
              "      <td>0.0370</td>\n",
              "    </tr>\n",
              "    <tr>\n",
              "      <th>192609</th>\n",
              "      <td>0.0093</td>\n",
              "      <td>0.0067</td>\n",
              "    </tr>\n",
              "  </tbody>\n",
              "</table>\n",
              "</div>"
            ],
            "text/plain": [
              "         Lo 10   Hi 10\n",
              "192607 -0.0145  0.0329\n",
              "192608  0.0512  0.0370\n",
              "192609  0.0093  0.0067"
            ]
          },
          "metadata": {
            "tags": []
          },
          "execution_count": 26
        }
      ]
    },
    {
      "cell_type": "code",
      "metadata": {
        "id": "decent-manner",
        "outputId": "8de80da2-a760-4abf-9788-bca785574dc7"
      },
      "source": [
        "returns.columns = ['SmallCap', 'LargeCap']\n",
        "returns.plot()"
      ],
      "id": "decent-manner",
      "execution_count": null,
      "outputs": [
        {
          "output_type": "execute_result",
          "data": {
            "text/plain": [
              "<AxesSubplot:>"
            ]
          },
          "metadata": {
            "tags": []
          },
          "execution_count": 28
        },
        {
          "output_type": "display_data",
          "data": {
            "image/png": "[encoded data removed]",
            "text/plain": [
              "<Figure size 432x288 with 1 Axes>"
            ]
          },
          "metadata": {
            "tags": [],
            "needs_background": "light"
          }
        }
      ]
    },
    {
      "cell_type": "code",
      "metadata": {
        "id": "suitable-insulin",
        "outputId": "7bca0cb8-1836-441d-e213-c916f8e663a3"
      },
      "source": [
        "returns.std()"
      ],
      "id": "suitable-insulin",
      "execution_count": null,
      "outputs": [
        {
          "output_type": "execute_result",
          "data": {
            "text/plain": [
              "SmallCap    0.106288\n",
              "LargeCap    0.053900\n",
              "dtype: float64"
            ]
          },
          "metadata": {
            "tags": []
          },
          "execution_count": 29
        }
      ]
    },
    {
      "cell_type": "code",
      "metadata": {
        "id": "digital-highland",
        "outputId": "96ebb110-6a58-4949-f810-f4885f1f77ac"
      },
      "source": [
        "annualized_vol = returns.std()*np.sqrt(12)\n",
        "annualized_vol"
      ],
      "id": "digital-highland",
      "execution_count": null,
      "outputs": [
        {
          "output_type": "execute_result",
          "data": {
            "text/plain": [
              "SmallCap    0.368193\n",
              "LargeCap    0.186716\n",
              "dtype: float64"
            ]
          },
          "metadata": {
            "tags": []
          },
          "execution_count": 30
        }
      ]
    },
    {
      "cell_type": "code",
      "metadata": {
        "id": "comfortable-plenty",
        "outputId": "00988f73-c3d0-4543-bc0b-676ae7dae1d0"
      },
      "source": [
        "n_months = returns.shape[0]\n",
        "return_per_month = (returns + 1).prod()**(1/n_months) - 1\n",
        "return_per_month"
      ],
      "id": "comfortable-plenty",
      "execution_count": null,
      "outputs": [
        {
          "output_type": "execute_result",
          "data": {
            "text/plain": [
              "SmallCap    0.012986\n",
              "LargeCap    0.007423\n",
              "dtype: float64"
            ]
          },
          "metadata": {
            "tags": []
          },
          "execution_count": 32
        }
      ]
    },
    {
      "cell_type": "code",
      "metadata": {
        "id": "wireless-mentor",
        "outputId": "eb370235-98ed-4a8b-9cbd-abb56fb424b2"
      },
      "source": [
        "annualized_return = (return_per_month+1) ** 12 - 1\n",
        "annualized_return"
      ],
      "id": "wireless-mentor",
      "execution_count": null,
      "outputs": [
        {
          "output_type": "execute_result",
          "data": {
            "text/plain": [
              "SmallCap    0.167463\n",
              "LargeCap    0.092810\n",
              "dtype: float64"
            ]
          },
          "metadata": {
            "tags": []
          },
          "execution_count": 33
        }
      ]
    },
    {
      "cell_type": "code",
      "metadata": {
        "id": "extensive-provision",
        "outputId": "9d38e010-3db2-46d9-dff8-a1517943e65d"
      },
      "source": [
        "riskfree_rate = 0.03\n",
        "excess_return = annualized_return - riskfree_rate\n",
        "sharpe_ratio = excess_return/annualized_vol\n",
        "sharpe_ratio"
      ],
      "id": "extensive-provision",
      "execution_count": null,
      "outputs": [
        {
          "output_type": "execute_result",
          "data": {
            "text/plain": [
              "SmallCap    0.373346\n",
              "LargeCap    0.336392\n",
              "dtype: float64"
            ]
          },
          "metadata": {
            "tags": []
          },
          "execution_count": 34
        }
      ]
    },
    {
      "cell_type": "markdown",
      "metadata": {
        "id": "happy-acceptance"
      },
      "source": [
        "## Compute Drawdowns"
      ],
      "id": "happy-acceptance"
    },
    {
      "cell_type": "code",
      "metadata": {
        "id": "external-template",
        "outputId": "791b3dff-79c9-414a-c18b-82201f0fa063"
      },
      "source": [
        "me_m = pd.read_csv('data/Portfolios_Formed_on_ME_monthly_EW.csv', header=0,\n",
        "                   index_col=0, parse_dates=True, na_values=-99.99)\n",
        "rets = me_m[['Lo 10', 'Hi 10']]\n",
        "rets.columns = ['SmallCap', 'LargeCap']\n",
        "rets = rets/100\n",
        "rets.plot.line()"
      ],
      "id": "external-template",
      "execution_count": null,
      "outputs": [
        {
          "output_type": "execute_result",
          "data": {
            "text/plain": [
              "<AxesSubplot:>"
            ]
          },
          "metadata": {
            "tags": []
          },
          "execution_count": 3
        },
        {
          "output_type": "display_data",
          "data": {
            "image/png": "[encoded data removed]",
            "text/plain": [
              "<Figure size 432x288 with 1 Axes>"
            ]
          },
          "metadata": {
            "tags": [],
            "needs_background": "light"
          }
        }
      ]
    },
    {
      "cell_type": "code",
      "metadata": {
        "id": "atomic-consistency",
        "outputId": "f6e185e4-bf42-446d-8b4f-fab439e393c3"
      },
      "source": [
        "rets.index"
      ],
      "id": "atomic-consistency",
      "execution_count": null,
      "outputs": [
        {
          "output_type": "execute_result",
          "data": {
            "text/plain": [
              "Int64Index([192607, 192608, 192609, 192610, 192611, 192612, 192701, 192702,\n",
              "            192703, 192704,\n",
              "            ...\n",
              "            201803, 201804, 201805, 201806, 201807, 201808, 201809, 201810,\n",
              "            201811, 201812],\n",
              "           dtype='int64', length=1110)"
            ]
          },
          "metadata": {
            "tags": []
          },
          "execution_count": 4
        }
      ]
    },
    {
      "cell_type": "code",
      "metadata": {
        "id": "nonprofit-stretch",
        "outputId": "d459ac5f-589b-4039-e0e0-d58f789b54f5"
      },
      "source": [
        "rets.index = pd.to_datetime(rets.index, format='%Y%m')\n",
        "rets.head()"
      ],
      "id": "nonprofit-stretch",
      "execution_count": null,
      "outputs": [
        {
          "output_type": "execute_result",
          "data": {
            "text/html": [
              "<div>\n",
              "<style scoped>\n",
              "    .dataframe tbody tr th:only-of-type {\n",
              "        vertical-align: middle;\n",
              "    }\n",
              "\n",
              "    .dataframe tbody tr th {\n",
              "        vertical-align: top;\n",
              "    }\n",
              "\n",
              "    .dataframe thead th {\n",
              "        text-align: right;\n",
              "    }\n",
              "</style>\n",
              "<table border=\"1\" class=\"dataframe\">\n",
              "  <thead>\n",
              "    <tr style=\"text-align: right;\">\n",
              "      <th></th>\n",
              "      <th>SmallCap</th>\n",
              "      <th>LargeCap</th>\n",
              "    </tr>\n",
              "  </thead>\n",
              "  <tbody>\n",
              "    <tr>\n",
              "      <th>1926-07-01</th>\n",
              "      <td>-0.0145</td>\n",
              "      <td>0.0329</td>\n",
              "    </tr>\n",
              "    <tr>\n",
              "      <th>1926-08-01</th>\n",
              "      <td>0.0512</td>\n",
              "      <td>0.0370</td>\n",
              "    </tr>\n",
              "    <tr>\n",
              "      <th>1926-09-01</th>\n",
              "      <td>0.0093</td>\n",
              "      <td>0.0067</td>\n",
              "    </tr>\n",
              "    <tr>\n",
              "      <th>1926-10-01</th>\n",
              "      <td>-0.0484</td>\n",
              "      <td>-0.0243</td>\n",
              "    </tr>\n",
              "    <tr>\n",
              "      <th>1926-11-01</th>\n",
              "      <td>-0.0078</td>\n",
              "      <td>0.0270</td>\n",
              "    </tr>\n",
              "  </tbody>\n",
              "</table>\n",
              "</div>"
            ],
            "text/plain": [
              "            SmallCap  LargeCap\n",
              "1926-07-01   -0.0145    0.0329\n",
              "1926-08-01    0.0512    0.0370\n",
              "1926-09-01    0.0093    0.0067\n",
              "1926-10-01   -0.0484   -0.0243\n",
              "1926-11-01   -0.0078    0.0270"
            ]
          },
          "metadata": {
            "tags": []
          },
          "execution_count": 5
        }
      ]
    },
    {
      "cell_type": "code",
      "metadata": {
        "id": "industrial-rotation",
        "outputId": "efae4814-32f1-4049-fa40-ab3ea1838eb1"
      },
      "source": [
        "rets.index"
      ],
      "id": "industrial-rotation",
      "execution_count": null,
      "outputs": [
        {
          "output_type": "execute_result",
          "data": {
            "text/plain": [
              "DatetimeIndex(['1926-07-01', '1926-08-01', '1926-09-01', '1926-10-01',\n",
              "               '1926-11-01', '1926-12-01', '1927-01-01', '1927-02-01',\n",
              "               '1927-03-01', '1927-04-01',\n",
              "               ...\n",
              "               '2018-03-01', '2018-04-01', '2018-05-01', '2018-06-01',\n",
              "               '2018-07-01', '2018-08-01', '2018-09-01', '2018-10-01',\n",
              "               '2018-11-01', '2018-12-01'],\n",
              "              dtype='datetime64[ns]', length=1110, freq=None)"
            ]
          },
          "metadata": {
            "tags": []
          },
          "execution_count": 6
        }
      ]
    },
    {
      "cell_type": "code",
      "metadata": {
        "id": "activated-segment",
        "outputId": "9e806f5f-53b3-494d-a2ec-8def04987db7"
      },
      "source": [
        "rets.index = rets.index.to_period('M')\n",
        "rets.head()"
      ],
      "id": "activated-segment",
      "execution_count": null,
      "outputs": [
        {
          "output_type": "execute_result",
          "data": {
            "text/html": [
              "<div>\n",
              "<style scoped>\n",
              "    .dataframe tbody tr th:only-of-type {\n",
              "        vertical-align: middle;\n",
              "    }\n",
              "\n",
              "    .dataframe tbody tr th {\n",
              "        vertical-align: top;\n",
              "    }\n",
              "\n",
              "    .dataframe thead th {\n",
              "        text-align: right;\n",
              "    }\n",
              "</style>\n",
              "<table border=\"1\" class=\"dataframe\">\n",
              "  <thead>\n",
              "    <tr style=\"text-align: right;\">\n",
              "      <th></th>\n",
              "      <th>SmallCap</th>\n",
              "      <th>LargeCap</th>\n",
              "    </tr>\n",
              "  </thead>\n",
              "  <tbody>\n",
              "    <tr>\n",
              "      <th>1926-07</th>\n",
              "      <td>-0.0145</td>\n",
              "      <td>0.0329</td>\n",
              "    </tr>\n",
              "    <tr>\n",
              "      <th>1926-08</th>\n",
              "      <td>0.0512</td>\n",
              "      <td>0.0370</td>\n",
              "    </tr>\n",
              "    <tr>\n",
              "      <th>1926-09</th>\n",
              "      <td>0.0093</td>\n",
              "      <td>0.0067</td>\n",
              "    </tr>\n",
              "    <tr>\n",
              "      <th>1926-10</th>\n",
              "      <td>-0.0484</td>\n",
              "      <td>-0.0243</td>\n",
              "    </tr>\n",
              "    <tr>\n",
              "      <th>1926-11</th>\n",
              "      <td>-0.0078</td>\n",
              "      <td>0.0270</td>\n",
              "    </tr>\n",
              "  </tbody>\n",
              "</table>\n",
              "</div>"
            ],
            "text/plain": [
              "         SmallCap  LargeCap\n",
              "1926-07   -0.0145    0.0329\n",
              "1926-08    0.0512    0.0370\n",
              "1926-09    0.0093    0.0067\n",
              "1926-10   -0.0484   -0.0243\n",
              "1926-11   -0.0078    0.0270"
            ]
          },
          "metadata": {
            "tags": []
          },
          "execution_count": 7
        }
      ]
    },
    {
      "cell_type": "code",
      "metadata": {
        "id": "detected-snapshot",
        "outputId": "abccbe5e-af5e-4981-9c71-9a17965c0ae4"
      },
      "source": [
        "rets['1975']"
      ],
      "id": "detected-snapshot",
      "execution_count": null,
      "outputs": [
        {
          "output_type": "execute_result",
          "data": {
            "text/html": [
              "<div>\n",
              "<style scoped>\n",
              "    .dataframe tbody tr th:only-of-type {\n",
              "        vertical-align: middle;\n",
              "    }\n",
              "\n",
              "    .dataframe tbody tr th {\n",
              "        vertical-align: top;\n",
              "    }\n",
              "\n",
              "    .dataframe thead th {\n",
              "        text-align: right;\n",
              "    }\n",
              "</style>\n",
              "<table border=\"1\" class=\"dataframe\">\n",
              "  <thead>\n",
              "    <tr style=\"text-align: right;\">\n",
              "      <th></th>\n",
              "      <th>SmallCap</th>\n",
              "      <th>LargeCap</th>\n",
              "    </tr>\n",
              "  </thead>\n",
              "  <tbody>\n",
              "    <tr>\n",
              "      <th>1975-01</th>\n",
              "      <td>0.3202</td>\n",
              "      <td>0.1286</td>\n",
              "    </tr>\n",
              "    <tr>\n",
              "      <th>1975-02</th>\n",
              "      <td>0.0657</td>\n",
              "      <td>0.0613</td>\n",
              "    </tr>\n",
              "    <tr>\n",
              "      <th>1975-03</th>\n",
              "      <td>0.0989</td>\n",
              "      <td>0.0414</td>\n",
              "    </tr>\n",
              "    <tr>\n",
              "      <th>1975-04</th>\n",
              "      <td>0.0288</td>\n",
              "      <td>0.0531</td>\n",
              "    </tr>\n",
              "    <tr>\n",
              "      <th>1975-05</th>\n",
              "      <td>0.0811</td>\n",
              "      <td>0.0610</td>\n",
              "    </tr>\n",
              "    <tr>\n",
              "      <th>1975-06</th>\n",
              "      <td>0.0779</td>\n",
              "      <td>0.0524</td>\n",
              "    </tr>\n",
              "    <tr>\n",
              "      <th>1975-07</th>\n",
              "      <td>0.0218</td>\n",
              "      <td>-0.0703</td>\n",
              "    </tr>\n",
              "    <tr>\n",
              "      <th>1975-08</th>\n",
              "      <td>-0.0525</td>\n",
              "      <td>-0.0177</td>\n",
              "    </tr>\n",
              "    <tr>\n",
              "      <th>1975-09</th>\n",
              "      <td>-0.0351</td>\n",
              "      <td>-0.0468</td>\n",
              "    </tr>\n",
              "    <tr>\n",
              "      <th>1975-10</th>\n",
              "      <td>-0.0009</td>\n",
              "      <td>0.0620</td>\n",
              "    </tr>\n",
              "    <tr>\n",
              "      <th>1975-11</th>\n",
              "      <td>0.0129</td>\n",
              "      <td>0.0323</td>\n",
              "    </tr>\n",
              "    <tr>\n",
              "      <th>1975-12</th>\n",
              "      <td>-0.0042</td>\n",
              "      <td>-0.0159</td>\n",
              "    </tr>\n",
              "  </tbody>\n",
              "</table>\n",
              "</div>"
            ],
            "text/plain": [
              "         SmallCap  LargeCap\n",
              "1975-01    0.3202    0.1286\n",
              "1975-02    0.0657    0.0613\n",
              "1975-03    0.0989    0.0414\n",
              "1975-04    0.0288    0.0531\n",
              "1975-05    0.0811    0.0610\n",
              "1975-06    0.0779    0.0524\n",
              "1975-07    0.0218   -0.0703\n",
              "1975-08   -0.0525   -0.0177\n",
              "1975-09   -0.0351   -0.0468\n",
              "1975-10   -0.0009    0.0620\n",
              "1975-11    0.0129    0.0323\n",
              "1975-12   -0.0042   -0.0159"
            ]
          },
          "metadata": {
            "tags": []
          },
          "execution_count": 8
        }
      ]
    },
    {
      "cell_type": "code",
      "metadata": {
        "id": "mathematical-appearance",
        "outputId": "40897126-8488-4cf6-88bf-f8a8e4996b0a"
      },
      "source": [
        "rets.info()"
      ],
      "id": "mathematical-appearance",
      "execution_count": null,
      "outputs": [
        {
          "output_type": "stream",
          "text": [
            "<class 'pandas.core.frame.DataFrame'>\n",
            "PeriodIndex: 1110 entries, 1926-07 to 2018-12\n",
            "Freq: M\n",
            "Data columns (total 2 columns):\n",
            " #   Column    Non-Null Count  Dtype  \n",
            "---  ------    --------------  -----  \n",
            " 0   SmallCap  1110 non-null   float64\n",
            " 1   LargeCap  1110 non-null   float64\n",
            "dtypes: float64(2)\n",
            "memory usage: 26.0 KB\n"
          ],
          "name": "stdout"
        }
      ]
    },
    {
      "cell_type": "markdown",
      "metadata": {
        "id": "crude-hands"
      },
      "source": [
        "# Compute Drawdowns\n",
        "\n",
        "1. Compute a wealth index\n",
        "2. Compute previous peaks\n",
        "3. Compute drawdown, which is the wealth value as a percentage of the previous peak"
      ],
      "id": "crude-hands"
    },
    {
      "cell_type": "code",
      "metadata": {
        "id": "noticed-spirituality",
        "outputId": "baf0127b-2959-47e5-96c0-cdb012c8b49b"
      },
      "source": [
        "wealth_index = 1000*(1 + rets['LargeCap']).cumprod()\n",
        "wealth_index.head()"
      ],
      "id": "noticed-spirituality",
      "execution_count": null,
      "outputs": [
        {
          "output_type": "execute_result",
          "data": {
            "text/plain": [
              "1926-07    1032.900000\n",
              "1926-08    1071.117300\n",
              "1926-09    1078.293786\n",
              "1926-10    1052.091247\n",
              "1926-11    1080.497711\n",
              "Freq: M, Name: LargeCap, dtype: float64"
            ]
          },
          "metadata": {
            "tags": []
          },
          "execution_count": 11
        }
      ]
    },
    {
      "cell_type": "code",
      "metadata": {
        "id": "automotive-staff",
        "outputId": "89805d32-8791-4a18-d7cd-24716d0ea7b4"
      },
      "source": [
        "wealth_index.plot()"
      ],
      "id": "automotive-staff",
      "execution_count": null,
      "outputs": [
        {
          "output_type": "execute_result",
          "data": {
            "text/plain": [
              "<AxesSubplot:>"
            ]
          },
          "metadata": {
            "tags": []
          },
          "execution_count": 12
        },
        {
          "output_type": "display_data",
          "data": {
            "image/png": "[encoded data removed]",
            "text/plain": [
              "<Figure size 432x288 with 1 Axes>"
            ]
          },
          "metadata": {
            "tags": [],
            "needs_background": "light"
          }
        }
      ]
    },
    {
      "cell_type": "code",
      "metadata": {
        "id": "lonely-steps",
        "outputId": "3c0a1c53-374c-465c-a222-ad701f41e1dc"
      },
      "source": [
        "previous_peaks = wealth_index.cummax()\n",
        "previous_peaks.head()"
      ],
      "id": "lonely-steps",
      "execution_count": null,
      "outputs": [
        {
          "output_type": "execute_result",
          "data": {
            "text/plain": [
              "1926-07    1032.900000\n",
              "1926-08    1071.117300\n",
              "1926-09    1078.293786\n",
              "1926-10    1078.293786\n",
              "1926-11    1080.497711\n",
              "Freq: M, Name: LargeCap, dtype: float64"
            ]
          },
          "metadata": {
            "tags": []
          },
          "execution_count": 13
        }
      ]
    },
    {
      "cell_type": "code",
      "metadata": {
        "id": "accompanied-encounter",
        "outputId": "e54ac5e9-9a3b-4506-ecd4-c3b756ed7b02"
      },
      "source": [
        "previous_peaks.plot()"
      ],
      "id": "accompanied-encounter",
      "execution_count": null,
      "outputs": [
        {
          "output_type": "execute_result",
          "data": {
            "text/plain": [
              "<AxesSubplot:>"
            ]
          },
          "metadata": {
            "tags": []
          },
          "execution_count": 14
        },
        {
          "output_type": "display_data",
          "data": {
            "image/png": "[encoded data removed]",
            "text/plain": [
              "<Figure size 432x288 with 1 Axes>"
            ]
          },
          "metadata": {
            "tags": [],
            "needs_background": "light"
          }
        }
      ]
    },
    {
      "cell_type": "code",
      "metadata": {
        "id": "tamil-angle",
        "outputId": "e43d38e1-be0b-4018-aac5-172df6561fef"
      },
      "source": [
        "drawdown = (wealth_index - previous_peaks)/previous_peaks\n",
        "drawdown.plot()"
      ],
      "id": "tamil-angle",
      "execution_count": null,
      "outputs": [
        {
          "output_type": "execute_result",
          "data": {
            "text/plain": [
              "<AxesSubplot:>"
            ]
          },
          "metadata": {
            "tags": []
          },
          "execution_count": 15
        },
        {
          "output_type": "display_data",
          "data": {
            "image/png": "[encoded data removed]",
            "text/plain": [
              "<Figure size 432x288 with 1 Axes>"
            ]
          },
          "metadata": {
            "tags": [],
            "needs_background": "light"
          }
        }
      ]
    },
    {
      "cell_type": "code",
      "metadata": {
        "id": "ready-anatomy",
        "outputId": "61877edc-621f-4794-a1fb-d3a6e6a94e2f"
      },
      "source": [
        "drawdown.min()"
      ],
      "id": "ready-anatomy",
      "execution_count": null,
      "outputs": [
        {
          "output_type": "execute_result",
          "data": {
            "text/plain": [
              "-0.8400375277943123"
            ]
          },
          "metadata": {
            "tags": []
          },
          "execution_count": 16
        }
      ]
    },
    {
      "cell_type": "code",
      "metadata": {
        "id": "rotary-arkansas",
        "outputId": "2ab8f283-5621-4e8d-9428-dab8e7ae833f"
      },
      "source": [
        "drawdown['1975':].idxmin()"
      ],
      "id": "rotary-arkansas",
      "execution_count": null,
      "outputs": [
        {
          "output_type": "execute_result",
          "data": {
            "text/plain": [
              "Period('2009-02', 'M')"
            ]
          },
          "metadata": {
            "tags": []
          },
          "execution_count": 18
        }
      ]
    },
    {
      "cell_type": "code",
      "metadata": {
        "id": "grand-polymer",
        "outputId": "c7897c77-68e1-4caa-a83d-3f17ea6de6b3"
      },
      "source": [
        "drawdown.idxmin()"
      ],
      "id": "grand-polymer",
      "execution_count": null,
      "outputs": [
        {
          "output_type": "execute_result",
          "data": {
            "text/plain": [
              "Period('1932-05', 'M')"
            ]
          },
          "metadata": {
            "tags": []
          },
          "execution_count": 19
        }
      ]
    },
    {
      "cell_type": "code",
      "metadata": {
        "id": "proprietary-routine"
      },
      "source": [
        "def drawdown(returns_series: pd.Series):\n",
        "    '''\n",
        "    Takes a time series of asset returns\n",
        "    Computes and returns a DataFrame, that contains:\n",
        "            the wealth index\n",
        "            the previous peaks\n",
        "            percent drawdowns\n",
        "    '''\n",
        "    wealth_index = (1 + returns_series).cumprod()\n",
        "    previous_peaks = wealth_index.cummax()\n",
        "    drawdowns = (wealth_index - previous_peaks)/previous_peaks\n",
        "    return pd.DataFrame({\n",
        "        'Wealth': wealth_index,\n",
        "        'Peaks': previous_peaks,\n",
        "        'Drawdown': drawdowns\n",
        "    })"
      ],
      "id": "proprietary-routine",
      "execution_count": null,
      "outputs": []
    },
    {
      "cell_type": "code",
      "metadata": {
        "id": "general-breach",
        "outputId": "c06bdf06-ca1a-4a9d-b6c1-7623ff004fd3"
      },
      "source": [
        "drawdown(rets['LargeCap']).head()"
      ],
      "id": "general-breach",
      "execution_count": null,
      "outputs": [
        {
          "output_type": "execute_result",
          "data": {
            "text/html": [
              "<div>\n",
              "<style scoped>\n",
              "    .dataframe tbody tr th:only-of-type {\n",
              "        vertical-align: middle;\n",
              "    }\n",
              "\n",
              "    .dataframe tbody tr th {\n",
              "        vertical-align: top;\n",
              "    }\n",
              "\n",
              "    .dataframe thead th {\n",
              "        text-align: right;\n",
              "    }\n",
              "</style>\n",
              "<table border=\"1\" class=\"dataframe\">\n",
              "  <thead>\n",
              "    <tr style=\"text-align: right;\">\n",
              "      <th></th>\n",
              "      <th>Wealth</th>\n",
              "      <th>Peaks</th>\n",
              "      <th>Drawdown</th>\n",
              "    </tr>\n",
              "  </thead>\n",
              "  <tbody>\n",
              "    <tr>\n",
              "      <th>1926-07</th>\n",
              "      <td>1.032900</td>\n",
              "      <td>1.032900</td>\n",
              "      <td>0.0000</td>\n",
              "    </tr>\n",
              "    <tr>\n",
              "      <th>1926-08</th>\n",
              "      <td>1.071117</td>\n",
              "      <td>1.071117</td>\n",
              "      <td>0.0000</td>\n",
              "    </tr>\n",
              "    <tr>\n",
              "      <th>1926-09</th>\n",
              "      <td>1.078294</td>\n",
              "      <td>1.078294</td>\n",
              "      <td>0.0000</td>\n",
              "    </tr>\n",
              "    <tr>\n",
              "      <th>1926-10</th>\n",
              "      <td>1.052091</td>\n",
              "      <td>1.078294</td>\n",
              "      <td>-0.0243</td>\n",
              "    </tr>\n",
              "    <tr>\n",
              "      <th>1926-11</th>\n",
              "      <td>1.080498</td>\n",
              "      <td>1.080498</td>\n",
              "      <td>0.0000</td>\n",
              "    </tr>\n",
              "  </tbody>\n",
              "</table>\n",
              "</div>"
            ],
            "text/plain": [
              "           Wealth     Peaks  Drawdown\n",
              "1926-07  1.032900  1.032900    0.0000\n",
              "1926-08  1.071117  1.071117    0.0000\n",
              "1926-09  1.078294  1.078294    0.0000\n",
              "1926-10  1.052091  1.078294   -0.0243\n",
              "1926-11  1.080498  1.080498    0.0000"
            ]
          },
          "metadata": {
            "tags": []
          },
          "execution_count": 21
        }
      ]
    },
    {
      "cell_type": "code",
      "metadata": {
        "id": "corrected-minister",
        "outputId": "eb341bd3-4bde-4280-d8a6-5b32b0974f88"
      },
      "source": [
        "drawdown(rets['LargeCap'])[['Wealth', 'Peaks']].plot()"
      ],
      "id": "corrected-minister",
      "execution_count": null,
      "outputs": [
        {
          "output_type": "execute_result",
          "data": {
            "text/plain": [
              "<AxesSubplot:>"
            ]
          },
          "metadata": {
            "tags": []
          },
          "execution_count": 22
        },
        {
          "output_type": "display_data",
          "data": {
            "image/png": "[encoded data removed]",
            "text/plain": [
              "<Figure size 432x288 with 1 Axes>"
            ]
          },
          "metadata": {
            "tags": [],
            "needs_background": "light"
          }
        }
      ]
    },
    {
      "cell_type": "code",
      "metadata": {
        "id": "conceptual-barcelona",
        "outputId": "feea291d-a9bd-4378-de02-3fc574581d50"
      },
      "source": [
        "drawdown(rets[:'1950']['LargeCap'])[['Wealth', 'Peaks']].plot()"
      ],
      "id": "conceptual-barcelona",
      "execution_count": null,
      "outputs": [
        {
          "output_type": "execute_result",
          "data": {
            "text/plain": [
              "<AxesSubplot:>"
            ]
          },
          "metadata": {
            "tags": []
          },
          "execution_count": 23
        },
        {
          "output_type": "display_data",
          "data": {
            "image/png": "[encoded data removed]",
            "text/plain": [
              "<Figure size 432x288 with 1 Axes>"
            ]
          },
          "metadata": {
            "tags": [],
            "needs_background": "light"
          }
        }
      ]
    },
    {
      "cell_type": "code",
      "metadata": {
        "id": "suburban-layout",
        "outputId": "c202d021-cb22-434f-8eb9-89b7938bd34f"
      },
      "source": [
        "drawdown(rets['LargeCap'])['Drawdown'].min()"
      ],
      "id": "suburban-layout",
      "execution_count": null,
      "outputs": [
        {
          "output_type": "execute_result",
          "data": {
            "text/plain": [
              "-0.8400375277943123"
            ]
          },
          "metadata": {
            "tags": []
          },
          "execution_count": 25
        }
      ]
    },
    {
      "cell_type": "code",
      "metadata": {
        "id": "proof-scott",
        "outputId": "c9eece4e-dc12-4f50-a875-49627468e920"
      },
      "source": [
        "drawdown(rets['SmallCap'])['Drawdown'].min()"
      ],
      "id": "proof-scott",
      "execution_count": null,
      "outputs": [
        {
          "output_type": "execute_result",
          "data": {
            "text/plain": [
              "-0.8330007793945304"
            ]
          },
          "metadata": {
            "tags": []
          },
          "execution_count": 26
        }
      ]
    },
    {
      "cell_type": "code",
      "metadata": {
        "id": "surrounded-durham",
        "outputId": "a508fbeb-c9b8-4925-bade-c8ceabd05d0b"
      },
      "source": [
        "drawdown(rets['LargeCap'])['Drawdown'].idxmin()"
      ],
      "id": "surrounded-durham",
      "execution_count": null,
      "outputs": [
        {
          "output_type": "execute_result",
          "data": {
            "text/plain": [
              "Period('1932-05', 'M')"
            ]
          },
          "metadata": {
            "tags": []
          },
          "execution_count": 27
        }
      ]
    },
    {
      "cell_type": "code",
      "metadata": {
        "id": "unnecessary-sight",
        "outputId": "6ef9ddfe-1c72-4fe3-cbf9-35a65d57b671"
      },
      "source": [
        "drawdown(rets['SmallCap'])['1940':]['Drawdown'].min()"
      ],
      "id": "unnecessary-sight",
      "execution_count": null,
      "outputs": [
        {
          "output_type": "execute_result",
          "data": {
            "text/plain": [
              "-0.7000596091967913"
            ]
          },
          "metadata": {
            "tags": []
          },
          "execution_count": 28
        }
      ]
    },
    {
      "cell_type": "code",
      "metadata": {
        "id": "industrial-laptop",
        "outputId": "52ca2a1f-aab5-4fa4-c260-9eb9f764ec9b"
      },
      "source": [
        "drawdown(rets['SmallCap'])['1940':]['Drawdown'].idxmin()"
      ],
      "id": "industrial-laptop",
      "execution_count": null,
      "outputs": [
        {
          "output_type": "execute_result",
          "data": {
            "text/plain": [
              "Period('1974-12', 'M')"
            ]
          },
          "metadata": {
            "tags": []
          },
          "execution_count": 29
        }
      ]
    },
    {
      "cell_type": "code",
      "metadata": {
        "id": "physical-conversion",
        "outputId": "4652b3f1-cfd8-4de2-fcee-7e1fa4a60acc"
      },
      "source": [
        "drawdown(rets['SmallCap'])['1975':]['Drawdown'].min()"
      ],
      "id": "physical-conversion",
      "execution_count": null,
      "outputs": [
        {
          "output_type": "execute_result",
          "data": {
            "text/plain": [
              "-0.631206807725239"
            ]
          },
          "metadata": {
            "tags": []
          },
          "execution_count": 30
        }
      ]
    },
    {
      "cell_type": "code",
      "metadata": {
        "id": "round-wildlife",
        "outputId": "5e73d1a1-2f74-4162-d927-3d495963c6af"
      },
      "source": [
        "drawdown(rets['SmallCap'])['1975':]['Drawdown'].idxmin()"
      ],
      "id": "round-wildlife",
      "execution_count": null,
      "outputs": [
        {
          "output_type": "execute_result",
          "data": {
            "text/plain": [
              "Period('2009-02', 'M')"
            ]
          },
          "metadata": {
            "tags": []
          },
          "execution_count": 31
        }
      ]
    },
    {
      "cell_type": "code",
      "metadata": {
        "id": "favorite-provincial",
        "outputId": "841ec93d-8f04-4dd9-b99f-39c6375d7a64"
      },
      "source": [
        "drawdown(rets['LargeCap'])['1975':]['Drawdown'].min()"
      ],
      "id": "favorite-provincial",
      "execution_count": null,
      "outputs": [
        {
          "output_type": "execute_result",
          "data": {
            "text/plain": [
              "-0.5280945042309304"
            ]
          },
          "metadata": {
            "tags": []
          },
          "execution_count": 32
        }
      ]
    },
    {
      "cell_type": "markdown",
      "metadata": {
        "id": "economic-wrong"
      },
      "source": [
        "## Bitcoin Price Api\n",
        "### Bitcoin prices in Dollar and Euro"
      ],
      "id": "economic-wrong"
    },
    {
      "cell_type": "code",
      "metadata": {
        "id": "unlimited-voluntary"
      },
      "source": [
        "ticker_url = 'https://blockchain.info/ticker'"
      ],
      "id": "unlimited-voluntary",
      "execution_count": null,
      "outputs": []
    },
    {
      "cell_type": "code",
      "metadata": {
        "id": "beautiful-honey"
      },
      "source": [
        "import requests"
      ],
      "id": "beautiful-honey",
      "execution_count": null,
      "outputs": []
    },
    {
      "cell_type": "code",
      "metadata": {
        "id": "internal-calgary"
      },
      "source": [
        "ticker_api = requests.get(ticker_url)"
      ],
      "id": "internal-calgary",
      "execution_count": null,
      "outputs": []
    },
    {
      "cell_type": "code",
      "metadata": {
        "id": "increasing-reservation",
        "outputId": "70aa1c32-62b7-4714-bcc8-ee895dd8241c"
      },
      "source": [
        "ticker_api"
      ],
      "id": "increasing-reservation",
      "execution_count": null,
      "outputs": [
        {
          "output_type": "execute_result",
          "data": {
            "text/plain": [
              "<Response [200]>"
            ]
          },
          "metadata": {
            "tags": []
          },
          "execution_count": 19
        }
      ]
    },
    {
      "cell_type": "code",
      "metadata": {
        "id": "sorted-grammar",
        "outputId": "cf0cdd2c-a728-4a3b-bf23-f76604a1547f"
      },
      "source": [
        "ticker_json = ticker_api.json()"
      ],
      "id": "sorted-grammar",
      "execution_count": null,
      "outputs": [
        {
          "output_type": "stream",
          "text": [
            "S D\n",
            "U R\n"
          ],
          "name": "stdout"
        }
      ]
    },
    {
      "cell_type": "code",
      "metadata": {
        "id": "welcome-pottery",
        "outputId": "559cf220-b4fd-4791-db3f-500594adc991"
      },
      "source": [
        "ticker_json['USD']['buy']"
      ],
      "id": "welcome-pottery",
      "execution_count": null,
      "outputs": [
        {
          "output_type": "execute_result",
          "data": {
            "text/plain": [
              "58402.03"
            ]
          },
          "metadata": {
            "tags": []
          },
          "execution_count": 25
        }
      ]
    },
    {
      "cell_type": "code",
      "metadata": {
        "id": "auburn-donor",
        "outputId": "c78f8486-449b-47db-c529-ebbbffad13c8"
      },
      "source": [
        "pd.DataFrame({'Bitcoin_USD': [ticker_json['USD']['buy'],ticker_json['USD']['sell']], \n",
        "              'Bitcoin_EUR': [ticker_json['EUR']['buy'], ticker_json['EUR']['sell']] })"
      ],
      "id": "auburn-donor",
      "execution_count": null,
      "outputs": [
        {
          "output_type": "execute_result",
          "data": {
            "text/html": [
              "<div>\n",
              "<style scoped>\n",
              "    .dataframe tbody tr th:only-of-type {\n",
              "        vertical-align: middle;\n",
              "    }\n",
              "\n",
              "    .dataframe tbody tr th {\n",
              "        vertical-align: top;\n",
              "    }\n",
              "\n",
              "    .dataframe thead th {\n",
              "        text-align: right;\n",
              "    }\n",
              "</style>\n",
              "<table border=\"1\" class=\"dataframe\">\n",
              "  <thead>\n",
              "    <tr style=\"text-align: right;\">\n",
              "      <th></th>\n",
              "      <th>Bitcoin_USD</th>\n",
              "      <th>Bitcoin_EUR</th>\n",
              "    </tr>\n",
              "  </thead>\n",
              "  <tbody>\n",
              "    <tr>\n",
              "      <th>0</th>\n",
              "      <td>58402.03</td>\n",
              "      <td>49812.89</td>\n",
              "    </tr>\n",
              "    <tr>\n",
              "      <th>1</th>\n",
              "      <td>58402.03</td>\n",
              "      <td>49812.89</td>\n",
              "    </tr>\n",
              "  </tbody>\n",
              "</table>\n",
              "</div>"
            ],
            "text/plain": [
              "   Bitcoin_USD  Bitcoin_EUR\n",
              "0     58402.03     49812.89\n",
              "1     58402.03     49812.89"
            ]
          },
          "metadata": {
            "tags": []
          },
          "execution_count": 27
        }
      ]
    },
    {
      "cell_type": "code",
      "metadata": {
        "id": "mental-uniform"
      },
      "source": [
        "import time"
      ],
      "id": "mental-uniform",
      "execution_count": null,
      "outputs": []
    },
    {
      "cell_type": "code",
      "metadata": {
        "id": "requested-hazard"
      },
      "source": [
        "def creating_bitcoin_table():\n",
        "    ticker_url = 'https://blockchain.info/ticker'\n",
        "    usd_buy = []\n",
        "    usd_sell = []\n",
        "    eur_buy = []\n",
        "    eur_sell = []\n",
        "    for _ in range(20):\n",
        "        ticker = requests.get(ticker_url)\n",
        "        ticker_json = ticker.json()\n",
        "        usd_buy.append(ticker_json['USD']['buy'])\n",
        "        usd_sell.append(ticker_json['USD']['sell'])\n",
        "        eur_buy.append(ticker_json['EUR']['buy'])\n",
        "        eur_sell.append(ticker_json['EUR']['buy'])\n",
        "        time.sleep(50)\n",
        "    return pd.DataFrame({'USD_buy': usd_buy,\n",
        "                        'USD_sell': usd_sell,\n",
        "                        'EURO_buy': eur_buy,\n",
        "                        'EURO_sell': eur_sell})"
      ],
      "id": "requested-hazard",
      "execution_count": null,
      "outputs": []
    },
    {
      "cell_type": "code",
      "metadata": {
        "id": "incident-nomination",
        "outputId": "9288c659-cfa7-4065-9755-4c821130f1ac"
      },
      "source": [
        "bitcoin_prices = creating_bitcoin_table()\n",
        "bitcoin_prices"
      ],
      "id": "incident-nomination",
      "execution_count": null,
      "outputs": [
        {
          "output_type": "execute_result",
          "data": {
            "text/html": [
              "<div>\n",
              "<style scoped>\n",
              "    .dataframe tbody tr th:only-of-type {\n",
              "        vertical-align: middle;\n",
              "    }\n",
              "\n",
              "    .dataframe tbody tr th {\n",
              "        vertical-align: top;\n",
              "    }\n",
              "\n",
              "    .dataframe thead th {\n",
              "        text-align: right;\n",
              "    }\n",
              "</style>\n",
              "<table border=\"1\" class=\"dataframe\">\n",
              "  <thead>\n",
              "    <tr style=\"text-align: right;\">\n",
              "      <th></th>\n",
              "      <th>USD_buy</th>\n",
              "      <th>USD_sell</th>\n",
              "      <th>EURO_buy</th>\n",
              "      <th>EURO_sell</th>\n",
              "    </tr>\n",
              "  </thead>\n",
              "  <tbody>\n",
              "    <tr>\n",
              "      <th>0</th>\n",
              "      <td>58106.00</td>\n",
              "      <td>58106.00</td>\n",
              "      <td>49551.20</td>\n",
              "      <td>49551.20</td>\n",
              "    </tr>\n",
              "    <tr>\n",
              "      <th>1</th>\n",
              "      <td>58106.00</td>\n",
              "      <td>58106.00</td>\n",
              "      <td>49551.20</td>\n",
              "      <td>49551.20</td>\n",
              "    </tr>\n",
              "    <tr>\n",
              "      <th>2</th>\n",
              "      <td>58114.73</td>\n",
              "      <td>58114.73</td>\n",
              "      <td>49557.86</td>\n",
              "      <td>49557.86</td>\n",
              "    </tr>\n",
              "    <tr>\n",
              "      <th>3</th>\n",
              "      <td>58103.75</td>\n",
              "      <td>58103.75</td>\n",
              "      <td>49547.47</td>\n",
              "      <td>49547.47</td>\n",
              "    </tr>\n",
              "    <tr>\n",
              "      <th>4</th>\n",
              "      <td>58118.02</td>\n",
              "      <td>58118.02</td>\n",
              "      <td>49557.77</td>\n",
              "      <td>49557.77</td>\n",
              "    </tr>\n",
              "    <tr>\n",
              "      <th>5</th>\n",
              "      <td>58185.03</td>\n",
              "      <td>58185.03</td>\n",
              "      <td>49606.09</td>\n",
              "      <td>49606.09</td>\n",
              "    </tr>\n",
              "    <tr>\n",
              "      <th>6</th>\n",
              "      <td>58152.02</td>\n",
              "      <td>58152.02</td>\n",
              "      <td>49568.26</td>\n",
              "      <td>49568.26</td>\n",
              "    </tr>\n",
              "    <tr>\n",
              "      <th>7</th>\n",
              "      <td>58152.02</td>\n",
              "      <td>58152.02</td>\n",
              "      <td>49568.26</td>\n",
              "      <td>49568.26</td>\n",
              "    </tr>\n",
              "    <tr>\n",
              "      <th>8</th>\n",
              "      <td>58175.70</td>\n",
              "      <td>58175.70</td>\n",
              "      <td>49590.07</td>\n",
              "      <td>49590.07</td>\n",
              "    </tr>\n",
              "    <tr>\n",
              "      <th>9</th>\n",
              "      <td>58165.12</td>\n",
              "      <td>58165.12</td>\n",
              "      <td>49595.04</td>\n",
              "      <td>49595.04</td>\n",
              "    </tr>\n",
              "    <tr>\n",
              "      <th>10</th>\n",
              "      <td>58160.92</td>\n",
              "      <td>58160.92</td>\n",
              "      <td>49577.92</td>\n",
              "      <td>49577.92</td>\n",
              "    </tr>\n",
              "    <tr>\n",
              "      <th>11</th>\n",
              "      <td>58141.60</td>\n",
              "      <td>58141.60</td>\n",
              "      <td>49572.90</td>\n",
              "      <td>49572.90</td>\n",
              "    </tr>\n",
              "    <tr>\n",
              "      <th>12</th>\n",
              "      <td>58129.27</td>\n",
              "      <td>58129.27</td>\n",
              "      <td>49566.92</td>\n",
              "      <td>49566.92</td>\n",
              "    </tr>\n",
              "    <tr>\n",
              "      <th>13</th>\n",
              "      <td>58108.99</td>\n",
              "      <td>58108.99</td>\n",
              "      <td>49548.23</td>\n",
              "      <td>49548.23</td>\n",
              "    </tr>\n",
              "    <tr>\n",
              "      <th>14</th>\n",
              "      <td>58108.99</td>\n",
              "      <td>58108.99</td>\n",
              "      <td>49548.23</td>\n",
              "      <td>49548.23</td>\n",
              "    </tr>\n",
              "    <tr>\n",
              "      <th>15</th>\n",
              "      <td>58156.72</td>\n",
              "      <td>58156.72</td>\n",
              "      <td>49583.75</td>\n",
              "      <td>49583.75</td>\n",
              "    </tr>\n",
              "    <tr>\n",
              "      <th>16</th>\n",
              "      <td>58145.23</td>\n",
              "      <td>58145.23</td>\n",
              "      <td>49574.17</td>\n",
              "      <td>49574.17</td>\n",
              "    </tr>\n",
              "    <tr>\n",
              "      <th>17</th>\n",
              "      <td>58212.13</td>\n",
              "      <td>58212.13</td>\n",
              "      <td>49651.77</td>\n",
              "      <td>49651.77</td>\n",
              "    </tr>\n",
              "    <tr>\n",
              "      <th>18</th>\n",
              "      <td>58166.00</td>\n",
              "      <td>58166.00</td>\n",
              "      <td>49589.22</td>\n",
              "      <td>49589.22</td>\n",
              "    </tr>\n",
              "    <tr>\n",
              "      <th>19</th>\n",
              "      <td>58165.82</td>\n",
              "      <td>58165.82</td>\n",
              "      <td>49593.22</td>\n",
              "      <td>49593.22</td>\n",
              "    </tr>\n",
              "  </tbody>\n",
              "</table>\n",
              "</div>"
            ],
            "text/plain": [
              "     USD_buy  USD_sell  EURO_buy  EURO_sell\n",
              "0   58106.00  58106.00  49551.20   49551.20\n",
              "1   58106.00  58106.00  49551.20   49551.20\n",
              "2   58114.73  58114.73  49557.86   49557.86\n",
              "3   58103.75  58103.75  49547.47   49547.47\n",
              "4   58118.02  58118.02  49557.77   49557.77\n",
              "5   58185.03  58185.03  49606.09   49606.09\n",
              "6   58152.02  58152.02  49568.26   49568.26\n",
              "7   58152.02  58152.02  49568.26   49568.26\n",
              "8   58175.70  58175.70  49590.07   49590.07\n",
              "9   58165.12  58165.12  49595.04   49595.04\n",
              "10  58160.92  58160.92  49577.92   49577.92\n",
              "11  58141.60  58141.60  49572.90   49572.90\n",
              "12  58129.27  58129.27  49566.92   49566.92\n",
              "13  58108.99  58108.99  49548.23   49548.23\n",
              "14  58108.99  58108.99  49548.23   49548.23\n",
              "15  58156.72  58156.72  49583.75   49583.75\n",
              "16  58145.23  58145.23  49574.17   49574.17\n",
              "17  58212.13  58212.13  49651.77   49651.77\n",
              "18  58166.00  58166.00  49589.22   49589.22\n",
              "19  58165.82  58165.82  49593.22   49593.22"
            ]
          },
          "metadata": {
            "tags": []
          },
          "execution_count": 30
        }
      ]
    },
    {
      "cell_type": "code",
      "metadata": {
        "id": "electoral-czech",
        "outputId": "e0f43eb4-08fe-4211-e611-e0d78a069f2c"
      },
      "source": [
        "bitcoin_prices.plot()"
      ],
      "id": "electoral-czech",
      "execution_count": null,
      "outputs": [
        {
          "output_type": "execute_result",
          "data": {
            "text/plain": [
              "<AxesSubplot:>"
            ]
          },
          "metadata": {
            "tags": []
          },
          "execution_count": 31
        },
        {
          "output_type": "display_data",
          "data": {
            "image/png": "[encoded data removed]",
            "text/plain": [
              "<Figure size 432x288 with 1 Axes>"
            ]
          },
          "metadata": {
            "tags": [],
            "needs_background": "light"
          }
        }
      ]
    },
    {
      "cell_type": "code",
      "metadata": {
        "id": "strong-career",
        "outputId": "22212e5f-f65f-4e94-cdf2-b613c7f3600d"
      },
      "source": [
        "bitcoin_prices.pct_change().head(10)"
      ],
      "id": "strong-career",
      "execution_count": null,
      "outputs": [
        {
          "output_type": "execute_result",
          "data": {
            "text/html": [
              "<div>\n",
              "<style scoped>\n",
              "    .dataframe tbody tr th:only-of-type {\n",
              "        vertical-align: middle;\n",
              "    }\n",
              "\n",
              "    .dataframe tbody tr th {\n",
              "        vertical-align: top;\n",
              "    }\n",
              "\n",
              "    .dataframe thead th {\n",
              "        text-align: right;\n",
              "    }\n",
              "</style>\n",
              "<table border=\"1\" class=\"dataframe\">\n",
              "  <thead>\n",
              "    <tr style=\"text-align: right;\">\n",
              "      <th></th>\n",
              "      <th>USD_buy</th>\n",
              "      <th>USD_sell</th>\n",
              "      <th>EURO_buy</th>\n",
              "      <th>EURO_sell</th>\n",
              "    </tr>\n",
              "  </thead>\n",
              "  <tbody>\n",
              "    <tr>\n",
              "      <th>0</th>\n",
              "      <td>NaN</td>\n",
              "      <td>NaN</td>\n",
              "      <td>NaN</td>\n",
              "      <td>NaN</td>\n",
              "    </tr>\n",
              "    <tr>\n",
              "      <th>1</th>\n",
              "      <td>0.000000</td>\n",
              "      <td>0.000000</td>\n",
              "      <td>0.000000</td>\n",
              "      <td>0.000000</td>\n",
              "    </tr>\n",
              "    <tr>\n",
              "      <th>2</th>\n",
              "      <td>0.000150</td>\n",
              "      <td>0.000150</td>\n",
              "      <td>0.000134</td>\n",
              "      <td>0.000134</td>\n",
              "    </tr>\n",
              "    <tr>\n",
              "      <th>3</th>\n",
              "      <td>-0.000189</td>\n",
              "      <td>-0.000189</td>\n",
              "      <td>-0.000210</td>\n",
              "      <td>-0.000210</td>\n",
              "    </tr>\n",
              "    <tr>\n",
              "      <th>4</th>\n",
              "      <td>0.000246</td>\n",
              "      <td>0.000246</td>\n",
              "      <td>0.000208</td>\n",
              "      <td>0.000208</td>\n",
              "    </tr>\n",
              "    <tr>\n",
              "      <th>5</th>\n",
              "      <td>0.001153</td>\n",
              "      <td>0.001153</td>\n",
              "      <td>0.000975</td>\n",
              "      <td>0.000975</td>\n",
              "    </tr>\n",
              "    <tr>\n",
              "      <th>6</th>\n",
              "      <td>-0.000567</td>\n",
              "      <td>-0.000567</td>\n",
              "      <td>-0.000763</td>\n",
              "      <td>-0.000763</td>\n",
              "    </tr>\n",
              "    <tr>\n",
              "      <th>7</th>\n",
              "      <td>0.000000</td>\n",
              "      <td>0.000000</td>\n",
              "      <td>0.000000</td>\n",
              "      <td>0.000000</td>\n",
              "    </tr>\n",
              "    <tr>\n",
              "      <th>8</th>\n",
              "      <td>0.000407</td>\n",
              "      <td>0.000407</td>\n",
              "      <td>0.000440</td>\n",
              "      <td>0.000440</td>\n",
              "    </tr>\n",
              "    <tr>\n",
              "      <th>9</th>\n",
              "      <td>-0.000182</td>\n",
              "      <td>-0.000182</td>\n",
              "      <td>0.000100</td>\n",
              "      <td>0.000100</td>\n",
              "    </tr>\n",
              "  </tbody>\n",
              "</table>\n",
              "</div>"
            ],
            "text/plain": [
              "    USD_buy  USD_sell  EURO_buy  EURO_sell\n",
              "0       NaN       NaN       NaN        NaN\n",
              "1  0.000000  0.000000  0.000000   0.000000\n",
              "2  0.000150  0.000150  0.000134   0.000134\n",
              "3 -0.000189 -0.000189 -0.000210  -0.000210\n",
              "4  0.000246  0.000246  0.000208   0.000208\n",
              "5  0.001153  0.001153  0.000975   0.000975\n",
              "6 -0.000567 -0.000567 -0.000763  -0.000763\n",
              "7  0.000000  0.000000  0.000000   0.000000\n",
              "8  0.000407  0.000407  0.000440   0.000440\n",
              "9 -0.000182 -0.000182  0.000100   0.000100"
            ]
          },
          "metadata": {
            "tags": []
          },
          "execution_count": 32
        }
      ]
    },
    {
      "cell_type": "code",
      "metadata": {
        "id": "going-label",
        "outputId": "71d09b2c-583f-44a3-e508-4b98d4b88a06"
      },
      "source": [
        "bitcoin_prices.mean()"
      ],
      "id": "going-label",
      "execution_count": null,
      "outputs": [
        {
          "output_type": "execute_result",
          "data": {
            "text/plain": [
              "USD_buy      58143.7030\n",
              "USD_sell     58143.7030\n",
              "EURO_buy     49574.9775\n",
              "EURO_sell    49574.9775\n",
              "dtype: float64"
            ]
          },
          "metadata": {
            "tags": []
          },
          "execution_count": 33
        }
      ]
    },
    {
      "cell_type": "code",
      "metadata": {
        "id": "piano-wisconsin"
      },
      "source": [
        ""
      ],
      "id": "piano-wisconsin",
      "execution_count": null,
      "outputs": []
    }
  ]
}