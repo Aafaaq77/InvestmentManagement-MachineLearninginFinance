{
  "nbformat": 4,
  "nbformat_minor": 5,
  "metadata": {
    "kernelspec": {
      "display_name": "Python 3",
      "language": "python",
      "name": "python3"
    },
    "language_info": {
      "codemirror_mode": {
        "name": "ipython",
        "version": 3
      },
      "file_extension": ".py",
      "mimetype": "text/x-python",
      "name": "python",
      "nbconvert_exporter": "python",
      "pygments_lexer": "ipython3",
      "version": "3.7.9"
    },
    "colab": {
      "name": "Copy of downsidemeasures.ipynb",
      "provenance": []
    }
  },
  "cells": [
    {
      "cell_type": "markdown",
      "metadata": {
        "id": "unusual-management"
      },
      "source": [
        "## Downside!"
      ],
      "id": "unusual-management"
    },
    {
      "cell_type": "code",
      "metadata": {
        "id": "raising-curtis",
        "outputId": "56231837-ea11-40e0-9aea-adc921fd758b"
      },
      "source": [
        "import pandas as pd\n",
        "import edhec_risk_kit as erk\n",
        "%load_ext autoreload\n",
        "%autoreload 2\n",
        "%matplotlib inline"
      ],
      "id": "raising-curtis",
      "execution_count": null,
      "outputs": [
        {
          "output_type": "stream",
          "text": [
            "The autoreload extension is already loaded. To reload it, use:\n",
            "  %reload_ext autoreload\n"
          ],
          "name": "stdout"
        }
      ]
    },
    {
      "cell_type": "code",
      "metadata": {
        "id": "conventional-district"
      },
      "source": [
        "hfi = erk.get_hfi_returns()"
      ],
      "id": "conventional-district",
      "execution_count": null,
      "outputs": []
    },
    {
      "cell_type": "markdown",
      "metadata": {
        "id": "vanilla-sheep"
      },
      "source": [
        "### Semideviation"
      ],
      "id": "vanilla-sheep"
    },
    {
      "cell_type": "code",
      "metadata": {
        "id": "combined-sarah",
        "outputId": "21658c23-802b-427d-c96e-e66e2ce5047f"
      },
      "source": [
        "hfi.std(ddof=0)"
      ],
      "id": "combined-sarah",
      "execution_count": null,
      "outputs": [
        {
          "output_type": "execute_result",
          "data": {
            "text/plain": [
              "Convertible Arbitrage     0.016536\n",
              "CTA Global                0.023290\n",
              "Distressed Securities     0.017009\n",
              "Emerging Markets          0.032476\n",
              "Equity Market Neutral     0.008115\n",
              "Event Driven              0.016712\n",
              "Fixed Income Arbitrage    0.011517\n",
              "Global Macro              0.014694\n",
              "Long/Short Equity         0.019897\n",
              "Merger Arbitrage          0.009600\n",
              "Relative Value            0.011462\n",
              "Short Selling             0.047655\n",
              "Funds Of Funds            0.015536\n",
              "dtype: float64"
            ]
          },
          "metadata": {
            "tags": []
          },
          "execution_count": 4
        }
      ]
    },
    {
      "cell_type": "code",
      "metadata": {
        "id": "pending-cleaner",
        "outputId": "97de92b2-32df-42a9-89f0-fce428a23832"
      },
      "source": [
        "hfi"
      ],
      "id": "pending-cleaner",
      "execution_count": null,
      "outputs": [
        {
          "output_type": "execute_result",
          "data": {
            "text/html": [
              "<div>\n",
              "<style scoped>\n",
              "    .dataframe tbody tr th:only-of-type {\n",
              "        vertical-align: middle;\n",
              "    }\n",
              "\n",
              "    .dataframe tbody tr th {\n",
              "        vertical-align: top;\n",
              "    }\n",
              "\n",
              "    .dataframe thead th {\n",
              "        text-align: right;\n",
              "    }\n",
              "</style>\n",
              "<table border=\"1\" class=\"dataframe\">\n",
              "  <thead>\n",
              "    <tr style=\"text-align: right;\">\n",
              "      <th></th>\n",
              "      <th>Convertible Arbitrage</th>\n",
              "      <th>CTA Global</th>\n",
              "      <th>Distressed Securities</th>\n",
              "      <th>Emerging Markets</th>\n",
              "      <th>Equity Market Neutral</th>\n",
              "      <th>Event Driven</th>\n",
              "      <th>Fixed Income Arbitrage</th>\n",
              "      <th>Global Macro</th>\n",
              "      <th>Long/Short Equity</th>\n",
              "      <th>Merger Arbitrage</th>\n",
              "      <th>Relative Value</th>\n",
              "      <th>Short Selling</th>\n",
              "      <th>Funds Of Funds</th>\n",
              "    </tr>\n",
              "    <tr>\n",
              "      <th>date</th>\n",
              "      <th></th>\n",
              "      <th></th>\n",
              "      <th></th>\n",
              "      <th></th>\n",
              "      <th></th>\n",
              "      <th></th>\n",
              "      <th></th>\n",
              "      <th></th>\n",
              "      <th></th>\n",
              "      <th></th>\n",
              "      <th></th>\n",
              "      <th></th>\n",
              "      <th></th>\n",
              "    </tr>\n",
              "  </thead>\n",
              "  <tbody>\n",
              "    <tr>\n",
              "      <th>1997-01</th>\n",
              "      <td>0.0119</td>\n",
              "      <td>0.0393</td>\n",
              "      <td>0.0178</td>\n",
              "      <td>0.0791</td>\n",
              "      <td>0.0189</td>\n",
              "      <td>0.0213</td>\n",
              "      <td>0.0191</td>\n",
              "      <td>0.0573</td>\n",
              "      <td>0.0281</td>\n",
              "      <td>0.0150</td>\n",
              "      <td>0.0180</td>\n",
              "      <td>-0.0166</td>\n",
              "      <td>0.0317</td>\n",
              "    </tr>\n",
              "    <tr>\n",
              "      <th>1997-02</th>\n",
              "      <td>0.0123</td>\n",
              "      <td>0.0298</td>\n",
              "      <td>0.0122</td>\n",
              "      <td>0.0525</td>\n",
              "      <td>0.0101</td>\n",
              "      <td>0.0084</td>\n",
              "      <td>0.0122</td>\n",
              "      <td>0.0175</td>\n",
              "      <td>-0.0006</td>\n",
              "      <td>0.0034</td>\n",
              "      <td>0.0118</td>\n",
              "      <td>0.0426</td>\n",
              "      <td>0.0106</td>\n",
              "    </tr>\n",
              "    <tr>\n",
              "      <th>1997-03</th>\n",
              "      <td>0.0078</td>\n",
              "      <td>-0.0021</td>\n",
              "      <td>-0.0012</td>\n",
              "      <td>-0.0120</td>\n",
              "      <td>0.0016</td>\n",
              "      <td>-0.0023</td>\n",
              "      <td>0.0109</td>\n",
              "      <td>-0.0119</td>\n",
              "      <td>-0.0084</td>\n",
              "      <td>0.0060</td>\n",
              "      <td>0.0010</td>\n",
              "      <td>0.0778</td>\n",
              "      <td>-0.0077</td>\n",
              "    </tr>\n",
              "    <tr>\n",
              "      <th>1997-04</th>\n",
              "      <td>0.0086</td>\n",
              "      <td>-0.0170</td>\n",
              "      <td>0.0030</td>\n",
              "      <td>0.0119</td>\n",
              "      <td>0.0119</td>\n",
              "      <td>-0.0005</td>\n",
              "      <td>0.0130</td>\n",
              "      <td>0.0172</td>\n",
              "      <td>0.0084</td>\n",
              "      <td>-0.0001</td>\n",
              "      <td>0.0122</td>\n",
              "      <td>-0.0129</td>\n",
              "      <td>0.0009</td>\n",
              "    </tr>\n",
              "    <tr>\n",
              "      <th>1997-05</th>\n",
              "      <td>0.0156</td>\n",
              "      <td>-0.0015</td>\n",
              "      <td>0.0233</td>\n",
              "      <td>0.0315</td>\n",
              "      <td>0.0189</td>\n",
              "      <td>0.0346</td>\n",
              "      <td>0.0118</td>\n",
              "      <td>0.0108</td>\n",
              "      <td>0.0394</td>\n",
              "      <td>0.0197</td>\n",
              "      <td>0.0173</td>\n",
              "      <td>-0.0737</td>\n",
              "      <td>0.0275</td>\n",
              "    </tr>\n",
              "    <tr>\n",
              "      <th>...</th>\n",
              "      <td>...</td>\n",
              "      <td>...</td>\n",
              "      <td>...</td>\n",
              "      <td>...</td>\n",
              "      <td>...</td>\n",
              "      <td>...</td>\n",
              "      <td>...</td>\n",
              "      <td>...</td>\n",
              "      <td>...</td>\n",
              "      <td>...</td>\n",
              "      <td>...</td>\n",
              "      <td>...</td>\n",
              "      <td>...</td>\n",
              "    </tr>\n",
              "    <tr>\n",
              "      <th>2018-07</th>\n",
              "      <td>0.0021</td>\n",
              "      <td>-0.0058</td>\n",
              "      <td>0.0093</td>\n",
              "      <td>0.0040</td>\n",
              "      <td>-0.0010</td>\n",
              "      <td>0.0055</td>\n",
              "      <td>0.0022</td>\n",
              "      <td>-0.0014</td>\n",
              "      <td>0.0067</td>\n",
              "      <td>-0.0021</td>\n",
              "      <td>0.0045</td>\n",
              "      <td>-0.0052</td>\n",
              "      <td>0.0018</td>\n",
              "    </tr>\n",
              "    <tr>\n",
              "      <th>2018-08</th>\n",
              "      <td>0.0024</td>\n",
              "      <td>0.0166</td>\n",
              "      <td>0.0002</td>\n",
              "      <td>-0.0277</td>\n",
              "      <td>0.0004</td>\n",
              "      <td>0.0011</td>\n",
              "      <td>0.0017</td>\n",
              "      <td>-0.0007</td>\n",
              "      <td>0.0035</td>\n",
              "      <td>0.0050</td>\n",
              "      <td>-0.0002</td>\n",
              "      <td>-0.0214</td>\n",
              "      <td>0.0015</td>\n",
              "    </tr>\n",
              "    <tr>\n",
              "      <th>2018-09</th>\n",
              "      <td>0.0034</td>\n",
              "      <td>-0.0054</td>\n",
              "      <td>0.0050</td>\n",
              "      <td>-0.0110</td>\n",
              "      <td>-0.0016</td>\n",
              "      <td>0.0032</td>\n",
              "      <td>0.0036</td>\n",
              "      <td>0.0006</td>\n",
              "      <td>-0.0023</td>\n",
              "      <td>0.0028</td>\n",
              "      <td>0.0018</td>\n",
              "      <td>0.0036</td>\n",
              "      <td>-0.0022</td>\n",
              "    </tr>\n",
              "    <tr>\n",
              "      <th>2018-10</th>\n",
              "      <td>-0.0073</td>\n",
              "      <td>-0.0314</td>\n",
              "      <td>-0.0158</td>\n",
              "      <td>-0.0315</td>\n",
              "      <td>-0.0129</td>\n",
              "      <td>-0.0257</td>\n",
              "      <td>-0.0023</td>\n",
              "      <td>-0.0096</td>\n",
              "      <td>-0.0402</td>\n",
              "      <td>-0.0080</td>\n",
              "      <td>-0.0109</td>\n",
              "      <td>0.0237</td>\n",
              "      <td>-0.0269</td>\n",
              "    </tr>\n",
              "    <tr>\n",
              "      <th>2018-11</th>\n",
              "      <td>-0.0068</td>\n",
              "      <td>-0.0053</td>\n",
              "      <td>-0.0193</td>\n",
              "      <td>0.0120</td>\n",
              "      <td>-0.0211</td>\n",
              "      <td>-0.0034</td>\n",
              "      <td>-0.0067</td>\n",
              "      <td>-0.0087</td>\n",
              "      <td>-0.0044</td>\n",
              "      <td>0.0119</td>\n",
              "      <td>-0.0063</td>\n",
              "      <td>-0.0021</td>\n",
              "      <td>-0.0071</td>\n",
              "    </tr>\n",
              "  </tbody>\n",
              "</table>\n",
              "<p>263 rows × 13 columns</p>\n",
              "</div>"
            ],
            "text/plain": [
              "         Convertible Arbitrage  CTA Global  Distressed Securities  \\\n",
              "date                                                                \n",
              "1997-01                 0.0119      0.0393                 0.0178   \n",
              "1997-02                 0.0123      0.0298                 0.0122   \n",
              "1997-03                 0.0078     -0.0021                -0.0012   \n",
              "1997-04                 0.0086     -0.0170                 0.0030   \n",
              "1997-05                 0.0156     -0.0015                 0.0233   \n",
              "...                        ...         ...                    ...   \n",
              "2018-07                 0.0021     -0.0058                 0.0093   \n",
              "2018-08                 0.0024      0.0166                 0.0002   \n",
              "2018-09                 0.0034     -0.0054                 0.0050   \n",
              "2018-10                -0.0073     -0.0314                -0.0158   \n",
              "2018-11                -0.0068     -0.0053                -0.0193   \n",
              "\n",
              "         Emerging Markets  Equity Market Neutral  Event Driven  \\\n",
              "date                                                             \n",
              "1997-01            0.0791                 0.0189        0.0213   \n",
              "1997-02            0.0525                 0.0101        0.0084   \n",
              "1997-03           -0.0120                 0.0016       -0.0023   \n",
              "1997-04            0.0119                 0.0119       -0.0005   \n",
              "1997-05            0.0315                 0.0189        0.0346   \n",
              "...                   ...                    ...           ...   \n",
              "2018-07            0.0040                -0.0010        0.0055   \n",
              "2018-08           -0.0277                 0.0004        0.0011   \n",
              "2018-09           -0.0110                -0.0016        0.0032   \n",
              "2018-10           -0.0315                -0.0129       -0.0257   \n",
              "2018-11            0.0120                -0.0211       -0.0034   \n",
              "\n",
              "         Fixed Income Arbitrage  Global Macro  Long/Short Equity  \\\n",
              "date                                                               \n",
              "1997-01                  0.0191        0.0573             0.0281   \n",
              "1997-02                  0.0122        0.0175            -0.0006   \n",
              "1997-03                  0.0109       -0.0119            -0.0084   \n",
              "1997-04                  0.0130        0.0172             0.0084   \n",
              "1997-05                  0.0118        0.0108             0.0394   \n",
              "...                         ...           ...                ...   \n",
              "2018-07                  0.0022       -0.0014             0.0067   \n",
              "2018-08                  0.0017       -0.0007             0.0035   \n",
              "2018-09                  0.0036        0.0006            -0.0023   \n",
              "2018-10                 -0.0023       -0.0096            -0.0402   \n",
              "2018-11                 -0.0067       -0.0087            -0.0044   \n",
              "\n",
              "         Merger Arbitrage  Relative Value  Short Selling  Funds Of Funds  \n",
              "date                                                                      \n",
              "1997-01            0.0150          0.0180        -0.0166          0.0317  \n",
              "1997-02            0.0034          0.0118         0.0426          0.0106  \n",
              "1997-03            0.0060          0.0010         0.0778         -0.0077  \n",
              "1997-04           -0.0001          0.0122        -0.0129          0.0009  \n",
              "1997-05            0.0197          0.0173        -0.0737          0.0275  \n",
              "...                   ...             ...            ...             ...  \n",
              "2018-07           -0.0021          0.0045        -0.0052          0.0018  \n",
              "2018-08            0.0050         -0.0002        -0.0214          0.0015  \n",
              "2018-09            0.0028          0.0018         0.0036         -0.0022  \n",
              "2018-10           -0.0080         -0.0109         0.0237         -0.0269  \n",
              "2018-11            0.0119         -0.0063        -0.0021         -0.0071  \n",
              "\n",
              "[263 rows x 13 columns]"
            ]
          },
          "metadata": {
            "tags": []
          },
          "execution_count": 5
        }
      ]
    },
    {
      "cell_type": "code",
      "metadata": {
        "id": "proof-relative",
        "outputId": "35728887-cfa3-4161-f203-3c3af768d72d"
      },
      "source": [
        "hfi[hfi<0].std(ddof=0)"
      ],
      "id": "proof-relative",
      "execution_count": null,
      "outputs": [
        {
          "output_type": "execute_result",
          "data": {
            "text/plain": [
              "Convertible Arbitrage     0.019540\n",
              "CTA Global                0.012443\n",
              "Distressed Securities     0.015185\n",
              "Emerging Markets          0.028039\n",
              "Equity Market Neutral     0.009566\n",
              "Event Driven              0.015429\n",
              "Fixed Income Arbitrage    0.017763\n",
              "Global Macro              0.006579\n",
              "Long/Short Equity         0.014051\n",
              "Merger Arbitrage          0.008875\n",
              "Relative Value            0.012244\n",
              "Short Selling             0.027283\n",
              "Funds Of Funds            0.012122\n",
              "dtype: float64"
            ]
          },
          "metadata": {
            "tags": []
          },
          "execution_count": 6
        }
      ]
    },
    {
      "cell_type": "code",
      "metadata": {
        "id": "prescribed-investigator",
        "outputId": "81015537-d241-417a-b204-bbd2c4e02fea"
      },
      "source": [
        "erk.semideviation(hfi)"
      ],
      "id": "prescribed-investigator",
      "execution_count": null,
      "outputs": [
        {
          "output_type": "execute_result",
          "data": {
            "text/plain": [
              "Convertible Arbitrage     0.019540\n",
              "CTA Global                0.012443\n",
              "Distressed Securities     0.015185\n",
              "Emerging Markets          0.028039\n",
              "Equity Market Neutral     0.009566\n",
              "Event Driven              0.015429\n",
              "Fixed Income Arbitrage    0.017763\n",
              "Global Macro              0.006579\n",
              "Long/Short Equity         0.014051\n",
              "Merger Arbitrage          0.008875\n",
              "Relative Value            0.012244\n",
              "Short Selling             0.027283\n",
              "Funds Of Funds            0.012122\n",
              "dtype: float64"
            ]
          },
          "metadata": {
            "tags": []
          },
          "execution_count": 8
        }
      ]
    },
    {
      "cell_type": "markdown",
      "metadata": {
        "id": "analyzed-possession"
      },
      "source": [
        "## VaR and CVaR\n",
        "#### value at risk\n",
        "\n",
        "- Historic VaR\n",
        "- Parametric VaR - Gaussian\n",
        "- Modified Cornish-Fisher VaR"
      ],
      "id": "analyzed-possession"
    },
    {
      "cell_type": "code",
      "metadata": {
        "id": "actual-crown"
      },
      "source": [
        "import numpy as np"
      ],
      "id": "actual-crown",
      "execution_count": null,
      "outputs": []
    },
    {
      "cell_type": "code",
      "metadata": {
        "id": "closing-status",
        "outputId": "152c9f12-4def-4327-aa1f-03c0e885f537"
      },
      "source": [
        "np.percentile(hfi, 5, axis=0)"
      ],
      "id": "closing-status",
      "execution_count": null,
      "outputs": [
        {
          "output_type": "execute_result",
          "data": {
            "text/plain": [
              "array([-0.01576, -0.03169, -0.01966, -0.04247, -0.00814, -0.02535,\n",
              "       -0.00787, -0.01499, -0.02598, -0.01047, -0.01174, -0.06783,\n",
              "       -0.02047])"
            ]
          },
          "metadata": {
            "tags": []
          },
          "execution_count": 10
        }
      ]
    },
    {
      "cell_type": "code",
      "metadata": {
        "id": "equipped-green"
      },
      "source": [
        "def var_historic(r, level=5):\n",
        "    '''\n",
        "    VaR Historic\n",
        "    '''\n",
        "    if isinstance(r, pd.DataFrame):\n",
        "        return r.aggregate(var_historic, level=level)\n",
        "    elif isinstance(r, pd.Series):\n",
        "        return -np.percentile(r, level)\n",
        "    else:\n",
        "        raise TypeError('Expected r to be a pandas Series or a DataFrame')\n",
        "        "
      ],
      "id": "equipped-green",
      "execution_count": null,
      "outputs": []
    },
    {
      "cell_type": "code",
      "metadata": {
        "id": "upper-delay",
        "outputId": "f516f6b4-8f8a-41a2-ef7a-1bdc58322aca"
      },
      "source": [
        "var_historic(hfi)"
      ],
      "id": "upper-delay",
      "execution_count": null,
      "outputs": [
        {
          "output_type": "execute_result",
          "data": {
            "text/plain": [
              "Convertible Arbitrage     0.01576\n",
              "CTA Global                0.03169\n",
              "Distressed Securities     0.01966\n",
              "Emerging Markets          0.04247\n",
              "Equity Market Neutral     0.00814\n",
              "Event Driven              0.02535\n",
              "Fixed Income Arbitrage    0.00787\n",
              "Global Macro              0.01499\n",
              "Long/Short Equity         0.02598\n",
              "Merger Arbitrage          0.01047\n",
              "Relative Value            0.01174\n",
              "Short Selling             0.06783\n",
              "Funds Of Funds            0.02047\n",
              "dtype: float64"
            ]
          },
          "metadata": {
            "tags": []
          },
          "execution_count": 34
        }
      ]
    },
    {
      "cell_type": "code",
      "metadata": {
        "id": "successful-scout",
        "outputId": "d68247f3-794c-4f5f-aa9c-3ea89529dee4"
      },
      "source": [
        "erk.var_historic(hfi)"
      ],
      "id": "successful-scout",
      "execution_count": null,
      "outputs": [
        {
          "output_type": "execute_result",
          "data": {
            "text/plain": [
              "Convertible Arbitrage     0.01576\n",
              "CTA Global                0.03169\n",
              "Distressed Securities     0.01966\n",
              "Emerging Markets          0.04247\n",
              "Equity Market Neutral     0.00814\n",
              "Event Driven              0.02535\n",
              "Fixed Income Arbitrage    0.00787\n",
              "Global Macro              0.01499\n",
              "Long/Short Equity         0.02598\n",
              "Merger Arbitrage          0.01047\n",
              "Relative Value            0.01174\n",
              "Short Selling             0.06783\n",
              "Funds Of Funds            0.02047\n",
              "dtype: float64"
            ]
          },
          "metadata": {
            "tags": []
          },
          "execution_count": 36
        }
      ]
    },
    {
      "cell_type": "code",
      "metadata": {
        "id": "enormous-adaptation"
      },
      "source": [
        "from scipy.stats import norm"
      ],
      "id": "enormous-adaptation",
      "execution_count": null,
      "outputs": []
    },
    {
      "cell_type": "code",
      "metadata": {
        "id": "average-simon",
        "outputId": "6efde51a-8a60-45cc-80e7-85b04ee05606"
      },
      "source": [
        "norm.ppf(.05)"
      ],
      "id": "average-simon",
      "execution_count": null,
      "outputs": [
        {
          "output_type": "execute_result",
          "data": {
            "text/plain": [
              "-1.6448536269514729"
            ]
          },
          "metadata": {
            "tags": []
          },
          "execution_count": 38
        }
      ]
    },
    {
      "cell_type": "code",
      "metadata": {
        "id": "proprietary-russell",
        "outputId": "576d4f90-8765-489d-fd64-38c197312a1a"
      },
      "source": [
        "norm.ppf(.5)"
      ],
      "id": "proprietary-russell",
      "execution_count": null,
      "outputs": [
        {
          "output_type": "execute_result",
          "data": {
            "text/plain": [
              "0.0"
            ]
          },
          "metadata": {
            "tags": []
          },
          "execution_count": 39
        }
      ]
    },
    {
      "cell_type": "code",
      "metadata": {
        "id": "peripheral-differential"
      },
      "source": [
        "z = norm.ppf(.05)"
      ],
      "id": "peripheral-differential",
      "execution_count": null,
      "outputs": []
    },
    {
      "cell_type": "code",
      "metadata": {
        "id": "spectacular-convert",
        "outputId": "bf4897fb-57d3-4f6b-df2e-2d41058d8619"
      },
      "source": [
        "hfi.mean() + z * hfi.std(ddof=0)"
      ],
      "id": "spectacular-convert",
      "execution_count": null,
      "outputs": [
        {
          "output_type": "execute_result",
          "data": {
            "text/plain": [
              "Convertible Arbitrage    -0.021691\n",
              "CTA Global               -0.034235\n",
              "Distressed Securities    -0.021032\n",
              "Emerging Markets         -0.047164\n",
              "Equity Market Neutral    -0.008850\n",
              "Event Driven             -0.021144\n",
              "Fixed Income Arbitrage   -0.014579\n",
              "Global Macro             -0.018766\n",
              "Long/Short Equity        -0.026397\n",
              "Merger Arbitrage         -0.010435\n",
              "Relative Value           -0.013061\n",
              "Short Selling            -0.080086\n",
              "Funds Of Funds           -0.021292\n",
              "dtype: float64"
            ]
          },
          "metadata": {
            "tags": []
          },
          "execution_count": 41
        }
      ]
    },
    {
      "cell_type": "code",
      "metadata": {
        "id": "impossible-english",
        "outputId": "3f5583ac-17e7-41d4-fc5f-73c3ec974b59"
      },
      "source": [
        "erk.var_gaussian(hfi)"
      ],
      "id": "impossible-english",
      "execution_count": null,
      "outputs": [
        {
          "output_type": "execute_result",
          "data": {
            "text/plain": [
              "Convertible Arbitrage     0.021691\n",
              "CTA Global                0.034235\n",
              "Distressed Securities     0.021032\n",
              "Emerging Markets          0.047164\n",
              "Equity Market Neutral     0.008850\n",
              "Event Driven              0.021144\n",
              "Fixed Income Arbitrage    0.014579\n",
              "Global Macro              0.018766\n",
              "Long/Short Equity         0.026397\n",
              "Merger Arbitrage          0.010435\n",
              "Relative Value            0.013061\n",
              "Short Selling             0.080086\n",
              "Funds Of Funds            0.021292\n",
              "dtype: float64"
            ]
          },
          "metadata": {
            "tags": []
          },
          "execution_count": 43
        }
      ]
    },
    {
      "cell_type": "code",
      "metadata": {
        "id": "collective-class",
        "outputId": "45c8ea44-5d8a-4c05-ff28-4998cc13eedb"
      },
      "source": [
        "var_list = [erk.var_gaussian(hfi), erk.var_gaussian(hfi, modified=True), erk.var_historic(hfi)]\n",
        "comparison = pd.concat(var_list, axis=1)\n",
        "comparison.columns = [\"Gaussian\", \"Cornisch-Fischer\", \"Historic\"]\n",
        "comparison.plot.bar(title='EDHEC Hedge Fund Indices: VaR')"
      ],
      "id": "collective-class",
      "execution_count": null,
      "outputs": [
        {
          "output_type": "execute_result",
          "data": {
            "text/plain": [
              "<AxesSubplot:title={'center':'EDHEC Hedge Fund Indices: VaR'}>"
            ]
          },
          "metadata": {
            "tags": []
          },
          "execution_count": 47
        },
        {
          "output_type": "display_data",
          "data": {
            "image/png": "[encoded data removed]",
            "text/plain": [
              "<Figure size 432x288 with 1 Axes>"
            ]
          },
          "metadata": {
            "tags": [],
            "needs_background": "light"
          }
        }
      ]
    },
    {
      "cell_type": "markdown",
      "metadata": {
        "id": "crucial-harassment"
      },
      "source": [
        "### Beyond VaR aka CVaR"
      ],
      "id": "crucial-harassment"
    },
    {
      "cell_type": "code",
      "metadata": {
        "id": "ignored-arlington",
        "outputId": "dd2a9358-22ef-490a-c4e4-e8a33926ab92"
      },
      "source": [
        "erk.cvar_historic(hfi)"
      ],
      "id": "ignored-arlington",
      "execution_count": null,
      "outputs": [
        {
          "output_type": "execute_result",
          "data": {
            "text/plain": [
              "Convertible Arbitrage     0.036550\n",
              "CTA Global                0.041264\n",
              "Distressed Securities     0.036429\n",
              "Emerging Markets          0.072364\n",
              "Equity Market Neutral     0.016879\n",
              "Event Driven              0.038336\n",
              "Fixed Income Arbitrage    0.028257\n",
              "Global Macro              0.020629\n",
              "Long/Short Equity         0.041943\n",
              "Merger Arbitrage          0.019143\n",
              "Relative Value            0.024650\n",
              "Short Selling             0.096821\n",
              "Funds Of Funds            0.033207\n",
              "dtype: float64"
            ]
          },
          "metadata": {
            "tags": []
          },
          "execution_count": 49
        }
      ]
    },
    {
      "cell_type": "code",
      "metadata": {
        "id": "russian-chile"
      },
      "source": [
        ""
      ],
      "id": "russian-chile",
      "execution_count": null,
      "outputs": []
    }
  ]
}