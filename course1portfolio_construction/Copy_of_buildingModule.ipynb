{
  "nbformat": 4,
  "nbformat_minor": 5,
  "metadata": {
    "kernelspec": {
      "display_name": "Python 3",
      "language": "python",
      "name": "python3"
    },
    "language_info": {
      "codemirror_mode": {
        "name": "ipython",
        "version": 3
      },
      "file_extension": ".py",
      "mimetype": "text/x-python",
      "name": "python",
      "nbconvert_exporter": "python",
      "pygments_lexer": "ipython3",
      "version": "3.7.9"
    },
    "colab": {
      "name": "Copy of buildingModule.ipynb",
      "provenance": [],
      "collapsed_sections": []
    }
  },
  "cells": [
    {
      "cell_type": "markdown",
      "metadata": {
        "id": "wanted-tribune"
      },
      "source": [
        "# Building Modules"
      ],
      "id": "wanted-tribune"
    },
    {
      "cell_type": "code",
      "metadata": {
        "id": "blank-interpretation"
      },
      "source": [
        "import pandas as pd"
      ],
      "id": "blank-interpretation",
      "execution_count": null,
      "outputs": []
    },
    {
      "cell_type": "code",
      "metadata": {
        "id": "peripheral-alignment"
      },
      "source": [
        "import hello as h"
      ],
      "id": "peripheral-alignment",
      "execution_count": null,
      "outputs": []
    },
    {
      "cell_type": "code",
      "metadata": {
        "id": "german-italic",
        "outputId": "54096c2d-f71f-4e54-b7bc-2b93ad0ef1eb"
      },
      "source": [
        "h.message"
      ],
      "id": "german-italic",
      "execution_count": null,
      "outputs": [
        {
          "output_type": "execute_result",
          "data": {
            "text/plain": [
              "'Hello from hello.py'"
            ]
          },
          "metadata": {
            "tags": []
          },
          "execution_count": 4
        }
      ]
    },
    {
      "cell_type": "code",
      "metadata": {
        "id": "dramatic-intelligence"
      },
      "source": [
        "%load_ext autoreload"
      ],
      "id": "dramatic-intelligence",
      "execution_count": null,
      "outputs": []
    },
    {
      "cell_type": "code",
      "metadata": {
        "id": "behind-yukon"
      },
      "source": [
        "%autoreload 2"
      ],
      "id": "behind-yukon",
      "execution_count": null,
      "outputs": []
    },
    {
      "cell_type": "code",
      "metadata": {
        "id": "killing-performance",
        "outputId": "cc8e9da7-cead-420e-fc41-4846614a8fec"
      },
      "source": [
        "h.message"
      ],
      "id": "killing-performance",
      "execution_count": null,
      "outputs": [
        {
          "output_type": "execute_result",
          "data": {
            "text/plain": [
              "'Hello again with a change from hello.py'"
            ]
          },
          "metadata": {
            "tags": []
          },
          "execution_count": 7
        }
      ]
    },
    {
      "cell_type": "code",
      "metadata": {
        "id": "architectural-harvest"
      },
      "source": [
        "import edhec_risk_kit as erk\n",
        "\n",
        "returns = erk.get_ffme_returns()"
      ],
      "id": "architectural-harvest",
      "execution_count": null,
      "outputs": []
    },
    {
      "cell_type": "code",
      "metadata": {
        "id": "unexpected-queue",
        "outputId": "1d4807d5-3408-477e-9a49-c52d33fdf20a"
      },
      "source": [
        "returns.head()"
      ],
      "id": "unexpected-queue",
      "execution_count": null,
      "outputs": [
        {
          "output_type": "execute_result",
          "data": {
            "text/html": [
              "<div>\n",
              "<style scoped>\n",
              "    .dataframe tbody tr th:only-of-type {\n",
              "        vertical-align: middle;\n",
              "    }\n",
              "\n",
              "    .dataframe tbody tr th {\n",
              "        vertical-align: top;\n",
              "    }\n",
              "\n",
              "    .dataframe thead th {\n",
              "        text-align: right;\n",
              "    }\n",
              "</style>\n",
              "<table border=\"1\" class=\"dataframe\">\n",
              "  <thead>\n",
              "    <tr style=\"text-align: right;\">\n",
              "      <th></th>\n",
              "      <th>SmallCap</th>\n",
              "      <th>LargeCap</th>\n",
              "    </tr>\n",
              "  </thead>\n",
              "  <tbody>\n",
              "    <tr>\n",
              "      <th>1926-07</th>\n",
              "      <td>-0.0145</td>\n",
              "      <td>0.0329</td>\n",
              "    </tr>\n",
              "    <tr>\n",
              "      <th>1926-08</th>\n",
              "      <td>0.0512</td>\n",
              "      <td>0.0370</td>\n",
              "    </tr>\n",
              "    <tr>\n",
              "      <th>1926-09</th>\n",
              "      <td>0.0093</td>\n",
              "      <td>0.0067</td>\n",
              "    </tr>\n",
              "    <tr>\n",
              "      <th>1926-10</th>\n",
              "      <td>-0.0484</td>\n",
              "      <td>-0.0243</td>\n",
              "    </tr>\n",
              "    <tr>\n",
              "      <th>1926-11</th>\n",
              "      <td>-0.0078</td>\n",
              "      <td>0.0270</td>\n",
              "    </tr>\n",
              "  </tbody>\n",
              "</table>\n",
              "</div>"
            ],
            "text/plain": [
              "         SmallCap  LargeCap\n",
              "1926-07   -0.0145    0.0329\n",
              "1926-08    0.0512    0.0370\n",
              "1926-09    0.0093    0.0067\n",
              "1926-10   -0.0484   -0.0243\n",
              "1926-11   -0.0078    0.0270"
            ]
          },
          "metadata": {
            "tags": []
          },
          "execution_count": 10
        }
      ]
    },
    {
      "cell_type": "code",
      "metadata": {
        "id": "downtown-financing",
        "outputId": "f0fa42f9-65fe-4548-c07b-abfe359d9386"
      },
      "source": [
        "erk.drawdown(returns[\"SmallCap\"])[\"Drawdown\"].min()"
      ],
      "id": "downtown-financing",
      "execution_count": null,
      "outputs": [
        {
          "output_type": "execute_result",
          "data": {
            "text/plain": [
              "-0.8330007793945303"
            ]
          },
          "metadata": {
            "tags": []
          },
          "execution_count": 11
        }
      ]
    },
    {
      "cell_type": "code",
      "metadata": {
        "id": "pharmaceutical-halloween",
        "outputId": "09364274-f9c3-4e65-9b9b-0e26cb23a7f0"
      },
      "source": [
        "erk.drawdown(returns[\"1975\":][\"SmallCap\"])[\"Drawdown\"].min()"
      ],
      "id": "pharmaceutical-halloween",
      "execution_count": null,
      "outputs": [
        {
          "output_type": "execute_result",
          "data": {
            "text/plain": [
              "-0.6312068077252386"
            ]
          },
          "metadata": {
            "tags": []
          },
          "execution_count": 12
        }
      ]
    },
    {
      "cell_type": "code",
      "metadata": {
        "id": "relative-subcommittee"
      },
      "source": [
        ""
      ],
      "id": "relative-subcommittee",
      "execution_count": null,
      "outputs": []
    }
  ]
}