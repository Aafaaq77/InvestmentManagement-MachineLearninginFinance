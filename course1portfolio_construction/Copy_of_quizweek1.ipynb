{
  "nbformat": 4,
  "nbformat_minor": 5,
  "metadata": {
    "kernelspec": {
      "display_name": "Python 3",
      "language": "python",
      "name": "python3"
    },
    "language_info": {
      "codemirror_mode": {
        "name": "ipython",
        "version": 3
      },
      "file_extension": ".py",
      "mimetype": "text/x-python",
      "name": "python",
      "nbconvert_exporter": "python",
      "pygments_lexer": "ipython3",
      "version": "3.7.9"
    },
    "colab": {
      "name": "Copy of quizweek1.ipynb",
      "provenance": []
    }
  },
  "cells": [
    {
      "cell_type": "code",
      "metadata": {
        "id": "unauthorized-azerbaijan"
      },
      "source": [
        "import numpy as np\n",
        "import pandas as pd"
      ],
      "id": "unauthorized-azerbaijan",
      "execution_count": null,
      "outputs": []
    },
    {
      "cell_type": "code",
      "metadata": {
        "id": "animated-verse"
      },
      "source": [
        "import edhec_risk_kit as erk"
      ],
      "id": "animated-verse",
      "execution_count": null,
      "outputs": []
    },
    {
      "cell_type": "code",
      "metadata": {
        "id": "studied-stack",
        "outputId": "20182510-e679-41e3-d525-268349eb4b3c"
      },
      "source": [
        "rets = edhec_risk_kit.get_ffme_returns('Lo 20', 'Hi 20', 'lo20', 'hi20')\n",
        "rets.head()"
      ],
      "id": "studied-stack",
      "execution_count": null,
      "outputs": [
        {
          "output_type": "execute_result",
          "data": {
            "text/html": [
              "<div>\n",
              "<style scoped>\n",
              "    .dataframe tbody tr th:only-of-type {\n",
              "        vertical-align: middle;\n",
              "    }\n",
              "\n",
              "    .dataframe tbody tr th {\n",
              "        vertical-align: top;\n",
              "    }\n",
              "\n",
              "    .dataframe thead th {\n",
              "        text-align: right;\n",
              "    }\n",
              "</style>\n",
              "<table border=\"1\" class=\"dataframe\">\n",
              "  <thead>\n",
              "    <tr style=\"text-align: right;\">\n",
              "      <th></th>\n",
              "      <th>lo20</th>\n",
              "      <th>hi20</th>\n",
              "    </tr>\n",
              "  </thead>\n",
              "  <tbody>\n",
              "    <tr>\n",
              "      <th>1926-07</th>\n",
              "      <td>-0.0057</td>\n",
              "      <td>0.0333</td>\n",
              "    </tr>\n",
              "    <tr>\n",
              "      <th>1926-08</th>\n",
              "      <td>0.0384</td>\n",
              "      <td>0.0233</td>\n",
              "    </tr>\n",
              "    <tr>\n",
              "      <th>1926-09</th>\n",
              "      <td>-0.0048</td>\n",
              "      <td>-0.0009</td>\n",
              "    </tr>\n",
              "    <tr>\n",
              "      <th>1926-10</th>\n",
              "      <td>-0.0329</td>\n",
              "      <td>-0.0295</td>\n",
              "    </tr>\n",
              "    <tr>\n",
              "      <th>1926-11</th>\n",
              "      <td>-0.0055</td>\n",
              "      <td>0.0316</td>\n",
              "    </tr>\n",
              "  </tbody>\n",
              "</table>\n",
              "</div>"
            ],
            "text/plain": [
              "           lo20    hi20\n",
              "1926-07 -0.0057  0.0333\n",
              "1926-08  0.0384  0.0233\n",
              "1926-09 -0.0048 -0.0009\n",
              "1926-10 -0.0329 -0.0295\n",
              "1926-11 -0.0055  0.0316"
            ]
          },
          "metadata": {
            "tags": []
          },
          "execution_count": 3
        }
      ]
    },
    {
      "cell_type": "raw",
      "metadata": {
        "id": "comic-spanking"
      },
      "source": [
        "n_months = returns.shape[0]\n",
        "return_per_month = (returns + 1).prod()**(1/n_months) - 1\n",
        "return_per_month"
      ],
      "id": "comic-spanking"
    },
    {
      "cell_type": "code",
      "metadata": {
        "id": "gross-harrison",
        "outputId": "3f3f6248-e18a-46b0-b9be-fb11fd1516c0"
      },
      "source": [
        "rets.shape"
      ],
      "id": "gross-harrison",
      "execution_count": null,
      "outputs": [
        {
          "output_type": "execute_result",
          "data": {
            "text/plain": [
              "(1110, 2)"
            ]
          },
          "metadata": {
            "tags": []
          },
          "execution_count": 4
        }
      ]
    },
    {
      "cell_type": "code",
      "metadata": {
        "id": "collected-beginning",
        "outputId": "8ac52876-2f7c-44a5-c288-485dd3772f5c"
      },
      "source": [
        "n_months = rets.shape[0]\n",
        "rets_per_month = (rets + 1).prod()**(1/n_months) - 1\n",
        "annualized_returns = (rets_per_month + 1) ** 12 - 1\n",
        "annualized_returns"
      ],
      "id": "collected-beginning",
      "execution_count": null,
      "outputs": [
        {
          "output_type": "execute_result",
          "data": {
            "text/plain": [
              "lo20    0.151977\n",
              "hi20    0.098490\n",
              "dtype: float64"
            ]
          },
          "metadata": {
            "tags": []
          },
          "execution_count": 6
        }
      ]
    },
    {
      "cell_type": "code",
      "metadata": {
        "id": "recorded-status",
        "outputId": "850b9a1d-1280-4970-c4d3-7e74891b0337"
      },
      "source": [
        "0.151977 * 100"
      ],
      "id": "recorded-status",
      "execution_count": null,
      "outputs": [
        {
          "output_type": "execute_result",
          "data": {
            "text/plain": [
              "15.1977"
            ]
          },
          "metadata": {
            "tags": []
          },
          "execution_count": 7
        }
      ]
    },
    {
      "cell_type": "code",
      "metadata": {
        "id": "lucky-pantyhose",
        "outputId": "e92b91e7-a898-4e44-8ced-f915a2639b5a"
      },
      "source": [
        "annualized_vol = rets.std()*np.sqrt(12)\n",
        "annualized_vol"
      ],
      "id": "lucky-pantyhose",
      "execution_count": null,
      "outputs": [
        {
          "output_type": "execute_result",
          "data": {
            "text/plain": [
              "lo20    0.336701\n",
              "hi20    0.195116\n",
              "dtype: float64"
            ]
          },
          "metadata": {
            "tags": []
          },
          "execution_count": 8
        }
      ]
    },
    {
      "cell_type": "code",
      "metadata": {
        "id": "flexible-weekly",
        "outputId": "57586192-3060-4ca0-9559-6a792f64d058"
      },
      "source": [
        "me_m = pd.read_csv('data/Portfolios_Formed_on_ME_monthly_EW.csv', header=0,\n",
        "                   index_col=0, parse_dates=True, na_values=-99.99)\n",
        "rets = me_m[['Lo 20', 'Hi 20']]\n",
        "rets.columns = ['lo20', 'hi20']\n",
        "rets = rets/100\n",
        "rets.plot()"
      ],
      "id": "flexible-weekly",
      "execution_count": null,
      "outputs": [
        {
          "output_type": "execute_result",
          "data": {
            "text/plain": [
              "<AxesSubplot:>"
            ]
          },
          "metadata": {
            "tags": []
          },
          "execution_count": 9
        },
        {
          "output_type": "display_data",
          "data": {
            "image/png": "[encoded data removed]",
            "text/plain": [
              "<Figure size 432x288 with 1 Axes>"
            ]
          },
          "metadata": {
            "tags": [],
            "needs_background": "light"
          }
        }
      ]
    },
    {
      "cell_type": "code",
      "metadata": {
        "id": "tight-chorus",
        "outputId": "aa2b287f-0d7d-41e6-cab6-0b394ea9dc62"
      },
      "source": [
        "rets.index = pd.to_datetime(rets.index, format='%Y%m')\n",
        "rets.head()"
      ],
      "id": "tight-chorus",
      "execution_count": null,
      "outputs": [
        {
          "output_type": "execute_result",
          "data": {
            "text/html": [
              "<div>\n",
              "<style scoped>\n",
              "    .dataframe tbody tr th:only-of-type {\n",
              "        vertical-align: middle;\n",
              "    }\n",
              "\n",
              "    .dataframe tbody tr th {\n",
              "        vertical-align: top;\n",
              "    }\n",
              "\n",
              "    .dataframe thead th {\n",
              "        text-align: right;\n",
              "    }\n",
              "</style>\n",
              "<table border=\"1\" class=\"dataframe\">\n",
              "  <thead>\n",
              "    <tr style=\"text-align: right;\">\n",
              "      <th></th>\n",
              "      <th>lo20</th>\n",
              "      <th>hi20</th>\n",
              "    </tr>\n",
              "  </thead>\n",
              "  <tbody>\n",
              "    <tr>\n",
              "      <th>1926-07-01</th>\n",
              "      <td>-0.0057</td>\n",
              "      <td>0.0333</td>\n",
              "    </tr>\n",
              "    <tr>\n",
              "      <th>1926-08-01</th>\n",
              "      <td>0.0384</td>\n",
              "      <td>0.0233</td>\n",
              "    </tr>\n",
              "    <tr>\n",
              "      <th>1926-09-01</th>\n",
              "      <td>-0.0048</td>\n",
              "      <td>-0.0009</td>\n",
              "    </tr>\n",
              "    <tr>\n",
              "      <th>1926-10-01</th>\n",
              "      <td>-0.0329</td>\n",
              "      <td>-0.0295</td>\n",
              "    </tr>\n",
              "    <tr>\n",
              "      <th>1926-11-01</th>\n",
              "      <td>-0.0055</td>\n",
              "      <td>0.0316</td>\n",
              "    </tr>\n",
              "  </tbody>\n",
              "</table>\n",
              "</div>"
            ],
            "text/plain": [
              "              lo20    hi20\n",
              "1926-07-01 -0.0057  0.0333\n",
              "1926-08-01  0.0384  0.0233\n",
              "1926-09-01 -0.0048 -0.0009\n",
              "1926-10-01 -0.0329 -0.0295\n",
              "1926-11-01 -0.0055  0.0316"
            ]
          },
          "metadata": {
            "tags": []
          },
          "execution_count": 10
        }
      ]
    },
    {
      "cell_type": "code",
      "metadata": {
        "id": "authentic-brush",
        "outputId": "447b898c-404c-4976-de76-e38b1f75dc63"
      },
      "source": [
        "rets.index = rets.index.to_period('M')\n",
        "rets.head()"
      ],
      "id": "authentic-brush",
      "execution_count": null,
      "outputs": [
        {
          "output_type": "execute_result",
          "data": {
            "text/html": [
              "<div>\n",
              "<style scoped>\n",
              "    .dataframe tbody tr th:only-of-type {\n",
              "        vertical-align: middle;\n",
              "    }\n",
              "\n",
              "    .dataframe tbody tr th {\n",
              "        vertical-align: top;\n",
              "    }\n",
              "\n",
              "    .dataframe thead th {\n",
              "        text-align: right;\n",
              "    }\n",
              "</style>\n",
              "<table border=\"1\" class=\"dataframe\">\n",
              "  <thead>\n",
              "    <tr style=\"text-align: right;\">\n",
              "      <th></th>\n",
              "      <th>lo20</th>\n",
              "      <th>hi20</th>\n",
              "    </tr>\n",
              "  </thead>\n",
              "  <tbody>\n",
              "    <tr>\n",
              "      <th>1926-07</th>\n",
              "      <td>-0.0057</td>\n",
              "      <td>0.0333</td>\n",
              "    </tr>\n",
              "    <tr>\n",
              "      <th>1926-08</th>\n",
              "      <td>0.0384</td>\n",
              "      <td>0.0233</td>\n",
              "    </tr>\n",
              "    <tr>\n",
              "      <th>1926-09</th>\n",
              "      <td>-0.0048</td>\n",
              "      <td>-0.0009</td>\n",
              "    </tr>\n",
              "    <tr>\n",
              "      <th>1926-10</th>\n",
              "      <td>-0.0329</td>\n",
              "      <td>-0.0295</td>\n",
              "    </tr>\n",
              "    <tr>\n",
              "      <th>1926-11</th>\n",
              "      <td>-0.0055</td>\n",
              "      <td>0.0316</td>\n",
              "    </tr>\n",
              "  </tbody>\n",
              "</table>\n",
              "</div>"
            ],
            "text/plain": [
              "           lo20    hi20\n",
              "1926-07 -0.0057  0.0333\n",
              "1926-08  0.0384  0.0233\n",
              "1926-09 -0.0048 -0.0009\n",
              "1926-10 -0.0329 -0.0295\n",
              "1926-11 -0.0055  0.0316"
            ]
          },
          "metadata": {
            "tags": []
          },
          "execution_count": 11
        }
      ]
    },
    {
      "cell_type": "code",
      "metadata": {
        "id": "negative-princess",
        "outputId": "a364e2db-8f75-4834-ec68-b4e85bdb55bc"
      },
      "source": [
        "test_period = rets['1999':'2015']\n",
        "n_months = test_period.shape[0]\n",
        "rets_per_month = (test_period + 1).prod()**(1/n_months) - 1\n",
        "annualized_returns = (rets_per_month + 1) ** 12 - 1\n",
        "annualized_returns"
      ],
      "id": "negative-princess",
      "execution_count": null,
      "outputs": [
        {
          "output_type": "execute_result",
          "data": {
            "text/plain": [
              "lo20    0.114426\n",
              "hi20    0.062865\n",
              "dtype: float64"
            ]
          },
          "metadata": {
            "tags": []
          },
          "execution_count": 14
        }
      ]
    },
    {
      "cell_type": "code",
      "metadata": {
        "id": "clear-frontier",
        "outputId": "14d41e45-ff6f-4823-8079-c6f022362c1a"
      },
      "source": [
        "annualized_vol = test_period.std()*np.sqrt(12)\n",
        "annualized_vol"
      ],
      "id": "clear-frontier",
      "execution_count": null,
      "outputs": [
        {
          "output_type": "execute_result",
          "data": {
            "text/plain": [
              "lo20    0.228894\n",
              "hi20    0.172713\n",
              "dtype: float64"
            ]
          },
          "metadata": {
            "tags": []
          },
          "execution_count": 15
        }
      ]
    },
    {
      "cell_type": "code",
      "metadata": {
        "id": "harmful-sally",
        "outputId": "379ad97a-6947-44d7-ea6b-6932695197c8"
      },
      "source": [
        "tp_drawdown_lo = edhec_risk_kit.drawdown(test_period['lo20'])\n",
        "print('Min', tp_drawdown_lo['Drawdown'].min(), tp_drawdown_lo['Drawdown'].idxmin())"
      ],
      "id": "harmful-sally",
      "execution_count": null,
      "outputs": [
        {
          "output_type": "stream",
          "text": [
            "Min -0.6248092431236988 2009-02\n"
          ],
          "name": "stdout"
        }
      ]
    },
    {
      "cell_type": "code",
      "metadata": {
        "id": "developmental-repository",
        "outputId": "87b98dce-387b-479e-98ee-cb846fc197d1"
      },
      "source": [
        "tp_drawdown_hi = edhec_risk_kit.drawdown(test_period['hi20'])\n",
        "print('Min: ', tp_drawdown_hi['Drawdown'].min(), tp_drawdown_hi['Drawdown'].idxmin())"
      ],
      "id": "developmental-repository",
      "execution_count": null,
      "outputs": [
        {
          "output_type": "stream",
          "text": [
            "Min:  -0.5527349978713653 2009-02\n"
          ],
          "name": "stdout"
        }
      ]
    },
    {
      "cell_type": "code",
      "metadata": {
        "id": "entertaining-victoria",
        "outputId": "31f70ae4-1182-4810-99e6-d6554dd08909"
      },
      "source": [
        "hfi = edhec_risk_kit.get_hfi_returns()\n",
        "hfi.head()"
      ],
      "id": "entertaining-victoria",
      "execution_count": null,
      "outputs": [
        {
          "output_type": "execute_result",
          "data": {
            "text/html": [
              "<div>\n",
              "<style scoped>\n",
              "    .dataframe tbody tr th:only-of-type {\n",
              "        vertical-align: middle;\n",
              "    }\n",
              "\n",
              "    .dataframe tbody tr th {\n",
              "        vertical-align: top;\n",
              "    }\n",
              "\n",
              "    .dataframe thead th {\n",
              "        text-align: right;\n",
              "    }\n",
              "</style>\n",
              "<table border=\"1\" class=\"dataframe\">\n",
              "  <thead>\n",
              "    <tr style=\"text-align: right;\">\n",
              "      <th></th>\n",
              "      <th>Convertible Arbitrage</th>\n",
              "      <th>CTA Global</th>\n",
              "      <th>Distressed Securities</th>\n",
              "      <th>Emerging Markets</th>\n",
              "      <th>Equity Market Neutral</th>\n",
              "      <th>Event Driven</th>\n",
              "      <th>Fixed Income Arbitrage</th>\n",
              "      <th>Global Macro</th>\n",
              "      <th>Long/Short Equity</th>\n",
              "      <th>Merger Arbitrage</th>\n",
              "      <th>Relative Value</th>\n",
              "      <th>Short Selling</th>\n",
              "      <th>Funds Of Funds</th>\n",
              "    </tr>\n",
              "    <tr>\n",
              "      <th>date</th>\n",
              "      <th></th>\n",
              "      <th></th>\n",
              "      <th></th>\n",
              "      <th></th>\n",
              "      <th></th>\n",
              "      <th></th>\n",
              "      <th></th>\n",
              "      <th></th>\n",
              "      <th></th>\n",
              "      <th></th>\n",
              "      <th></th>\n",
              "      <th></th>\n",
              "      <th></th>\n",
              "    </tr>\n",
              "  </thead>\n",
              "  <tbody>\n",
              "    <tr>\n",
              "      <th>1997-01</th>\n",
              "      <td>0.0119</td>\n",
              "      <td>0.0393</td>\n",
              "      <td>0.0178</td>\n",
              "      <td>0.0791</td>\n",
              "      <td>0.0189</td>\n",
              "      <td>0.0213</td>\n",
              "      <td>0.0191</td>\n",
              "      <td>0.0573</td>\n",
              "      <td>0.0281</td>\n",
              "      <td>0.0150</td>\n",
              "      <td>0.0180</td>\n",
              "      <td>-0.0166</td>\n",
              "      <td>0.0317</td>\n",
              "    </tr>\n",
              "    <tr>\n",
              "      <th>1997-02</th>\n",
              "      <td>0.0123</td>\n",
              "      <td>0.0298</td>\n",
              "      <td>0.0122</td>\n",
              "      <td>0.0525</td>\n",
              "      <td>0.0101</td>\n",
              "      <td>0.0084</td>\n",
              "      <td>0.0122</td>\n",
              "      <td>0.0175</td>\n",
              "      <td>-0.0006</td>\n",
              "      <td>0.0034</td>\n",
              "      <td>0.0118</td>\n",
              "      <td>0.0426</td>\n",
              "      <td>0.0106</td>\n",
              "    </tr>\n",
              "    <tr>\n",
              "      <th>1997-03</th>\n",
              "      <td>0.0078</td>\n",
              "      <td>-0.0021</td>\n",
              "      <td>-0.0012</td>\n",
              "      <td>-0.0120</td>\n",
              "      <td>0.0016</td>\n",
              "      <td>-0.0023</td>\n",
              "      <td>0.0109</td>\n",
              "      <td>-0.0119</td>\n",
              "      <td>-0.0084</td>\n",
              "      <td>0.0060</td>\n",
              "      <td>0.0010</td>\n",
              "      <td>0.0778</td>\n",
              "      <td>-0.0077</td>\n",
              "    </tr>\n",
              "    <tr>\n",
              "      <th>1997-04</th>\n",
              "      <td>0.0086</td>\n",
              "      <td>-0.0170</td>\n",
              "      <td>0.0030</td>\n",
              "      <td>0.0119</td>\n",
              "      <td>0.0119</td>\n",
              "      <td>-0.0005</td>\n",
              "      <td>0.0130</td>\n",
              "      <td>0.0172</td>\n",
              "      <td>0.0084</td>\n",
              "      <td>-0.0001</td>\n",
              "      <td>0.0122</td>\n",
              "      <td>-0.0129</td>\n",
              "      <td>0.0009</td>\n",
              "    </tr>\n",
              "    <tr>\n",
              "      <th>1997-05</th>\n",
              "      <td>0.0156</td>\n",
              "      <td>-0.0015</td>\n",
              "      <td>0.0233</td>\n",
              "      <td>0.0315</td>\n",
              "      <td>0.0189</td>\n",
              "      <td>0.0346</td>\n",
              "      <td>0.0118</td>\n",
              "      <td>0.0108</td>\n",
              "      <td>0.0394</td>\n",
              "      <td>0.0197</td>\n",
              "      <td>0.0173</td>\n",
              "      <td>-0.0737</td>\n",
              "      <td>0.0275</td>\n",
              "    </tr>\n",
              "  </tbody>\n",
              "</table>\n",
              "</div>"
            ],
            "text/plain": [
              "         Convertible Arbitrage  CTA Global  Distressed Securities  \\\n",
              "date                                                                \n",
              "1997-01                 0.0119      0.0393                 0.0178   \n",
              "1997-02                 0.0123      0.0298                 0.0122   \n",
              "1997-03                 0.0078     -0.0021                -0.0012   \n",
              "1997-04                 0.0086     -0.0170                 0.0030   \n",
              "1997-05                 0.0156     -0.0015                 0.0233   \n",
              "\n",
              "         Emerging Markets  Equity Market Neutral  Event Driven  \\\n",
              "date                                                             \n",
              "1997-01            0.0791                 0.0189        0.0213   \n",
              "1997-02            0.0525                 0.0101        0.0084   \n",
              "1997-03           -0.0120                 0.0016       -0.0023   \n",
              "1997-04            0.0119                 0.0119       -0.0005   \n",
              "1997-05            0.0315                 0.0189        0.0346   \n",
              "\n",
              "         Fixed Income Arbitrage  Global Macro  Long/Short Equity  \\\n",
              "date                                                               \n",
              "1997-01                  0.0191        0.0573             0.0281   \n",
              "1997-02                  0.0122        0.0175            -0.0006   \n",
              "1997-03                  0.0109       -0.0119            -0.0084   \n",
              "1997-04                  0.0130        0.0172             0.0084   \n",
              "1997-05                  0.0118        0.0108             0.0394   \n",
              "\n",
              "         Merger Arbitrage  Relative Value  Short Selling  Funds Of Funds  \n",
              "date                                                                      \n",
              "1997-01            0.0150          0.0180        -0.0166          0.0317  \n",
              "1997-02            0.0034          0.0118         0.0426          0.0106  \n",
              "1997-03            0.0060          0.0010         0.0778         -0.0077  \n",
              "1997-04           -0.0001          0.0122        -0.0129          0.0009  \n",
              "1997-05            0.0197          0.0173        -0.0737          0.0275  "
            ]
          },
          "metadata": {
            "tags": []
          },
          "execution_count": 27
        }
      ]
    },
    {
      "cell_type": "code",
      "metadata": {
        "id": "welcome-debut",
        "outputId": "eedd262d-66cd-49ea-e6e1-c8c45f78d89d"
      },
      "source": [
        "erk.skewness(hfi['2009':'2018']).sort_values()"
      ],
      "id": "welcome-debut",
      "execution_count": null,
      "outputs": [
        {
          "output_type": "execute_result",
          "data": {
            "text/plain": [
              "Equity Market Neutral    -0.896327\n",
              "Funds Of Funds           -0.646908\n",
              "Merger Arbitrage         -0.551065\n",
              "Event Driven             -0.488821\n",
              "Long/Short Equity        -0.463703\n",
              "Distressed Securities    -0.254944\n",
              "Emerging Markets          0.033123\n",
              "CTA Global                0.052062\n",
              "Relative Value            0.159953\n",
              "Global Macro              0.348184\n",
              "Short Selling             0.456518\n",
              "Fixed Income Arbitrage    1.121453\n",
              "Convertible Arbitrage     1.305911\n",
              "dtype: float64"
            ]
          },
          "metadata": {
            "tags": []
          },
          "execution_count": 31
        }
      ]
    },
    {
      "cell_type": "code",
      "metadata": {
        "id": "resident-samuel",
        "outputId": "5d65236e-6066-466e-83b4-b5fc8c508c76"
      },
      "source": [
        "erk.kurtosis(hfi['2009':'2018']).sort_values()"
      ],
      "id": "resident-samuel",
      "execution_count": null,
      "outputs": [
        {
          "output_type": "execute_result",
          "data": {
            "text/plain": [
              "CTA Global                2.591087\n",
              "Merger Arbitrage          2.715238\n",
              "Global Macro              3.164362\n",
              "Distressed Securities     3.319725\n",
              "Event Driven              3.620617\n",
              "Funds Of Funds            3.816132\n",
              "Long/Short Equity         4.115713\n",
              "Short Selling             4.175832\n",
              "Emerging Markets          4.401636\n",
              "Relative Value            4.512482\n",
              "Equity Market Neutral     5.071677\n",
              "Fixed Income Arbitrage    6.406941\n",
              "Convertible Arbitrage     6.775731\n",
              "dtype: float64"
            ]
          },
          "metadata": {
            "tags": []
          },
          "execution_count": 33
        }
      ]
    },
    {
      "cell_type": "code",
      "metadata": {
        "id": "negative-hindu",
        "outputId": "fe708e7d-fcd4-465c-f212-653f05102652"
      },
      "source": [
        "(np.square(hfi['2009':'2018'] - hfi['2009':'2018'].mean()).sum()/hfi['2009':'2018'].shape[0]).sort_values()"
      ],
      "id": "negative-hindu",
      "execution_count": null,
      "outputs": [
        {
          "output_type": "execute_result",
          "data": {
            "text/plain": [
              "Equity Market Neutral     0.000038\n",
              "Merger Arbitrage          0.000041\n",
              "Fixed Income Arbitrage    0.000058\n",
              "Relative Value            0.000090\n",
              "Global Macro              0.000107\n",
              "Funds Of Funds            0.000114\n",
              "Convertible Arbitrage     0.000186\n",
              "Event Driven              0.000215\n",
              "Distressed Securities     0.000247\n",
              "Long/Short Equity         0.000283\n",
              "CTA Global                0.000390\n",
              "Emerging Markets          0.000550\n",
              "Short Selling             0.001167\n",
              "dtype: float64"
            ]
          },
          "metadata": {
            "tags": []
          },
          "execution_count": 40
        }
      ]
    },
    {
      "cell_type": "code",
      "metadata": {
        "id": "loose-retail"
      },
      "source": [
        "shape"
      ],
      "id": "loose-retail",
      "execution_count": null,
      "outputs": []
    }
  ]
}