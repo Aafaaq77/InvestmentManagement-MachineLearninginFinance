{
  "nbformat": 4,
  "nbformat_minor": 5,
  "metadata": {
    "kernelspec": {
      "display_name": "Python 3",
      "language": "python",
      "name": "python3"
    },
    "language_info": {
      "codemirror_mode": {
        "name": "ipython",
        "version": 3
      },
      "file_extension": ".py",
      "mimetype": "text/x-python",
      "name": "python",
      "nbconvert_exporter": "python",
      "pygments_lexer": "ipython3",
      "version": "3.7.9"
    },
    "colab": {
      "name": "Copy of EfficientFrontierpart2.ipynb",
      "provenance": [],
      "collapsed_sections": []
    }
  },
  "cells": [
    {
      "cell_type": "markdown",
      "metadata": {
        "id": "local-distance"
      },
      "source": [
        "# Efficient Frontier Part 2"
      ],
      "id": "local-distance"
    },
    {
      "cell_type": "code",
      "metadata": {
        "id": "biblical-launch",
        "outputId": "ceefaf9a-2f1c-4da4-e6e8-1a1d555571eb"
      },
      "source": [
        "%load_ext autoreload\n",
        "%autoreload 2\n",
        "%matplotlib inline\n",
        "import edhec_risk_kit as erk\n",
        "\n",
        "ind = erk.get_ind_returns()\n",
        "er = erk.annualize_rets(ind['1996':'2000'], 12)\n",
        "cov = ind['1996':'2000'].cov()"
      ],
      "id": "biblical-launch",
      "execution_count": null,
      "outputs": [
        {
          "output_type": "stream",
          "text": [
            "The autoreload extension is already loaded. To reload it, use:\n",
            "  %reload_ext autoreload\n"
          ],
          "name": "stdout"
        }
      ]
    },
    {
      "cell_type": "code",
      "metadata": {
        "id": "unsigned-episode"
      },
      "source": [
        "def portfolio_return(weights, returns):\n",
        "    '''\n",
        "    Weights -> Returns\n",
        "    '''\n",
        "    return weights.T @ returns\n",
        "\n",
        "def portfolio_vol(weights, covmat):\n",
        "    '''\n",
        "    Weights -> Vol\n",
        "    '''\n",
        "    return (weights.T @ covmat @ weights) ** 0.5"
      ],
      "id": "unsigned-episode",
      "execution_count": null,
      "outputs": []
    },
    {
      "cell_type": "code",
      "metadata": {
        "id": "handmade-criterion",
        "outputId": "61ebc820-f6c6-49d4-e29b-99e51ed72ab5"
      },
      "source": [
        "l = ['Food', 'Beer', 'Smoke', 'Coal']\n",
        "er[l]"
      ],
      "id": "handmade-criterion",
      "execution_count": null,
      "outputs": [
        {
          "output_type": "execute_result",
          "data": {
            "text/plain": [
              "Food     0.116799\n",
              "Beer     0.141126\n",
              "Smoke    0.107830\n",
              "Coal     0.414689\n",
              "dtype: float64"
            ]
          },
          "metadata": {
            "tags": []
          },
          "execution_count": 3
        }
      ]
    },
    {
      "cell_type": "code",
      "metadata": {
        "id": "convenient-least",
        "outputId": "6188fe03-a0e1-4d5e-e9e8-8ba82a9292f5"
      },
      "source": [
        "cov.loc[l, l]"
      ],
      "id": "convenient-least",
      "execution_count": null,
      "outputs": [
        {
          "output_type": "execute_result",
          "data": {
            "text/html": [
              "<div>\n",
              "<style scoped>\n",
              "    .dataframe tbody tr th:only-of-type {\n",
              "        vertical-align: middle;\n",
              "    }\n",
              "\n",
              "    .dataframe tbody tr th {\n",
              "        vertical-align: top;\n",
              "    }\n",
              "\n",
              "    .dataframe thead th {\n",
              "        text-align: right;\n",
              "    }\n",
              "</style>\n",
              "<table border=\"1\" class=\"dataframe\">\n",
              "  <thead>\n",
              "    <tr style=\"text-align: right;\">\n",
              "      <th></th>\n",
              "      <th>Food</th>\n",
              "      <th>Beer</th>\n",
              "      <th>Smoke</th>\n",
              "      <th>Coal</th>\n",
              "    </tr>\n",
              "  </thead>\n",
              "  <tbody>\n",
              "    <tr>\n",
              "      <th>Food</th>\n",
              "      <td>0.002609</td>\n",
              "      <td>0.002379</td>\n",
              "      <td>0.002061</td>\n",
              "      <td>0.000027</td>\n",
              "    </tr>\n",
              "    <tr>\n",
              "      <th>Beer</th>\n",
              "      <td>0.002379</td>\n",
              "      <td>0.005264</td>\n",
              "      <td>0.001359</td>\n",
              "      <td>0.001728</td>\n",
              "    </tr>\n",
              "    <tr>\n",
              "      <th>Smoke</th>\n",
              "      <td>0.002061</td>\n",
              "      <td>0.001359</td>\n",
              "      <td>0.008349</td>\n",
              "      <td>-0.000733</td>\n",
              "    </tr>\n",
              "    <tr>\n",
              "      <th>Coal</th>\n",
              "      <td>0.000027</td>\n",
              "      <td>0.001728</td>\n",
              "      <td>-0.000733</td>\n",
              "      <td>0.018641</td>\n",
              "    </tr>\n",
              "  </tbody>\n",
              "</table>\n",
              "</div>"
            ],
            "text/plain": [
              "           Food      Beer     Smoke      Coal\n",
              "Food   0.002609  0.002379  0.002061  0.000027\n",
              "Beer   0.002379  0.005264  0.001359  0.001728\n",
              "Smoke  0.002061  0.001359  0.008349 -0.000733\n",
              "Coal   0.000027  0.001728 -0.000733  0.018641"
            ]
          },
          "metadata": {
            "tags": []
          },
          "execution_count": 5
        }
      ]
    },
    {
      "cell_type": "code",
      "metadata": {
        "id": "joined-cheese",
        "outputId": "fd6bcb36-b2ce-4dfc-c92c-88f87fe89e5a"
      },
      "source": [
        "import numpy as np\n",
        "weights = np.repeat(1/4, 4)\n",
        "weights"
      ],
      "id": "joined-cheese",
      "execution_count": null,
      "outputs": [
        {
          "output_type": "execute_result",
          "data": {
            "text/plain": [
              "array([0.25, 0.25, 0.25, 0.25])"
            ]
          },
          "metadata": {
            "tags": []
          },
          "execution_count": 7
        }
      ]
    },
    {
      "cell_type": "code",
      "metadata": {
        "id": "southern-lottery",
        "outputId": "68aea725-24ea-423f-9dfe-7a7495ddf3e6"
      },
      "source": [
        "erk.portfolio_return(weights, er[l])"
      ],
      "id": "southern-lottery",
      "execution_count": null,
      "outputs": [
        {
          "output_type": "execute_result",
          "data": {
            "text/plain": [
              "0.19511097196038385"
            ]
          },
          "metadata": {
            "tags": []
          },
          "execution_count": 8
        }
      ]
    },
    {
      "cell_type": "code",
      "metadata": {
        "id": "outer-exemption",
        "outputId": "827d8f3b-710b-4755-a754-a5f632df0b47"
      },
      "source": [
        "erk.portfolio_vol(weights, cov.loc[l, l])"
      ],
      "id": "outer-exemption",
      "execution_count": null,
      "outputs": [
        {
          "output_type": "execute_result",
          "data": {
            "text/plain": [
              "0.055059195776437045"
            ]
          },
          "metadata": {
            "tags": []
          },
          "execution_count": 9
        }
      ]
    },
    {
      "cell_type": "markdown",
      "metadata": {
        "id": "vertical-throat"
      },
      "source": [
        "# 2 Asset Frontier"
      ],
      "id": "vertical-throat"
    },
    {
      "cell_type": "code",
      "metadata": {
        "id": "clean-chapter"
      },
      "source": [
        "l = ['Games', 'Fin']"
      ],
      "id": "clean-chapter",
      "execution_count": null,
      "outputs": []
    },
    {
      "cell_type": "code",
      "metadata": {
        "id": "intermediate-tunnel",
        "outputId": "f5de249a-9728-4140-c57e-b6fdeca8ff7a"
      },
      "source": [
        "n_points = 20\n",
        "weights = [np.array([w, 1-w]) for w in np.linspace(0, 1, n_points)]\n",
        "weights"
      ],
      "id": "intermediate-tunnel",
      "execution_count": null,
      "outputs": [
        {
          "output_type": "execute_result",
          "data": {
            "text/plain": [
              "[array([0., 1.]),\n",
              " array([0.05263158, 0.94736842]),\n",
              " array([0.10526316, 0.89473684]),\n",
              " array([0.15789474, 0.84210526]),\n",
              " array([0.21052632, 0.78947368]),\n",
              " array([0.26315789, 0.73684211]),\n",
              " array([0.31578947, 0.68421053]),\n",
              " array([0.36842105, 0.63157895]),\n",
              " array([0.42105263, 0.57894737]),\n",
              " array([0.47368421, 0.52631579]),\n",
              " array([0.52631579, 0.47368421]),\n",
              " array([0.57894737, 0.42105263]),\n",
              " array([0.63157895, 0.36842105]),\n",
              " array([0.68421053, 0.31578947]),\n",
              " array([0.73684211, 0.26315789]),\n",
              " array([0.78947368, 0.21052632]),\n",
              " array([0.84210526, 0.15789474]),\n",
              " array([0.89473684, 0.10526316]),\n",
              " array([0.94736842, 0.05263158]),\n",
              " array([1., 0.])]"
            ]
          },
          "metadata": {
            "tags": []
          },
          "execution_count": 11
        }
      ]
    },
    {
      "cell_type": "code",
      "metadata": {
        "id": "warming-auckland",
        "outputId": "6c7c5dad-1c33-4fbc-e46d-9e5cdbfd0b1b"
      },
      "source": [
        "import pandas as pd\n",
        "rets = [erk.portfolio_return(w, er[l]) for w in weights]\n",
        "vols = [erk.portfolio_vol(w, cov.loc[l, l]) for w in weights]\n",
        "ef = pd.DataFrame({'R': rets, 'Vol': vols})\n",
        "ef.plot.scatter(x='Vol', y='R')"
      ],
      "id": "warming-auckland",
      "execution_count": null,
      "outputs": [
        {
          "output_type": "execute_result",
          "data": {
            "text/plain": [
              "<AxesSubplot:xlabel='Vol', ylabel='R'>"
            ]
          },
          "metadata": {
            "tags": []
          },
          "execution_count": 13
        },
        {
          "output_type": "display_data",
          "data": {
            "image/png": "[encoded data removed]",
            "text/plain": [
              "<Figure size 432x288 with 1 Axes>"
            ]
          },
          "metadata": {
            "tags": [],
            "needs_background": "light"
          }
        }
      ]
    },
    {
      "cell_type": "code",
      "metadata": {
        "id": "legislative-photography",
        "outputId": "e6eb18d3-8465-474b-ea9b-5a3a7917cd8f"
      },
      "source": [
        "l = ['Fin', 'Beer']\n",
        "erk.plot_ef2(25, er[l], cov.loc[l, l], style='.')"
      ],
      "id": "legislative-photography",
      "execution_count": null,
      "outputs": [
        {
          "output_type": "execute_result",
          "data": {
            "text/plain": [
              "<AxesSubplot:xlabel='Volatility'>"
            ]
          },
          "metadata": {
            "tags": []
          },
          "execution_count": 20
        },
        {
          "output_type": "display_data",
          "data": {
            "image/png": "[encoded data removed]",
            "text/plain": [
              "<Figure size 432x288 with 1 Axes>"
            ]
          },
          "metadata": {
            "tags": [],
            "needs_background": "light"
          }
        }
      ]
    },
    {
      "cell_type": "code",
      "metadata": {
        "id": "ideal-slovak"
      },
      "source": [
        ""
      ],
      "id": "ideal-slovak",
      "execution_count": null,
      "outputs": []
    }
  ]
}